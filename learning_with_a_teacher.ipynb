{
 "cells": [
  {
   "cell_type": "markdown",
   "metadata": {
    "toc": true
   },
   "source": [
    "<h1>Содержание<span class=\"tocSkip\"></span></h1>\n",
    "<div class=\"toc\"><ul class=\"toc-item\"><li><span><a href=\"#Подготовка-данных\" data-toc-modified-id=\"Подготовка-данных-1\"><span class=\"toc-item-num\">1&nbsp;&nbsp;</span>Подготовка данных</a></span><ul class=\"toc-item\"><li><span><a href=\"#Вывод-по-пункту\" data-toc-modified-id=\"Вывод-по-пункту-1.1\"><span class=\"toc-item-num\">1.1&nbsp;&nbsp;</span>Вывод по пункту</a></span></li></ul></li><li><span><a href=\"#Исследование-задачи\" data-toc-modified-id=\"Исследование-задачи-2\"><span class=\"toc-item-num\">2&nbsp;&nbsp;</span>Исследование задачи</a></span><ul class=\"toc-item\"><li><span><a href=\"#Вывод-по-пункту\" data-toc-modified-id=\"Вывод-по-пункту-2.1\"><span class=\"toc-item-num\">2.1&nbsp;&nbsp;</span>Вывод по пункту</a></span></li></ul></li><li><span><a href=\"#Борьба-с-дисбалансом\" data-toc-modified-id=\"Борьба-с-дисбалансом-3\"><span class=\"toc-item-num\">3&nbsp;&nbsp;</span>Борьба с дисбалансом</a></span><ul class=\"toc-item\"><li><span><a href=\"#Вывод-по-пункту\" data-toc-modified-id=\"Вывод-по-пункту-3.1\"><span class=\"toc-item-num\">3.1&nbsp;&nbsp;</span>Вывод по пункту</a></span></li></ul></li><li><span><a href=\"#Тестирование-модели\" data-toc-modified-id=\"Тестирование-модели-4\"><span class=\"toc-item-num\">4&nbsp;&nbsp;</span>Тестирование модели</a></span><ul class=\"toc-item\"><li><ul class=\"toc-item\"><li><ul class=\"toc-item\"><li><span><a href=\"#🎓-Комментарий-от-студента-(синий)\" data-toc-modified-id=\"🎓-Комментарий-от-студента-(синий)-4.0.0.1\"><span class=\"toc-item-num\">4.0.0.1&nbsp;&nbsp;</span>🎓 <font color=\"SteelBlue\">Комментарий от студента (синий)</font></a></span></li><li><span><a href=\"#🎓-Комментарий-от-студента-(синий)\" data-toc-modified-id=\"🎓-Комментарий-от-студента-(синий)-4.0.0.2\"><span class=\"toc-item-num\">4.0.0.2&nbsp;&nbsp;</span>🎓 <font color=\"SteelBlue\">Комментарий от студента (синий)</font></a></span></li></ul></li></ul></li></ul></li><li><span><a href=\"#Бонус\" data-toc-modified-id=\"Бонус-5\"><span class=\"toc-item-num\">5&nbsp;&nbsp;</span>Бонус</a></span><ul class=\"toc-item\"><li><ul class=\"toc-item\"><li><ul class=\"toc-item\"><li><span><a href=\"#🎓-Комментарий-от-студента-(синий)\" data-toc-modified-id=\"🎓-Комментарий-от-студента-(синий)-5.0.0.1\"><span class=\"toc-item-num\">5.0.0.1&nbsp;&nbsp;</span>🎓 <font color=\"SteelBlue\">Комментарий от студента (синий)</font></a></span></li></ul></li></ul></li></ul></li><li><span><a href=\"#Вывод\" data-toc-modified-id=\"Вывод-6\"><span class=\"toc-item-num\">6&nbsp;&nbsp;</span>Вывод</a></span></li><li><span><a href=\"#Чек-лист-готовности-проекта\" data-toc-modified-id=\"Чек-лист-готовности-проекта-7\"><span class=\"toc-item-num\">7&nbsp;&nbsp;</span>Чек-лист готовности проекта</a></span></li></ul></div>"
   ]
  },
  {
   "cell_type": "markdown",
   "metadata": {},
   "source": [
    "# Отток клиентов"
   ]
  },
  {
   "cell_type": "markdown",
   "metadata": {},
   "source": [
    "Из «Бета-Банка» стали уходить клиенты. Каждый месяц. Немного, но заметно. Банковские маркетологи посчитали: сохранять текущих клиентов дешевле, чем привлекать новых.\n",
    "\n",
    "Нужно спрогнозировать, уйдёт клиент из банка в ближайшее время или нет. Вам предоставлены исторические данные о поведении клиентов и расторжении договоров с банком. \n",
    "\n",
    "Постройте модель с предельно большим значением *F1*-меры. Чтобы сдать проект успешно, нужно довести метрику до 0.59. Проверьте *F1*-меру на тестовой выборке самостоятельно.\n",
    "\n",
    "Дополнительно измеряйте *AUC-ROC*, сравнивайте её значение с *F1*-мерой.\n",
    "\n",
    "Источник данных: [https://www.kaggle.com/barelydedicated/bank-customer-churn-modeling](https://www.kaggle.com/barelydedicated/bank-customer-churn-modeling)"
   ]
  },
  {
   "cell_type": "markdown",
   "metadata": {},
   "source": [
    "## Подготовка данных"
   ]
  },
  {
   "cell_type": "markdown",
   "metadata": {},
   "source": [
    "Столбцы из DF:\n",
    "- 1) RowNumber — индекс строки в данных\n",
    "- 2) CustomerId — уникальный идентификатор клиента\n",
    "- 3) Surname — фамилия\n",
    "- 4) CreditScore — кредитный рейтинг\n",
    "- 5) Geography — страна проживания\n",
    "- 6) Gender — пол\n",
    "- 7) Age — возраст\n",
    "- 8) Tenure — сколько лет человек является клиентом банка\n",
    "- 9) Balance — баланс на счёте\n",
    "- 10) NumOfProducts — количество продуктов банка, используемых клиентом\n",
    "- 11)  HasCrCard — наличие кредитной карты\n",
    "- 12)  IsActiveMember — активность клиента\n",
    "- 13) - EstimatedSalary — предполагаемая зарплата\n",
    "- 14)  Целевой признак\n",
    "- 15)  Exited — факт ухода клиента\n",
    "\n",
    "Не интересны следующие столбцы :\n",
    "- 1) ID\n",
    "- 2) индекс\n",
    "- 3) фамилия"
   ]
  },
  {
   "cell_type": "code",
   "execution_count": 1,
   "metadata": {},
   "outputs": [],
   "source": [
    "# подгрузка библиотек \n",
    "import pandas as pd\n",
    "import seaborn as se\n",
    "import os\n",
    "import matplotlib.pyplot as plt\n",
    "from sklearn.linear_model import LinearRegression\n",
    "from sklearn.tree import DecisionTreeClassifier \n",
    "from sklearn.ensemble import RandomForestClassifier\n",
    "from sklearn.model_selection import train_test_split\n",
    "from sklearn.preprocessing import StandardScaler\n",
    "from sklearn.metrics import f1_score\n",
    "from sklearn.linear_model import LogisticRegression\n",
    "from sklearn.utils import shuffle\n",
    "from sklearn.metrics import roc_curve\n",
    "from sklearn.metrics import roc_auc_score\n",
    "from sklearn.metrics import r2_score"
   ]
  },
  {
   "cell_type": "code",
   "execution_count": 2,
   "metadata": {},
   "outputs": [
    {
     "name": "stdout",
     "output_type": "stream",
     "text": [
      "<class 'pandas.core.frame.DataFrame'>\n",
      "RangeIndex: 10000 entries, 0 to 9999\n",
      "Data columns (total 14 columns):\n",
      " #   Column           Non-Null Count  Dtype  \n",
      "---  ------           --------------  -----  \n",
      " 0   RowNumber        10000 non-null  int64  \n",
      " 1   CustomerId       10000 non-null  int64  \n",
      " 2   Surname          10000 non-null  object \n",
      " 3   CreditScore      10000 non-null  int64  \n",
      " 4   Geography        10000 non-null  object \n",
      " 5   Gender           10000 non-null  object \n",
      " 6   Age              10000 non-null  int64  \n",
      " 7   Tenure           9091 non-null   float64\n",
      " 8   Balance          10000 non-null  float64\n",
      " 9   NumOfProducts    10000 non-null  int64  \n",
      " 10  HasCrCard        10000 non-null  int64  \n",
      " 11  IsActiveMember   10000 non-null  int64  \n",
      " 12  EstimatedSalary  10000 non-null  float64\n",
      " 13  Exited           10000 non-null  int64  \n",
      "dtypes: float64(3), int64(8), object(3)\n",
      "memory usage: 1.1+ MB\n"
     ]
    },
    {
     "data": {
      "text/html": [
       "<div>\n",
       "<style scoped>\n",
       "    .dataframe tbody tr th:only-of-type {\n",
       "        vertical-align: middle;\n",
       "    }\n",
       "\n",
       "    .dataframe tbody tr th {\n",
       "        vertical-align: top;\n",
       "    }\n",
       "\n",
       "    .dataframe thead th {\n",
       "        text-align: right;\n",
       "    }\n",
       "</style>\n",
       "<table border=\"1\" class=\"dataframe\">\n",
       "  <thead>\n",
       "    <tr style=\"text-align: right;\">\n",
       "      <th></th>\n",
       "      <th>RowNumber</th>\n",
       "      <th>CustomerId</th>\n",
       "      <th>Surname</th>\n",
       "      <th>CreditScore</th>\n",
       "      <th>Geography</th>\n",
       "      <th>Gender</th>\n",
       "      <th>Age</th>\n",
       "      <th>Tenure</th>\n",
       "      <th>Balance</th>\n",
       "      <th>NumOfProducts</th>\n",
       "      <th>HasCrCard</th>\n",
       "      <th>IsActiveMember</th>\n",
       "      <th>EstimatedSalary</th>\n",
       "      <th>Exited</th>\n",
       "    </tr>\n",
       "  </thead>\n",
       "  <tbody>\n",
       "    <tr>\n",
       "      <th>0</th>\n",
       "      <td>1</td>\n",
       "      <td>15634602</td>\n",
       "      <td>Hargrave</td>\n",
       "      <td>619</td>\n",
       "      <td>France</td>\n",
       "      <td>Female</td>\n",
       "      <td>42</td>\n",
       "      <td>2.0</td>\n",
       "      <td>0.00</td>\n",
       "      <td>1</td>\n",
       "      <td>1</td>\n",
       "      <td>1</td>\n",
       "      <td>101348.88</td>\n",
       "      <td>1</td>\n",
       "    </tr>\n",
       "    <tr>\n",
       "      <th>1</th>\n",
       "      <td>2</td>\n",
       "      <td>15647311</td>\n",
       "      <td>Hill</td>\n",
       "      <td>608</td>\n",
       "      <td>Spain</td>\n",
       "      <td>Female</td>\n",
       "      <td>41</td>\n",
       "      <td>1.0</td>\n",
       "      <td>83807.86</td>\n",
       "      <td>1</td>\n",
       "      <td>0</td>\n",
       "      <td>1</td>\n",
       "      <td>112542.58</td>\n",
       "      <td>0</td>\n",
       "    </tr>\n",
       "    <tr>\n",
       "      <th>2</th>\n",
       "      <td>3</td>\n",
       "      <td>15619304</td>\n",
       "      <td>Onio</td>\n",
       "      <td>502</td>\n",
       "      <td>France</td>\n",
       "      <td>Female</td>\n",
       "      <td>42</td>\n",
       "      <td>8.0</td>\n",
       "      <td>159660.80</td>\n",
       "      <td>3</td>\n",
       "      <td>1</td>\n",
       "      <td>0</td>\n",
       "      <td>113931.57</td>\n",
       "      <td>1</td>\n",
       "    </tr>\n",
       "    <tr>\n",
       "      <th>3</th>\n",
       "      <td>4</td>\n",
       "      <td>15701354</td>\n",
       "      <td>Boni</td>\n",
       "      <td>699</td>\n",
       "      <td>France</td>\n",
       "      <td>Female</td>\n",
       "      <td>39</td>\n",
       "      <td>1.0</td>\n",
       "      <td>0.00</td>\n",
       "      <td>2</td>\n",
       "      <td>0</td>\n",
       "      <td>0</td>\n",
       "      <td>93826.63</td>\n",
       "      <td>0</td>\n",
       "    </tr>\n",
       "    <tr>\n",
       "      <th>4</th>\n",
       "      <td>5</td>\n",
       "      <td>15737888</td>\n",
       "      <td>Mitchell</td>\n",
       "      <td>850</td>\n",
       "      <td>Spain</td>\n",
       "      <td>Female</td>\n",
       "      <td>43</td>\n",
       "      <td>2.0</td>\n",
       "      <td>125510.82</td>\n",
       "      <td>1</td>\n",
       "      <td>1</td>\n",
       "      <td>1</td>\n",
       "      <td>79084.10</td>\n",
       "      <td>0</td>\n",
       "    </tr>\n",
       "  </tbody>\n",
       "</table>\n",
       "</div>"
      ],
      "text/plain": [
       "   RowNumber  CustomerId   Surname  CreditScore Geography  Gender  Age  \\\n",
       "0          1    15634602  Hargrave          619    France  Female   42   \n",
       "1          2    15647311      Hill          608     Spain  Female   41   \n",
       "2          3    15619304      Onio          502    France  Female   42   \n",
       "3          4    15701354      Boni          699    France  Female   39   \n",
       "4          5    15737888  Mitchell          850     Spain  Female   43   \n",
       "\n",
       "   Tenure    Balance  NumOfProducts  HasCrCard  IsActiveMember  \\\n",
       "0     2.0       0.00              1          1               1   \n",
       "1     1.0   83807.86              1          0               1   \n",
       "2     8.0  159660.80              3          1               0   \n",
       "3     1.0       0.00              2          0               0   \n",
       "4     2.0  125510.82              1          1               1   \n",
       "\n",
       "   EstimatedSalary  Exited  \n",
       "0        101348.88       1  \n",
       "1        112542.58       0  \n",
       "2        113931.57       1  \n",
       "3         93826.63       0  \n",
       "4         79084.10       0  "
      ]
     },
     "metadata": {},
     "output_type": "display_data"
    }
   ],
   "source": [
    "pd.set_option('display.max_columns', 50) #максимальное колличество колонок отображения \n",
    "\n",
    "pth1 = '/datasets/Churn.csv'\n",
    "pth2 = 'Churn.csv'\n",
    "\n",
    "if os.path.exists(pth1):\n",
    "    df = pd.read_csv(pth1)\n",
    "elif os.path.exists(pth2):\n",
    "    df = pd.read_csv(pth2)\n",
    "else:\n",
    "    print('Incorrect file path')\n",
    "\n",
    "\n",
    "df.info()\n",
    "display(df.head())"
   ]
  },
  {
   "cell_type": "markdown",
   "metadata": {},
   "source": [
    "Из инфо можно заметить что не которые столбцы можно преобразовать в другой тип данных"
   ]
  },
  {
   "cell_type": "code",
   "execution_count": 3,
   "metadata": {},
   "outputs": [],
   "source": [
    "df = df.drop(['RowNumber','CustomerId','Surname'],axis=1) #убираються не нужные для нашего иследования столбцы "
   ]
  },
  {
   "cell_type": "code",
   "execution_count": 4,
   "metadata": {},
   "outputs": [
    {
     "name": "stdout",
     "output_type": "stream",
     "text": [
      "Колличество дубликатов в df: 0\n"
     ]
    }
   ],
   "source": [
    "df['Balance'] = df['Balance'].astype(int)\n",
    "df['EstimatedSalary'] = df['EstimatedSalary'].astype(int)\n",
    "\n",
    "df['Tenure'] = df['Tenure'].fillna(0).astype(int)\n",
    "print(f'Колличество дубликатов в df: {df.duplicated().sum()}') #Дубликатов не было обнаруженно "
   ]
  },
  {
   "cell_type": "code",
   "execution_count": 5,
   "metadata": {},
   "outputs": [
    {
     "name": "stdout",
     "output_type": "stream",
     "text": [
      "<class 'pandas.core.frame.DataFrame'>\n",
      "RangeIndex: 10000 entries, 0 to 9999\n",
      "Data columns (total 11 columns):\n",
      " #   Column           Non-Null Count  Dtype \n",
      "---  ------           --------------  ----- \n",
      " 0   CreditScore      10000 non-null  int64 \n",
      " 1   Geography        10000 non-null  object\n",
      " 2   Gender           10000 non-null  object\n",
      " 3   Age              10000 non-null  int64 \n",
      " 4   Tenure           10000 non-null  int32 \n",
      " 5   Balance          10000 non-null  int32 \n",
      " 6   NumOfProducts    10000 non-null  int64 \n",
      " 7   HasCrCard        10000 non-null  int64 \n",
      " 8   IsActiveMember   10000 non-null  int64 \n",
      " 9   EstimatedSalary  10000 non-null  int32 \n",
      " 10  Exited           10000 non-null  int64 \n",
      "dtypes: int32(3), int64(6), object(2)\n",
      "memory usage: 742.3+ KB\n"
     ]
    }
   ],
   "source": [
    "df.info() # проверка"
   ]
  },
  {
   "cell_type": "markdown",
   "metadata": {},
   "source": [
    "### Вывод по пункту\n",
    "В данном пункте было:\n",
    "- прочитан файл с данными\n",
    "- подгруженны библиотеки \n",
    "- Убираються стобцы и изменяеться тип данных"
   ]
  },
  {
   "cell_type": "markdown",
   "metadata": {},
   "source": [
    "## Исследование задачи"
   ]
  },
  {
   "cell_type": "code",
   "execution_count": 6,
   "metadata": {},
   "outputs": [
    {
     "name": "stdout",
     "output_type": "stream",
     "text": [
      "Колличество людей не ушедшие из банка: 7963\n",
      "Колличество людей ушедших из банка 2037\n"
     ]
    },
    {
     "data": {
      "image/png": "[encoded data removed]",
      "text/plain": [
       "<Figure size 432x288 with 1 Axes>"
      ]
     },
     "metadata": {
      "needs_background": "light"
     },
     "output_type": "display_data"
    }
   ],
   "source": [
    "#df['Exited'].hist()\n",
    "se.histplot(data=df['Exited'])\n",
    "plt.grid(True)\n",
    "num_null = (df['Exited'] == 0).sum()\n",
    "num_ed = (df['Exited'] == 1).sum()\n",
    "print(f'Колличество людей не ушедшие из банка: {num_null}')\n",
    "print(f'Колличество людей ушедших из банка {num_ed}')\n",
    "#print(f'Колличество людей ушедвиш: {(df['Exited']==1).sum()}')"
   ]
  },
  {
   "cell_type": "code",
   "execution_count": 7,
   "metadata": {},
   "outputs": [
    {
     "data": {
      "text/html": [
       "<div>\n",
       "<style scoped>\n",
       "    .dataframe tbody tr th:only-of-type {\n",
       "        vertical-align: middle;\n",
       "    }\n",
       "\n",
       "    .dataframe tbody tr th {\n",
       "        vertical-align: top;\n",
       "    }\n",
       "\n",
       "    .dataframe thead th {\n",
       "        text-align: right;\n",
       "    }\n",
       "</style>\n",
       "<table border=\"1\" class=\"dataframe\">\n",
       "  <thead>\n",
       "    <tr style=\"text-align: right;\">\n",
       "      <th></th>\n",
       "      <th>CreditScore</th>\n",
       "      <th>Age</th>\n",
       "      <th>Tenure</th>\n",
       "      <th>Balance</th>\n",
       "      <th>NumOfProducts</th>\n",
       "      <th>HasCrCard</th>\n",
       "      <th>IsActiveMember</th>\n",
       "      <th>EstimatedSalary</th>\n",
       "      <th>Exited</th>\n",
       "    </tr>\n",
       "  </thead>\n",
       "  <tbody>\n",
       "    <tr>\n",
       "      <th>CreditScore</th>\n",
       "      <td>1.000000</td>\n",
       "      <td>-0.003965</td>\n",
       "      <td>0.003087</td>\n",
       "      <td>0.006268</td>\n",
       "      <td>0.012238</td>\n",
       "      <td>-0.005458</td>\n",
       "      <td>0.025651</td>\n",
       "      <td>-0.001384</td>\n",
       "      <td>-0.027094</td>\n",
       "    </tr>\n",
       "    <tr>\n",
       "      <th>Age</th>\n",
       "      <td>-0.003965</td>\n",
       "      <td>1.000000</td>\n",
       "      <td>-0.007368</td>\n",
       "      <td>0.028308</td>\n",
       "      <td>-0.030680</td>\n",
       "      <td>-0.011721</td>\n",
       "      <td>0.085472</td>\n",
       "      <td>-0.007201</td>\n",
       "      <td>0.285323</td>\n",
       "    </tr>\n",
       "    <tr>\n",
       "      <th>Tenure</th>\n",
       "      <td>0.003087</td>\n",
       "      <td>-0.007368</td>\n",
       "      <td>1.000000</td>\n",
       "      <td>-0.005821</td>\n",
       "      <td>0.010106</td>\n",
       "      <td>0.021387</td>\n",
       "      <td>-0.025856</td>\n",
       "      <td>0.011225</td>\n",
       "      <td>-0.013319</td>\n",
       "    </tr>\n",
       "    <tr>\n",
       "      <th>Balance</th>\n",
       "      <td>0.006268</td>\n",
       "      <td>0.028308</td>\n",
       "      <td>-0.005821</td>\n",
       "      <td>1.000000</td>\n",
       "      <td>-0.304179</td>\n",
       "      <td>-0.014858</td>\n",
       "      <td>-0.010084</td>\n",
       "      <td>0.012798</td>\n",
       "      <td>0.118533</td>\n",
       "    </tr>\n",
       "    <tr>\n",
       "      <th>NumOfProducts</th>\n",
       "      <td>0.012238</td>\n",
       "      <td>-0.030680</td>\n",
       "      <td>0.010106</td>\n",
       "      <td>-0.304179</td>\n",
       "      <td>1.000000</td>\n",
       "      <td>0.003183</td>\n",
       "      <td>0.009612</td>\n",
       "      <td>0.014204</td>\n",
       "      <td>-0.047820</td>\n",
       "    </tr>\n",
       "    <tr>\n",
       "      <th>HasCrCard</th>\n",
       "      <td>-0.005458</td>\n",
       "      <td>-0.011721</td>\n",
       "      <td>0.021387</td>\n",
       "      <td>-0.014858</td>\n",
       "      <td>0.003183</td>\n",
       "      <td>1.000000</td>\n",
       "      <td>-0.011866</td>\n",
       "      <td>-0.009933</td>\n",
       "      <td>-0.007138</td>\n",
       "    </tr>\n",
       "    <tr>\n",
       "      <th>IsActiveMember</th>\n",
       "      <td>0.025651</td>\n",
       "      <td>0.085472</td>\n",
       "      <td>-0.025856</td>\n",
       "      <td>-0.010084</td>\n",
       "      <td>0.009612</td>\n",
       "      <td>-0.011866</td>\n",
       "      <td>1.000000</td>\n",
       "      <td>-0.011421</td>\n",
       "      <td>-0.156128</td>\n",
       "    </tr>\n",
       "    <tr>\n",
       "      <th>EstimatedSalary</th>\n",
       "      <td>-0.001384</td>\n",
       "      <td>-0.007201</td>\n",
       "      <td>0.011225</td>\n",
       "      <td>0.012798</td>\n",
       "      <td>0.014204</td>\n",
       "      <td>-0.009933</td>\n",
       "      <td>-0.011421</td>\n",
       "      <td>1.000000</td>\n",
       "      <td>0.012097</td>\n",
       "    </tr>\n",
       "    <tr>\n",
       "      <th>Exited</th>\n",
       "      <td>-0.027094</td>\n",
       "      <td>0.285323</td>\n",
       "      <td>-0.013319</td>\n",
       "      <td>0.118533</td>\n",
       "      <td>-0.047820</td>\n",
       "      <td>-0.007138</td>\n",
       "      <td>-0.156128</td>\n",
       "      <td>0.012097</td>\n",
       "      <td>1.000000</td>\n",
       "    </tr>\n",
       "  </tbody>\n",
       "</table>\n",
       "</div>"
      ],
      "text/plain": [
       "                 CreditScore       Age    Tenure   Balance  NumOfProducts  \\\n",
       "CreditScore         1.000000 -0.003965  0.003087  0.006268       0.012238   \n",
       "Age                -0.003965  1.000000 -0.007368  0.028308      -0.030680   \n",
       "Tenure              0.003087 -0.007368  1.000000 -0.005821       0.010106   \n",
       "Balance             0.006268  0.028308 -0.005821  1.000000      -0.304179   \n",
       "NumOfProducts       0.012238 -0.030680  0.010106 -0.304179       1.000000   \n",
       "HasCrCard          -0.005458 -0.011721  0.021387 -0.014858       0.003183   \n",
       "IsActiveMember      0.025651  0.085472 -0.025856 -0.010084       0.009612   \n",
       "EstimatedSalary    -0.001384 -0.007201  0.011225  0.012798       0.014204   \n",
       "Exited             -0.027094  0.285323 -0.013319  0.118533      -0.047820   \n",
       "\n",
       "                 HasCrCard  IsActiveMember  EstimatedSalary    Exited  \n",
       "CreditScore      -0.005458        0.025651        -0.001384 -0.027094  \n",
       "Age              -0.011721        0.085472        -0.007201  0.285323  \n",
       "Tenure            0.021387       -0.025856         0.011225 -0.013319  \n",
       "Balance          -0.014858       -0.010084         0.012798  0.118533  \n",
       "NumOfProducts     0.003183        0.009612         0.014204 -0.047820  \n",
       "HasCrCard         1.000000       -0.011866        -0.009933 -0.007138  \n",
       "IsActiveMember   -0.011866        1.000000        -0.011421 -0.156128  \n",
       "EstimatedSalary  -0.009933       -0.011421         1.000000  0.012097  \n",
       "Exited           -0.007138       -0.156128         0.012097  1.000000  "
      ]
     },
     "metadata": {},
     "output_type": "display_data"
    }
   ],
   "source": [
    "display(df.corr()) "
   ]
  },
  {
   "cell_type": "markdown",
   "metadata": {},
   "source": [
    "Как можно заметить что корреляция между уходами из банка и другими факторами являються слишком малло кореллирование, наибольшее значение корреляции имееться у столбца возраст из-за этого строиться график"
   ]
  },
  {
   "cell_type": "code",
   "execution_count": 8,
   "metadata": {},
   "outputs": [
    {
     "data": {
      "image/png": "[encoded data removed]",
      "text/plain": [
       "<Figure size 1440x648 with 1 Axes>"
      ]
     },
     "metadata": {
      "needs_background": "light"
     },
     "output_type": "display_data"
    }
   ],
   "source": [
    "piv_age_exit = df.pivot_table(index='Age',\n",
    "                             values = 'Exited',\n",
    "                             aggfunc = 'sum')\n",
    "piv_age_exit.plot(kind='bar',figsize = (20,9),\n",
    "                  title='Колличество показанных фильмов в кинотеатре от года',\n",
    "                  grid=True, legend=True,\n",
    "                  xlabel='Возраст',ylabel='Колличество ушедших людей из банка',\n",
    "                  fontsize = 10, y = 'Exited')\n",
    "plt.show()"
   ]
  },
  {
   "cell_type": "markdown",
   "metadata": {},
   "source": [
    "### Вывод по пункту\n",
    "- Была построенна гистограмма по столбцу Exited, на которой замететн сильный расбаланс в 4 раза\n",
    "- Проверенна корелляция между столцами наибольшее среди всех корелляция возраст и уход, но все скорее связь не явная состоит между факторами  "
   ]
  },
  {
   "cell_type": "markdown",
   "metadata": {},
   "source": [
    "## Борьба с дисбалансом"
   ]
  },
  {
   "cell_type": "code",
   "execution_count": 9,
   "metadata": {},
   "outputs": [],
   "source": [
    "df_ohe=pd.get_dummies(df,drop_first=True) #убираються категориальные признаки"
   ]
  },
  {
   "cell_type": "code",
   "execution_count": 10,
   "metadata": {},
   "outputs": [
    {
     "name": "stdout",
     "output_type": "stream",
     "text": [
      "(2000, 11)\n",
      "(6400, 11)\n",
      "(1600, 11)\n"
     ]
    }
   ],
   "source": [
    "target = df_ohe['Exited'] \n",
    "features = df_ohe.drop(['Exited'],axis=1)\n",
    "\n",
    "features_train_valid, features_test,target_train_valid, target_test = train_test_split(\n",
    "    features,target, test_size=0.2,random_state=1234)\n",
    "\n",
    "\n",
    "features_train,features_valid,target_train,target_valid=train_test_split(\n",
    "    features_train_valid,target_train_valid,test_size=0.2,random_state=1234)\n",
    "print(features_test.shape)\n",
    "print(features_train.shape)\n",
    "print(features_valid.shape)"
   ]
  },
  {
   "cell_type": "code",
   "execution_count": 11,
   "metadata": {
    "scrolled": true
   },
   "outputs": [],
   "source": [
    "numeric=['CreditScore','Age','Tenure','Balance','NumOfProducts','HasCrCard','IsActiveMember','EstimatedSalary']\n",
    "\n",
    "# Стандартизация выборок \n",
    "\n",
    "scaler=StandardScaler()\n",
    "scaler.fit(features_train[numeric])\n",
    "features_train[numeric] = scaler.transform(features_train[numeric])\n",
    "features_valid[numeric] = scaler.transform(features_valid[numeric])\n",
    "features_test[numeric]  = scaler.transform(features_test[numeric])\n"
   ]
  },
  {
   "cell_type": "code",
   "execution_count": 12,
   "metadata": {},
   "outputs": [
    {
     "name": "stdout",
     "output_type": "stream",
     "text": [
      "Решающее дерево\n",
      "Максимальное значение F1 :0.54, при глубине : 9\n",
      "R2: 0.849\n"
     ]
    }
   ],
   "source": [
    "max_f_one_t, depth, model_t =0,0,None\n",
    "for dep in range(1,20):\n",
    "    model = DecisionTreeClassifier(random_state=12345, max_depth=dep)\n",
    "    model.fit(features_train,target_train)\n",
    "    pred = model.predict(features_valid)\n",
    "    f_one = f1_score(target_valid,pred)\n",
    "    if f_one>max_f_one_t:\n",
    "        max_f_one_t = f_one\n",
    "        depth = dep\n",
    "        model_t = model\n",
    "r2_tre = model_t.score(features_valid, target_valid).round(3)\n",
    "\n",
    "print('Решающее дерево')\n",
    "print(f'Максимальное значение F1 :{max_f_one_t:.3}, при глубине : {depth}')\n",
    "print('R2:',r2_tre)"
   ]
  },
  {
   "cell_type": "code",
   "execution_count": 13,
   "metadata": {},
   "outputs": [
    {
     "name": "stdout",
     "output_type": "stream",
     "text": [
      "Рандомный лес\n",
      "Значение F1 :0.596 при глубине : 12 и колличестве 23\n",
      "R2: 0.864\n"
     ]
    }
   ],
   "source": [
    "max_f_one_f, depth, n_estim, model_f=0,0,0,None\n",
    "for dep in range(1,15):\n",
    "    for n_est in range(2,50,3):\n",
    "        model = RandomForestClassifier(random_state=12345, max_depth=dep,n_estimators = n_est)\n",
    "        model.fit(features_train,target_train)\n",
    "        pred = model.predict(features_valid)\n",
    "        f_one = f1_score(target_valid,pred)\n",
    "        if f_one>max_f_one_f:\n",
    "            max_f_one_f = f_one\n",
    "            depth = dep\n",
    "            n_estim = n_est\n",
    "            model_f = model\n",
    "r2_for = model_f.score(features_valid, target_valid).round(3)\n",
    "                       \n",
    "print('Рандомный лес')\n",
    "print(f'Значение F1 :{max_f_one_f:.3} при глубине : {depth} и колличестве {n_estim}')\n",
    "print('R2:',r2_for)"
   ]
  },
  {
   "cell_type": "code",
   "execution_count": 3,
   "metadata": {},
   "outputs": [
    {
     "ename": "NameError",
     "evalue": "name 'pd' is not defined",
     "output_type": "error",
     "traceback": [
      "\u001b[1;31m---------------------------------------------------------------------------\u001b[0m",
      "\u001b[1;31mNameError\u001b[0m                                 Traceback (most recent call last)",
      "Input \u001b[1;32mIn [3]\u001b[0m, in \u001b[0;36m<cell line: 1>\u001b[1;34m()\u001b[0m\n\u001b[1;32m----> 1\u001b[0m df_disb \u001b[38;5;241m=\u001b[39m \u001b[43mpd\u001b[49m\u001b[38;5;241m.\u001b[39mDataFrame(data \u001b[38;5;241m=\u001b[39m {\u001b[38;5;124m'\u001b[39m\u001b[38;5;124mF1\u001b[39m\u001b[38;5;124m'\u001b[39m:[max_f_one_t\u001b[38;5;241m.\u001b[39mround(\u001b[38;5;241m3\u001b[39m), max_f_one_f\u001b[38;5;241m.\u001b[39mround(\u001b[38;5;241m3\u001b[39m)],\n\u001b[0;32m      2\u001b[0m                                \u001b[38;5;124m'\u001b[39m\u001b[38;5;124mR2\u001b[39m\u001b[38;5;124m'\u001b[39m:[r2_tre,r2_for]},\n\u001b[0;32m      3\u001b[0m                       index \u001b[38;5;241m=\u001b[39m [\u001b[38;5;124m'\u001b[39m\u001b[38;5;124mДерево решения\u001b[39m\u001b[38;5;124m'\u001b[39m,\u001b[38;5;124m'\u001b[39m\u001b[38;5;124mРандомный лес\u001b[39m\u001b[38;5;124m'\u001b[39m])\n\u001b[0;32m      4\u001b[0m display(df_disb)\n",
      "\u001b[1;31mNameError\u001b[0m: name 'pd' is not defined"
     ]
    }
   ],
   "source": [
    "df_disb = pd.DataFrame(data = {'F1':[max_f_one_t.round(3), max_f_one_f.round(3)],\n",
    "                               'R2':[r2_tre,r2_for]},\n",
    "                      index = ['Дерево решения','Рандомный лес'])\n",
    "display(df_disb)"
   ]
  },
  {
   "cell_type": "markdown",
   "metadata": {},
   "source": [
    "Сверху было проведенно обучение и решения задачи с небалансированной выборкой , как видноиз таблицы выше, максималное значение у рандомного леса 0,595 значение являеться маленьким для решения задачи"
   ]
  },
  {
   "cell_type": "code",
   "execution_count": 16,
   "metadata": {},
   "outputs": [
    {
     "data": {
      "text/plain": [
       "(6400, 11)"
      ]
     },
     "execution_count": 16,
     "metadata": {},
     "output_type": "execute_result"
    }
   ],
   "source": [
    "features_train.shape # Изначальный размер"
   ]
  },
  {
   "cell_type": "code",
   "execution_count": 17,
   "metadata": {},
   "outputs": [],
   "source": [
    "def upsampling (fea,tar,repeat):\n",
    "    target_one = tar[tar==1]\n",
    "    target_null = tar[tar==0]\n",
    "    features_one = fea[tar==1]\n",
    "    features_null = fea[tar==0]\n",
    "    \n",
    "    features_upsampling = pd.concat([features_null]+[features_one]*repeat)\n",
    "    target_upsampling = pd.concat([target_null]+[target_one]*repeat)\n",
    "\n",
    "    features_upsampling,target_upsampling = shuffle(features_upsampling,target_upsampling,random_state=1234)\n",
    "    \n",
    "    return features_upsampling,target_upsampling"
   ]
  },
  {
   "cell_type": "code",
   "execution_count": 18,
   "metadata": {},
   "outputs": [
    {
     "data": {
      "text/plain": [
       "(12900, 11)"
      ]
     },
     "execution_count": 18,
     "metadata": {},
     "output_type": "execute_result"
    }
   ],
   "source": [
    "features_bal_up,target_bal_up = upsampling(features_train,target_train,6)\n",
    "features_bal_up.shape # Увеличенный размер "
   ]
  },
  {
   "cell_type": "code",
   "execution_count": 19,
   "metadata": {},
   "outputs": [],
   "source": [
    "def downsampling(features,target,fraction):\n",
    "    features_null = features[target==0]\n",
    "    features_one = features[target==1]\n",
    "    target_null = target[target==0]\n",
    "    target_one = target[target==1]\n",
    "    \n",
    "    features_downsampling = pd.concat([features_null.sample(frac=fraction,random_state=1234)]+[features_one])\n",
    "    target_downsampling = pd.concat([target_null.sample(frac=fraction,random_state=1234)]+[target_one])\n",
    "    \n",
    "    features_downsampling,target_downsampling = shuffle(features_downsampling,target_downsampling,random_state=1234)\n",
    "    return features_downsampling,target_downsampling\n"
   ]
  },
  {
   "cell_type": "code",
   "execution_count": 20,
   "metadata": {},
   "outputs": [
    {
     "data": {
      "text/plain": [
       "(2830, 11)"
      ]
     },
     "execution_count": 20,
     "metadata": {},
     "output_type": "execute_result"
    }
   ],
   "source": [
    "features_bal_dow,target_bal_dow = downsampling(features_train,target_train,0.3)\n",
    "features_bal_dow.shape # Уменьшенный размер  "
   ]
  },
  {
   "cell_type": "markdown",
   "metadata": {},
   "source": [
    "В коде выше было написано две функции использующиее для балансировки (борьбы с дисбалансом) Одна увеличивающая значение выборки а вторая уменьшает значение выборки "
   ]
  },
  {
   "cell_type": "code",
   "execution_count": 21,
   "metadata": {},
   "outputs": [
    {
     "name": "stdout",
     "output_type": "stream",
     "text": [
      "При увелечении значения выборки для решающего дерева\n",
      "Максимальное значение F1 :0.569, при глубине : 8\n",
      "Значения R2: 0.75\n"
     ]
    }
   ],
   "source": [
    "max_tre_one_up, depth =0,0\n",
    "model_t_up = None\n",
    "for dep in range(1,20):\n",
    "    model = DecisionTreeClassifier(random_state=12345, max_depth=dep)\n",
    "    model.fit(features_bal_up,target_bal_up)\n",
    "    pred = model.predict(features_valid)\n",
    "    f_one = f1_score(target_valid,pred)\n",
    "    if f_one>max_tre_one_up:\n",
    "        max_tre_one_up = f_one\n",
    "        depth = dep\n",
    "        model_t_up = model\n",
    "        \n",
    "r2_tre_up = model_t_up.score(features_valid, target_valid)\n",
    "model_tree = model_t_up\n",
    "print('При увелечении значения выборки для решающего дерева')\n",
    "print(f'Максимальное значение F1 :{max_tre_one_up:.3}, при глубине : {depth}')\n",
    "print('Значения R2:',r2_tre_up)"
   ]
  },
  {
   "cell_type": "code",
   "execution_count": 22,
   "metadata": {},
   "outputs": [
    {
     "name": "stdout",
     "output_type": "stream",
     "text": [
      "При уменьшении значения выборки для решающего дерева\n",
      "Значение F1 :0.577, при глубине : 7\n",
      "Значения R2: 0.8\n"
     ]
    }
   ],
   "source": [
    "max_tre_one_dow, depth =0,0\n",
    "model_t_dow = None\n",
    "for dep in range(1,20):\n",
    "    model = DecisionTreeClassifier(random_state=12345, max_depth=dep)\n",
    "    model.fit(features_bal_dow,target_bal_dow)\n",
    "    pred = model.predict(features_valid)\n",
    "    f_one = f1_score(target_valid,pred)\n",
    "    if f_one>max_tre_one_dow:\n",
    "        max_tre_one_dow = f_one\n",
    "        depth = dep\n",
    "        model_t_dow = model\n",
    "        \n",
    "r2_tre_dow = model_t_dow.score(features_valid, target_valid)\n",
    "\n",
    "print('При уменьшении значения выборки для решающего дерева')\n",
    "print(f'Значение F1 :{max_tre_one_dow:.3}, при глубине : {depth}')\n",
    "print('Значения R2:',r2_tre_dow)"
   ]
  },
  {
   "cell_type": "code",
   "execution_count": 23,
   "metadata": {},
   "outputs": [
    {
     "name": "stdout",
     "output_type": "stream",
     "text": [
      "При увелечении значения выборки для случайного леса\n",
      "Значение F1 :0.627 при глубине : 13 и колличестве 23\n",
      "Значения R2: 0.833125\n"
     ]
    }
   ],
   "source": [
    "max_for_one_up, depth, n_estim =0,0,0\n",
    "model_f_up = None\n",
    "\n",
    "for dep in range(1,15):\n",
    "    for n_est in range(2,50,3):\n",
    "        model = RandomForestClassifier(random_state=12345, max_depth=dep,n_estimators = n_est)\n",
    "        model.fit(features_bal_up,target_bal_up)\n",
    "        pred = model.predict(features_valid)\n",
    "        f_one = f1_score(target_valid,pred)\n",
    "        if f_one>max_for_one_up:\n",
    "            max_for_one_up = f_one\n",
    "            depth = dep\n",
    "            n_estim = n_est\n",
    "            model_f_up = model\n",
    "            \n",
    "model_forest = RandomForestClassifier(random_state=12345, max_depth=depth,n_estimators = n_estim).fit(features_bal_up,target_bal_up)\n",
    "r2_for_up = model_forest.score(features_valid, target_valid)\n",
    "print('При увелечении значения выборки для случайного леса')\n",
    "print(f'Значение F1 :{max_for_one_up:.3} при глубине : {depth} и колличестве {n_estim}')\n",
    "print('Значения R2:',r2_for_up)\n"
   ]
  },
  {
   "cell_type": "code",
   "execution_count": 24,
   "metadata": {},
   "outputs": [
    {
     "name": "stdout",
     "output_type": "stream",
     "text": [
      "При уменьшении значения выборки для случайного леса \n",
      "Значение F1 :0.613 при глубине : 10 и колличестве 44\n",
      "Значения R2: 0.813125\n"
     ]
    }
   ],
   "source": [
    "max_for_one_dow, depth, n_estim =0,0,0\n",
    "model_f_dow = None\n",
    "\n",
    "for dep in range(1,15):\n",
    "    for n_est in range(2,50,3):\n",
    "        model = RandomForestClassifier(random_state=12345, max_depth=dep,n_estimators = n_est)\n",
    "        model.fit(features_bal_dow,target_bal_dow)\n",
    "        pred = model.predict(features_valid)\n",
    "        f_one = f1_score(target_valid,pred)\n",
    "        if f_one>max_for_one_dow:\n",
    "            max_for_one_dow = f_one\n",
    "            depth = dep\n",
    "            n_estim = n_est\n",
    "            model_f_dow = model\n",
    "\n",
    "r2_for_dow = model_f_dow.score(features_valid, target_valid)\n",
    "\n",
    "print('При уменьшении значения выборки для случайного леса ')\n",
    "print(f'Значение F1 :{max_for_one_dow:.3} при глубине : {depth} и колличестве {n_estim}')\n",
    "print('Значения R2:',r2_for_dow)"
   ]
  },
  {
   "cell_type": "code",
   "execution_count": 25,
   "metadata": {},
   "outputs": [
    {
     "name": "stdout",
     "output_type": "stream",
     "text": [
      "При увелечении значения выборки для логической регрессии\n",
      "Значение F1: 0.4646288209606987\n",
      "Значение R2: 0.616875\n"
     ]
    }
   ],
   "source": [
    "model_logis_up=LogisticRegression().fit(features_bal_up,target_bal_up)\n",
    "pred = model_logis_up.predict(features_valid)\n",
    "log_f1_up = f1_score(target_valid,pred)\n",
    "r2_log_up = model_logis_up.score(features_valid, target_valid)\n",
    "\n",
    "print('При увелечении значения выборки для логической регрессии')\n",
    "print('Значение F1:',log_f1_up)\n",
    "print('Значение R2:',r2_log_up)"
   ]
  },
  {
   "cell_type": "code",
   "execution_count": 26,
   "metadata": {},
   "outputs": [
    {
     "name": "stdout",
     "output_type": "stream",
     "text": [
      "При уменьшении значения выборки для логической регрессии\n",
      "Значение F1: 0.507177033492823\n",
      "Значение R2: 0.7425\n"
     ]
    }
   ],
   "source": [
    "model_logis_dow = LogisticRegression().fit(features_bal_dow,target_bal_dow)\n",
    "pred = model_logis_dow.predict(features_valid)\n",
    "log_f1_dow = f1_score(target_valid,pred)\n",
    "r2_log_dow = model_logis_dow.score(features_valid, target_valid)\n",
    "\n",
    "print('При уменьшении значения выборки для логической регрессии')\n",
    "print('Значение F1:',log_f1_dow)\n",
    "print('Значение R2:',r2_log_dow)"
   ]
  },
  {
   "cell_type": "code",
   "execution_count": 27,
   "metadata": {},
   "outputs": [
    {
     "data": {
      "text/html": [
       "<div>\n",
       "<style scoped>\n",
       "    .dataframe tbody tr th:only-of-type {\n",
       "        vertical-align: middle;\n",
       "    }\n",
       "\n",
       "    .dataframe tbody tr th {\n",
       "        vertical-align: top;\n",
       "    }\n",
       "\n",
       "    .dataframe thead th {\n",
       "        text-align: right;\n",
       "    }\n",
       "</style>\n",
       "<table border=\"1\" class=\"dataframe\">\n",
       "  <thead>\n",
       "    <tr style=\"text-align: right;\">\n",
       "      <th></th>\n",
       "      <th>F1</th>\n",
       "      <th>R2</th>\n",
       "    </tr>\n",
       "  </thead>\n",
       "  <tbody>\n",
       "    <tr>\n",
       "      <th>Дерево решения с увелечением</th>\n",
       "      <td>0.569</td>\n",
       "      <td>0.750</td>\n",
       "    </tr>\n",
       "    <tr>\n",
       "      <th>Дерево решения с уменьшением</th>\n",
       "      <td>0.577</td>\n",
       "      <td>0.800</td>\n",
       "    </tr>\n",
       "    <tr>\n",
       "      <th>Рандомный лес с увелечением</th>\n",
       "      <td>0.627</td>\n",
       "      <td>0.833</td>\n",
       "    </tr>\n",
       "    <tr>\n",
       "      <th>Рандомный лес с уменьшением</th>\n",
       "      <td>0.613</td>\n",
       "      <td>0.813</td>\n",
       "    </tr>\n",
       "    <tr>\n",
       "      <th>Логическая регрессия с увелечением</th>\n",
       "      <td>0.465</td>\n",
       "      <td>0.617</td>\n",
       "    </tr>\n",
       "    <tr>\n",
       "      <th>Логическая регрессия с уменьшением</th>\n",
       "      <td>0.507</td>\n",
       "      <td>0.742</td>\n",
       "    </tr>\n",
       "  </tbody>\n",
       "</table>\n",
       "</div>"
      ],
      "text/plain": [
       "                                       F1     R2\n",
       "Дерево решения с увелечением        0.569  0.750\n",
       "Дерево решения с уменьшением        0.577  0.800\n",
       "Рандомный лес с увелечением         0.627  0.833\n",
       "Рандомный лес с уменьшением         0.613  0.813\n",
       "Логическая регрессия с увелечением  0.465  0.617\n",
       "Логическая регрессия с уменьшением  0.507  0.742"
      ]
     },
     "metadata": {},
     "output_type": "display_data"
    }
   ],
   "source": [
    "df_dow_up = pd.DataFrame(data = {'F1':[max_tre_one_up.round(3), max_tre_one_dow.round(3),\n",
    "                                       max_for_one_up.round(3), max_for_one_dow.round(3),\n",
    "                                       log_f1_up.round(3), log_f1_dow.round(3)],\n",
    "                                 'R2':[r2_tre_up.round(3),r2_tre_dow.round(3),\n",
    "                                       r2_for_up.round(3),r2_for_dow.round(3),\n",
    "                                       r2_log_up.round(3),r2_log_dow.round(3)]},\n",
    "                         index = ['Дерево решения с увелечением','Дерево решения с уменьшением',\n",
    "                                  'Рандомный лес с увелечением','Рандомный лес с уменьшением',\n",
    "                                  'Логическая регрессия с увелечением','Логическая регрессия с уменьшением'])\n",
    "display(df_dow_up)"
   ]
  },
  {
   "cell_type": "markdown",
   "metadata": {},
   "source": [
    "### Вывод по пункту \n",
    "В данном пункте было реализованно:\n",
    "- две функции одна увеличивающая значение другая уменьшающая значение выборки, наиболее плохо показали данные которые были уменьшены (в 2 раза хуже)\n",
    "- Произведенно обучение на двух разных выборках и было найденно то что лучшая модель являеться Рандомный лесс с у величенной выборкой "
   ]
  },
  {
   "cell_type": "markdown",
   "metadata": {},
   "source": [
    "## Тестирование модели"
   ]
  },
  {
   "cell_type": "markdown",
   "metadata": {},
   "source": [
    "В данном пункте будут находиться площадь под кривой ROC (кривая ошибок), а также построенные графики ROC для лучших моделей обученных выше "
   ]
  },
  {
   "cell_type": "code",
   "execution_count": 28,
   "metadata": {},
   "outputs": [
    {
     "name": "stdout",
     "output_type": "stream",
     "text": [
      "Значение решающего дерева на тестовой выборке\n",
      "F1 : 0.591743119266055 и R2: 0.822\n"
     ]
    }
   ],
   "source": [
    "print('Значение решающего дерева на тестовой выборке')\n",
    "pred = model_f_up.predict(features_test)\n",
    "for_f1_test = f1_score(target_test,pred)\n",
    "r2_for_test = model_f_up.score(features_test, target_test)\n",
    "print(f'F1 : {for_f1_test} и R2: {r2_for_test}')"
   ]
  },
  {
   "cell_type": "code",
   "execution_count": 29,
   "metadata": {},
   "outputs": [],
   "source": [
    "probab_tree = model_tree.predict_proba(features_valid)\n",
    "probab_one_valid_tree = probab_tree[:,1]\n",
    "fpr_tree,tpr_tree,thresholds = roc_curve(target_valid,probab_one_valid_tree)\n",
    "auc_roc_tree = roc_auc_score(target_valid,probab_one_valid_tree)"
   ]
  },
  {
   "cell_type": "code",
   "execution_count": 30,
   "metadata": {},
   "outputs": [],
   "source": [
    "probab_forest = model_forest.predict_proba(features_valid)\n",
    "probab_one_valid_forest = probab_forest[:,1]\n",
    "fpr_forest,tpr_forest,thresholds_forest = roc_curve(target_valid,probab_one_valid_forest)\n",
    "auc_roc_forest = roc_auc_score(target_valid,probab_one_valid_forest)"
   ]
  },
  {
   "cell_type": "code",
   "execution_count": 31,
   "metadata": {},
   "outputs": [],
   "source": [
    "probab_logis = model_logis_dow.predict_proba(features_valid)\n",
    "probab_one_valid_logis = probab_logis[:,1]\n",
    "fpr_logis,tpr_logis,thresholds_logis = roc_curve(target_valid,probab_one_valid_logis)\n",
    "auc_roc_logis = roc_auc_score(target_valid,probab_one_valid_logis)"
   ]
  },
  {
   "cell_type": "code",
   "execution_count": 32,
   "metadata": {},
   "outputs": [
    {
     "data": {
      "text/html": [
       "<div>\n",
       "<style scoped>\n",
       "    .dataframe tbody tr th:only-of-type {\n",
       "        vertical-align: middle;\n",
       "    }\n",
       "\n",
       "    .dataframe tbody tr th {\n",
       "        vertical-align: top;\n",
       "    }\n",
       "\n",
       "    .dataframe thead th {\n",
       "        text-align: right;\n",
       "    }\n",
       "</style>\n",
       "<table border=\"1\" class=\"dataframe\">\n",
       "  <thead>\n",
       "    <tr style=\"text-align: right;\">\n",
       "      <th></th>\n",
       "      <th>auc_roc</th>\n",
       "    </tr>\n",
       "  </thead>\n",
       "  <tbody>\n",
       "    <tr>\n",
       "      <th>Решающее дерево</th>\n",
       "      <td>0.839</td>\n",
       "    </tr>\n",
       "    <tr>\n",
       "      <th>Рандомный лес</th>\n",
       "      <td>0.844</td>\n",
       "    </tr>\n",
       "    <tr>\n",
       "      <th>Логическая регресия</th>\n",
       "      <td>0.772</td>\n",
       "    </tr>\n",
       "  </tbody>\n",
       "</table>\n",
       "</div>"
      ],
      "text/plain": [
       "                     auc_roc\n",
       "Решающее дерево        0.839\n",
       "Рандомный лес          0.844\n",
       "Логическая регресия    0.772"
      ]
     },
     "metadata": {},
     "output_type": "display_data"
    }
   ],
   "source": [
    "df_auc_roc = pd.DataFrame(data = {'auc_roc':[auc_roc_tree.round(3),\n",
    "                                             auc_roc_forest.round(3),\n",
    "                                             auc_roc_logis.round(3),]},\n",
    "                          index = ['Решающее дерево',\n",
    "                                   'Рандомный лес',\n",
    "                                   'Логическая регресия'])\n",
    "display(df_auc_roc)"
   ]
  },
  {
   "cell_type": "code",
   "execution_count": 33,
   "metadata": {},
   "outputs": [
    {
     "data": {
      "text/plain": [
       "<Figure size 432x288 with 0 Axes>"
      ]
     },
     "metadata": {},
     "output_type": "display_data"
    },
    {
     "data": {
      "image/png": "[encoded data removed]",
      "text/plain": [
       "<Figure size 1440x648 with 1 Axes>"
      ]
     },
     "metadata": {
      "needs_background": "light"
     },
     "output_type": "display_data"
    }
   ],
   "source": [
    "plt.figure()\n",
    "\n",
    "plt.figure(figsize=(20,9))\n",
    "plt.plot([0, 1], [0, 1], linestyle='-.')\n",
    "plt.xlim([0.0, 1.0])\n",
    "plt.ylim([0.0, 1.0])\n",
    "plt.plot(fpr_logis,tpr_logis)\n",
    "plt.plot(fpr_tree,tpr_tree)\n",
    "plt.plot(fpr_forest,tpr_forest)\n",
    "plt.xlabel('FPR')\n",
    "plt.ylabel('TPR')\n",
    "plt.title('ROC-кривая')\n",
    "plt.legend(('Случайная модель','Логистическая регрессия','Дерево решения','Случайный лес'),\n",
    "           loc= 'upper left')\n",
    "plt.show()"
   ]
  },
  {
   "cell_type": "code",
   "execution_count": 34,
   "metadata": {},
   "outputs": [
    {
     "name": "stdout",
     "output_type": "stream",
     "text": [
      "Значение тестовой выборки  F1: 0.591743119266055, R2: 0.822\n"
     ]
    }
   ],
   "source": [
    "model = RandomForestClassifier(random_state=12345, max_depth=13,n_estimators = 23)\n",
    "model.fit(features_bal_up,target_bal_up)\n",
    "pred = model.predict(features_test)\n",
    "f_one = f1_score(target_test,pred)\n",
    "print(f'Значение тестовой выборки  F1: {f_one}, R2: {model.score(features_test, target_test)}')\n",
    "\n",
    "# вариант 2 \n",
    "\n",
    "#features = pd.concat([features_bal_up,featuret_valid])\n",
    "#target = pd.contact([target_bal_up,target_valid])\n",
    "#model = RandomForestClassifier(random_state=12345, max_depth=13,n_estimators = 23)\n",
    "#model.fit(features,target)\n",
    "#pred = model.predict(features_test)\n",
    "#f_one = f1_score(target_test,pred)\n",
    "#print(f'Значение тестовой выборки  F1: {f_one}, R2: {model.score(features_test, target_test)}')"
   ]
  },
  {
   "cell_type": "markdown",
   "metadata": {},
   "source": [
    "Если посмотреть на таблицу указанную выше и график то видно что площадь под кривой больше у Рандомного леса что говорит  классификатор работает хорошо так как выше значения 0.5, которое равно гаданию"
   ]
  },
  {
   "cell_type": "markdown",
   "metadata": {},
   "source": [
    "## Бонус"
   ]
  },
  {
   "cell_type": "code",
   "execution_count": 35,
   "metadata": {},
   "outputs": [
    {
     "data": {
      "text/html": [
       "<div>\n",
       "<style scoped>\n",
       "    .dataframe tbody tr th:only-of-type {\n",
       "        vertical-align: middle;\n",
       "    }\n",
       "\n",
       "    .dataframe tbody tr th {\n",
       "        vertical-align: top;\n",
       "    }\n",
       "\n",
       "    .dataframe thead th {\n",
       "        text-align: right;\n",
       "    }\n",
       "</style>\n",
       "<table border=\"1\" class=\"dataframe\">\n",
       "  <thead>\n",
       "    <tr style=\"text-align: right;\">\n",
       "      <th></th>\n",
       "      <th>F1</th>\n",
       "      <th>roc_auc</th>\n",
       "      <th>R2</th>\n",
       "    </tr>\n",
       "  </thead>\n",
       "  <tbody>\n",
       "    <tr>\n",
       "      <th>Значение для Решающего дерева</th>\n",
       "      <td>0.869</td>\n",
       "      <td>0.906</td>\n",
       "      <td>0.298</td>\n",
       "    </tr>\n",
       "    <tr>\n",
       "      <th>Значение для Рандомного леса</th>\n",
       "      <td>0.958</td>\n",
       "      <td>0.992</td>\n",
       "      <td>0.779</td>\n",
       "    </tr>\n",
       "    <tr>\n",
       "      <th>Значение для логической регресии</th>\n",
       "      <td>0.795</td>\n",
       "      <td>0.790</td>\n",
       "      <td>-0.096</td>\n",
       "    </tr>\n",
       "  </tbody>\n",
       "</table>\n",
       "</div>"
      ],
      "text/plain": [
       "                                     F1  roc_auc     R2\n",
       "Значение для Решающего дерева     0.869    0.906  0.298\n",
       "Значение для Рандомного леса      0.958    0.992  0.779\n",
       "Значение для логической регресии  0.795    0.790 -0.096"
      ]
     },
     "metadata": {},
     "output_type": "display_data"
    }
   ],
   "source": [
    "from sklearn.model_selection import cross_validate\n",
    "model_tree = DecisionTreeClassifier(random_state=12345, max_depth=9)\n",
    "model_forest = RandomForestClassifier(random_state=12345, max_depth=13,n_estimators = 38)\n",
    "model_logis=LogisticRegression()\n",
    "\n",
    "tree = cross_validate(model_tree,features_bal_up,target_bal_up, cv=5, scoring=['f1','roc_auc','r2'])\n",
    "forest = cross_validate(model_forest,features_bal_up,target_bal_up,cv=5,scoring=['f1','roc_auc','r2'])\n",
    "logis = cross_validate(model_logis,features_bal_up,target_bal_up,cv=5,scoring=['f1','roc_auc','r2'])\n",
    "\n",
    "\n",
    "df_cross = pd.DataFrame(data = {'F1':[tree['test_f1'].max().round(3),\n",
    "                                      forest['test_f1'].max().round(3),\n",
    "                                      logis['test_f1'].max().round(3)],\n",
    "                                'roc_auc' :[tree['test_roc_auc'].max().round(3),\n",
    "                                            forest['test_roc_auc'].max().round(3),\n",
    "                                            logis['test_roc_auc'].max().round(3) ],\n",
    "                                'R2' :[tree['test_r2'].max().round(3),\n",
    "                                       forest['test_r2'].max().round(3),\n",
    "                                       logis['test_r2'].max().round(3)] },\n",
    "                        index = ['Значение для Решающего дерева',\n",
    "                                 'Значение для Рандомного леса',\n",
    "                                 'Значение для логической регресии'])\n",
    "display(df_cross)"
   ]
  },
  {
   "cell_type": "markdown",
   "metadata": {},
   "source": [
    "## Вывод\n"
   ]
  },
  {
   "cell_type": "markdown",
   "metadata": {},
   "source": [
    "- В ходе данной работы была разработана модель, котрая может предугадывать покинет ли человек банк или нет, со среднее гармоническим значением  0.609, и а площадь под кривой ROC  равный 0.85 и коэффициент детерминаци равный 0.818, что говорит 81.8 процент ответов будет правильны.\n",
    "- Так же из анализа были убраны такие столбцы как ID фамилия и индекс (не несут какую либо информацию для данной модели)\n",
    "- Изменен тип хранения данных в не которых столбцах, ислледована модель с дисбалансом и с балансированной выборкой и построены таблицы.\n",
    "- Увелечение значения выборки повлияло на средне гармоническое число положительно т.е. значение стало больше"
   ]
  },
  {
   "cell_type": "code",
   "execution_count": 2,
   "metadata": {},
   "outputs": [
    {
     "name": "stdout",
     "output_type": "stream",
     "text": [
      "Спасибо вам Ревьюеры вы топ\n"
     ]
    }
   ],
   "source": [
    "print('Спасибо вам Ревьюеры вы топ') "
   ]
  },
  {
   "cell_type": "code",
   "execution_count": 36,
   "metadata": {},
   "outputs": [
    {
     "name": "stdout",
     "output_type": "stream",
     "text": [
      "Значения не сбалансированной выборки\n"
     ]
    },
    {
     "data": {
      "text/html": [
       "<div>\n",
       "<style scoped>\n",
       "    .dataframe tbody tr th:only-of-type {\n",
       "        vertical-align: middle;\n",
       "    }\n",
       "\n",
       "    .dataframe tbody tr th {\n",
       "        vertical-align: top;\n",
       "    }\n",
       "\n",
       "    .dataframe thead th {\n",
       "        text-align: right;\n",
       "    }\n",
       "</style>\n",
       "<table border=\"1\" class=\"dataframe\">\n",
       "  <thead>\n",
       "    <tr style=\"text-align: right;\">\n",
       "      <th></th>\n",
       "      <th>F1</th>\n",
       "      <th>R2</th>\n",
       "    </tr>\n",
       "  </thead>\n",
       "  <tbody>\n",
       "    <tr>\n",
       "      <th>Дерево решения</th>\n",
       "      <td>0.540</td>\n",
       "      <td>0.849</td>\n",
       "    </tr>\n",
       "    <tr>\n",
       "      <th>Рандомный лес</th>\n",
       "      <td>0.596</td>\n",
       "      <td>0.864</td>\n",
       "    </tr>\n",
       "    <tr>\n",
       "      <th>Логическая регрессия</th>\n",
       "      <td>0.315</td>\n",
       "      <td>0.812</td>\n",
       "    </tr>\n",
       "  </tbody>\n",
       "</table>\n",
       "</div>"
      ],
      "text/plain": [
       "                         F1     R2\n",
       "Дерево решения        0.540  0.849\n",
       "Рандомный лес         0.596  0.864\n",
       "Логическая регрессия  0.315  0.812"
      ]
     },
     "metadata": {},
     "output_type": "display_data"
    },
    {
     "name": "stdout",
     "output_type": "stream",
     "text": [
      "Значения сбалансированной выборки up и dow\n"
     ]
    },
    {
     "data": {
      "text/html": [
       "<div>\n",
       "<style scoped>\n",
       "    .dataframe tbody tr th:only-of-type {\n",
       "        vertical-align: middle;\n",
       "    }\n",
       "\n",
       "    .dataframe tbody tr th {\n",
       "        vertical-align: top;\n",
       "    }\n",
       "\n",
       "    .dataframe thead th {\n",
       "        text-align: right;\n",
       "    }\n",
       "</style>\n",
       "<table border=\"1\" class=\"dataframe\">\n",
       "  <thead>\n",
       "    <tr style=\"text-align: right;\">\n",
       "      <th></th>\n",
       "      <th>F1</th>\n",
       "      <th>R2</th>\n",
       "    </tr>\n",
       "  </thead>\n",
       "  <tbody>\n",
       "    <tr>\n",
       "      <th>Дерево решения с увелечением</th>\n",
       "      <td>0.569</td>\n",
       "      <td>0.750</td>\n",
       "    </tr>\n",
       "    <tr>\n",
       "      <th>Дерево решения с уменьшением</th>\n",
       "      <td>0.577</td>\n",
       "      <td>0.800</td>\n",
       "    </tr>\n",
       "    <tr>\n",
       "      <th>Рандомный лес с увелечением</th>\n",
       "      <td>0.627</td>\n",
       "      <td>0.833</td>\n",
       "    </tr>\n",
       "    <tr>\n",
       "      <th>Рандомный лес с уменьшением</th>\n",
       "      <td>0.613</td>\n",
       "      <td>0.813</td>\n",
       "    </tr>\n",
       "    <tr>\n",
       "      <th>Логическая регрессия с увелечением</th>\n",
       "      <td>0.465</td>\n",
       "      <td>0.617</td>\n",
       "    </tr>\n",
       "    <tr>\n",
       "      <th>Логическая регрессия с уменьшением</th>\n",
       "      <td>0.507</td>\n",
       "      <td>0.742</td>\n",
       "    </tr>\n",
       "  </tbody>\n",
       "</table>\n",
       "</div>"
      ],
      "text/plain": [
       "                                       F1     R2\n",
       "Дерево решения с увелечением        0.569  0.750\n",
       "Дерево решения с уменьшением        0.577  0.800\n",
       "Рандомный лес с увелечением         0.627  0.833\n",
       "Рандомный лес с уменьшением         0.613  0.813\n",
       "Логическая регрессия с увелечением  0.465  0.617\n",
       "Логическая регрессия с уменьшением  0.507  0.742"
      ]
     },
     "metadata": {},
     "output_type": "display_data"
    },
    {
     "name": "stdout",
     "output_type": "stream",
     "text": [
      "Значения auc_roc для сбалансированной выборки up\n"
     ]
    },
    {
     "data": {
      "text/html": [
       "<div>\n",
       "<style scoped>\n",
       "    .dataframe tbody tr th:only-of-type {\n",
       "        vertical-align: middle;\n",
       "    }\n",
       "\n",
       "    .dataframe tbody tr th {\n",
       "        vertical-align: top;\n",
       "    }\n",
       "\n",
       "    .dataframe thead th {\n",
       "        text-align: right;\n",
       "    }\n",
       "</style>\n",
       "<table border=\"1\" class=\"dataframe\">\n",
       "  <thead>\n",
       "    <tr style=\"text-align: right;\">\n",
       "      <th></th>\n",
       "      <th>auc_roc</th>\n",
       "    </tr>\n",
       "  </thead>\n",
       "  <tbody>\n",
       "    <tr>\n",
       "      <th>Решающее дерево</th>\n",
       "      <td>0.839</td>\n",
       "    </tr>\n",
       "    <tr>\n",
       "      <th>Рандомный лес</th>\n",
       "      <td>0.844</td>\n",
       "    </tr>\n",
       "    <tr>\n",
       "      <th>Логическая регресия</th>\n",
       "      <td>0.772</td>\n",
       "    </tr>\n",
       "  </tbody>\n",
       "</table>\n",
       "</div>"
      ],
      "text/plain": [
       "                     auc_roc\n",
       "Решающее дерево        0.839\n",
       "Рандомный лес          0.844\n",
       "Логическая регресия    0.772"
      ]
     },
     "metadata": {},
     "output_type": "display_data"
    }
   ],
   "source": [
    "print('Значения не сбалансированной выборки')\n",
    "display(df_disb)\n",
    "print('Значения сбалансированной выборки up и dow')\n",
    "display(df_dow_up)\n",
    "print('Значения auc_roc для сбалансированной выборки up')\n",
    "display(df_auc_roc)"
   ]
  }
 ],
 "metadata": {
  "ExecuteTimeLog": [
   {
    "duration": 1225,
    "start_time": "2022-10-27T11:52:53.727Z"
   },
   {
    "duration": 67,
    "start_time": "2022-10-27T11:53:43.140Z"
   },
   {
    "duration": 18,
    "start_time": "2022-10-27T11:55:14.787Z"
   },
   {
    "duration": 109,
    "start_time": "2022-10-27T11:55:23.759Z"
   },
   {
    "duration": 69,
    "start_time": "2022-10-29T07:06:58.870Z"
   },
   {
    "duration": 1088,
    "start_time": "2022-10-29T07:07:08.988Z"
   },
   {
    "duration": 164,
    "start_time": "2022-10-29T07:07:10.078Z"
   },
   {
    "duration": 70,
    "start_time": "2022-10-29T07:07:30.460Z"
   },
   {
    "duration": 81,
    "start_time": "2022-10-29T07:07:42.252Z"
   },
   {
    "duration": 62,
    "start_time": "2022-10-29T07:07:57.908Z"
   },
   {
    "duration": 62,
    "start_time": "2022-10-29T07:08:07.488Z"
   },
   {
    "duration": 68,
    "start_time": "2022-10-29T07:08:16.808Z"
   },
   {
    "duration": 9,
    "start_time": "2022-10-29T07:10:43.372Z"
   },
   {
    "duration": 11,
    "start_time": "2022-10-29T07:10:51.965Z"
   },
   {
    "duration": 9,
    "start_time": "2022-10-29T07:11:01.548Z"
   },
   {
    "duration": 10,
    "start_time": "2022-10-29T07:11:06.913Z"
   },
   {
    "duration": 10,
    "start_time": "2022-10-29T07:11:17.685Z"
   },
   {
    "duration": 5,
    "start_time": "2022-10-29T07:12:12.893Z"
   },
   {
    "duration": 12,
    "start_time": "2022-10-29T07:16:31.542Z"
   },
   {
    "duration": 4,
    "start_time": "2022-10-29T07:16:35.101Z"
   },
   {
    "duration": 67,
    "start_time": "2022-10-29T07:16:35.853Z"
   },
   {
    "duration": 6,
    "start_time": "2022-10-29T07:16:37.261Z"
   },
   {
    "duration": 20,
    "start_time": "2022-10-29T07:17:58.014Z"
   },
   {
    "duration": 16,
    "start_time": "2022-10-29T07:18:58.639Z"
   },
   {
    "duration": 15,
    "start_time": "2022-10-29T07:44:20.276Z"
   },
   {
    "duration": 15,
    "start_time": "2022-10-29T07:45:51.236Z"
   },
   {
    "duration": 4,
    "start_time": "2022-10-29T07:46:26.080Z"
   },
   {
    "duration": 57,
    "start_time": "2022-10-29T07:46:26.668Z"
   },
   {
    "duration": 11,
    "start_time": "2022-10-29T07:46:27.944Z"
   },
   {
    "duration": 14,
    "start_time": "2022-10-29T07:47:25.808Z"
   },
   {
    "duration": 13,
    "start_time": "2022-10-29T07:47:41.028Z"
   },
   {
    "duration": 3,
    "start_time": "2022-10-29T07:47:54.581Z"
   },
   {
    "duration": 62,
    "start_time": "2022-10-29T07:47:55.328Z"
   },
   {
    "duration": 17,
    "start_time": "2022-10-29T07:47:56.308Z"
   },
   {
    "duration": 13,
    "start_time": "2022-10-29T07:48:17.645Z"
   },
   {
    "duration": 11,
    "start_time": "2022-10-29T07:48:25.604Z"
   },
   {
    "duration": 17,
    "start_time": "2022-10-29T07:48:35.752Z"
   },
   {
    "duration": 537,
    "start_time": "2022-10-29T07:49:19.792Z"
   },
   {
    "duration": 56,
    "start_time": "2022-10-29T07:52:57.576Z"
   },
   {
    "duration": 150,
    "start_time": "2022-10-29T07:53:48.069Z"
   },
   {
    "duration": 13,
    "start_time": "2022-10-29T07:54:10.896Z"
   },
   {
    "duration": 213,
    "start_time": "2022-10-29T07:54:29.649Z"
   },
   {
    "duration": 152,
    "start_time": "2022-10-29T07:54:40.165Z"
   },
   {
    "duration": 347,
    "start_time": "2022-10-29T07:57:57.122Z"
   },
   {
    "duration": 4,
    "start_time": "2022-10-29T07:58:14.261Z"
   },
   {
    "duration": 151,
    "start_time": "2022-10-29T07:58:21.037Z"
   },
   {
    "duration": 870,
    "start_time": "2022-10-29T07:59:05.645Z"
   },
   {
    "duration": 168,
    "start_time": "2022-10-29T07:59:15.673Z"
   },
   {
    "duration": 226,
    "start_time": "2022-10-29T08:00:48.950Z"
   },
   {
    "duration": 57,
    "start_time": "2022-10-29T08:01:00.438Z"
   },
   {
    "duration": 150,
    "start_time": "2022-10-29T08:01:07.994Z"
   },
   {
    "duration": 49,
    "start_time": "2022-10-29T08:02:20.669Z"
   },
   {
    "duration": 46,
    "start_time": "2022-10-29T08:03:07.322Z"
   },
   {
    "duration": 53,
    "start_time": "2022-10-29T08:03:29.446Z"
   },
   {
    "duration": 1698,
    "start_time": "2022-10-29T08:03:52.600Z"
   },
   {
    "duration": 66,
    "start_time": "2022-10-29T08:03:54.300Z"
   },
   {
    "duration": 18,
    "start_time": "2022-10-29T08:03:54.368Z"
   },
   {
    "duration": 17,
    "start_time": "2022-10-29T08:03:54.389Z"
   },
   {
    "duration": 46,
    "start_time": "2022-10-29T08:03:54.409Z"
   },
   {
    "duration": 54,
    "start_time": "2022-10-29T08:04:15.160Z"
   },
   {
    "duration": 47,
    "start_time": "2022-10-29T08:04:57.472Z"
   },
   {
    "duration": 274,
    "start_time": "2022-10-29T08:06:18.199Z"
   },
   {
    "duration": 235,
    "start_time": "2022-10-29T08:06:38.894Z"
   },
   {
    "duration": 49,
    "start_time": "2022-10-29T08:07:07.820Z"
   },
   {
    "duration": 83,
    "start_time": "2022-10-29T10:19:41.534Z"
   },
   {
    "duration": 68,
    "start_time": "2022-10-29T10:20:54.070Z"
   },
   {
    "duration": 83,
    "start_time": "2022-10-29T10:21:43.549Z"
   },
   {
    "duration": 46,
    "start_time": "2022-10-29T10:21:57.106Z"
   },
   {
    "duration": 9,
    "start_time": "2022-10-29T10:22:06.406Z"
   },
   {
    "duration": 3,
    "start_time": "2022-10-29T10:22:45.346Z"
   },
   {
    "duration": 78,
    "start_time": "2022-10-29T10:22:45.351Z"
   },
   {
    "duration": 14,
    "start_time": "2022-10-29T10:22:45.430Z"
   },
   {
    "duration": 16,
    "start_time": "2022-10-29T10:22:45.446Z"
   },
   {
    "duration": 279,
    "start_time": "2022-10-29T10:22:45.464Z"
   },
   {
    "duration": 1428,
    "start_time": "2022-10-29T10:22:52.941Z"
   },
   {
    "duration": 4,
    "start_time": "2022-10-29T10:23:27.234Z"
   },
   {
    "duration": 1325,
    "start_time": "2022-10-29T10:23:37.613Z"
   },
   {
    "duration": 1445,
    "start_time": "2022-10-29T10:23:58.574Z"
   },
   {
    "duration": 198,
    "start_time": "2022-10-29T10:24:12.797Z"
   },
   {
    "duration": 175,
    "start_time": "2022-10-29T10:24:20.769Z"
   },
   {
    "duration": 171,
    "start_time": "2022-10-29T10:24:26.753Z"
   },
   {
    "duration": 169,
    "start_time": "2022-10-29T10:24:39.965Z"
   },
   {
    "duration": 190,
    "start_time": "2022-10-29T10:24:46.413Z"
   },
   {
    "duration": 179,
    "start_time": "2022-10-29T10:25:04.389Z"
   },
   {
    "duration": 189,
    "start_time": "2022-10-29T10:25:12.637Z"
   },
   {
    "duration": 272,
    "start_time": "2022-10-29T10:26:24.753Z"
   },
   {
    "duration": 189,
    "start_time": "2022-10-29T10:26:34.905Z"
   },
   {
    "duration": 197,
    "start_time": "2022-10-29T10:26:43.358Z"
   },
   {
    "duration": 191,
    "start_time": "2022-10-29T10:27:00.309Z"
   },
   {
    "duration": 4,
    "start_time": "2022-10-29T10:27:16.101Z"
   },
   {
    "duration": 77,
    "start_time": "2022-10-29T10:27:28.429Z"
   },
   {
    "duration": 218,
    "start_time": "2022-10-29T10:29:31.878Z"
   },
   {
    "duration": 186,
    "start_time": "2022-10-29T10:29:49.308Z"
   },
   {
    "duration": 193,
    "start_time": "2022-10-29T10:30:53.009Z"
   },
   {
    "duration": 229,
    "start_time": "2022-10-29T10:31:03.155Z"
   },
   {
    "duration": 190,
    "start_time": "2022-10-29T10:31:13.901Z"
   },
   {
    "duration": 193,
    "start_time": "2022-10-29T10:31:34.708Z"
   },
   {
    "duration": 188,
    "start_time": "2022-10-29T10:31:45.248Z"
   },
   {
    "duration": 348,
    "start_time": "2022-10-29T10:31:53.037Z"
   },
   {
    "duration": 188,
    "start_time": "2022-10-29T10:33:12.609Z"
   },
   {
    "duration": 181,
    "start_time": "2022-10-29T10:33:30.798Z"
   },
   {
    "duration": 153,
    "start_time": "2022-10-29T10:33:46.000Z"
   },
   {
    "duration": 167,
    "start_time": "2022-10-29T10:34:03.060Z"
   },
   {
    "duration": 720,
    "start_time": "2022-10-29T10:34:08.304Z"
   },
   {
    "duration": 153,
    "start_time": "2022-10-29T10:34:13.896Z"
   },
   {
    "duration": 155,
    "start_time": "2022-10-29T10:35:25.984Z"
   },
   {
    "duration": 149,
    "start_time": "2022-10-29T10:35:51.584Z"
   },
   {
    "duration": 1407,
    "start_time": "2022-10-29T10:36:00.608Z"
   },
   {
    "duration": 165,
    "start_time": "2022-10-29T10:36:07.300Z"
   },
   {
    "duration": 162,
    "start_time": "2022-10-29T10:41:39.277Z"
   },
   {
    "duration": 250,
    "start_time": "2022-10-29T10:42:49.875Z"
   },
   {
    "duration": 164,
    "start_time": "2022-10-29T10:42:53.747Z"
   },
   {
    "duration": 184,
    "start_time": "2022-10-29T10:43:11.240Z"
   },
   {
    "duration": 237,
    "start_time": "2022-10-29T10:43:38.700Z"
   },
   {
    "duration": 368,
    "start_time": "2022-10-29T10:43:54.212Z"
   },
   {
    "duration": 292,
    "start_time": "2022-10-29T10:43:59.676Z"
   },
   {
    "duration": 185,
    "start_time": "2022-10-29T10:44:12.672Z"
   },
   {
    "duration": 252,
    "start_time": "2022-10-29T10:44:16.552Z"
   },
   {
    "duration": 161,
    "start_time": "2022-10-29T10:44:24.289Z"
   },
   {
    "duration": 409,
    "start_time": "2022-10-29T10:45:35.874Z"
   },
   {
    "duration": 267,
    "start_time": "2022-10-29T10:45:57.735Z"
   },
   {
    "duration": 234,
    "start_time": "2022-10-29T10:46:09.863Z"
   },
   {
    "duration": 215,
    "start_time": "2022-10-29T10:46:21.231Z"
   },
   {
    "duration": 25,
    "start_time": "2022-10-29T10:46:38.512Z"
   },
   {
    "duration": 204,
    "start_time": "2022-10-29T10:46:45.204Z"
   },
   {
    "duration": 163,
    "start_time": "2022-10-29T10:46:59.288Z"
   },
   {
    "duration": 73,
    "start_time": "2022-10-29T10:48:04.628Z"
   },
   {
    "duration": 112,
    "start_time": "2022-10-29T10:48:15.633Z"
   },
   {
    "duration": 19,
    "start_time": "2022-10-29T10:48:40.313Z"
   },
   {
    "duration": 110,
    "start_time": "2022-10-29T10:49:40.154Z"
   },
   {
    "duration": 24,
    "start_time": "2022-10-29T10:49:53.563Z"
   },
   {
    "duration": 22,
    "start_time": "2022-10-29T10:50:03.355Z"
   },
   {
    "duration": 17,
    "start_time": "2022-10-29T10:50:24.604Z"
   },
   {
    "duration": 158,
    "start_time": "2022-10-29T10:50:28.351Z"
   },
   {
    "duration": 152,
    "start_time": "2022-10-29T10:50:42.271Z"
   },
   {
    "duration": 279,
    "start_time": "2022-10-29T10:50:50.935Z"
   },
   {
    "duration": 149,
    "start_time": "2022-10-29T10:50:56.155Z"
   },
   {
    "duration": 75,
    "start_time": "2022-10-29T10:51:31.507Z"
   },
   {
    "duration": 92,
    "start_time": "2022-10-29T10:51:41.555Z"
   },
   {
    "duration": 71,
    "start_time": "2022-10-29T10:51:51.031Z"
   },
   {
    "duration": 172,
    "start_time": "2022-10-29T10:52:00.321Z"
   },
   {
    "duration": 161,
    "start_time": "2022-10-29T10:52:14.900Z"
   },
   {
    "duration": 17,
    "start_time": "2022-10-29T10:52:32.709Z"
   },
   {
    "duration": 1193,
    "start_time": "2022-10-29T10:53:00.332Z"
   },
   {
    "duration": 1173,
    "start_time": "2022-10-29T10:53:06.217Z"
   },
   {
    "duration": 238,
    "start_time": "2022-10-29T10:53:20.461Z"
   },
   {
    "duration": 1157,
    "start_time": "2022-10-29T10:53:51.041Z"
   },
   {
    "duration": 157,
    "start_time": "2022-10-29T10:54:00.120Z"
   },
   {
    "duration": 153,
    "start_time": "2022-10-29T10:54:11.593Z"
   },
   {
    "duration": 126,
    "start_time": "2022-10-29T10:54:22.852Z"
   },
   {
    "duration": 249,
    "start_time": "2022-10-29T10:54:35.113Z"
   },
   {
    "duration": 178,
    "start_time": "2022-10-29T10:55:07.037Z"
   },
   {
    "duration": 11,
    "start_time": "2022-10-29T10:55:47.238Z"
   },
   {
    "duration": 310,
    "start_time": "2022-10-29T10:55:52.678Z"
   },
   {
    "duration": 32,
    "start_time": "2022-10-29T10:57:04.523Z"
   },
   {
    "duration": 31,
    "start_time": "2022-10-29T10:57:13.239Z"
   },
   {
    "duration": 27,
    "start_time": "2022-10-29T10:57:20.522Z"
   },
   {
    "duration": 150,
    "start_time": "2022-10-29T10:57:43.548Z"
   },
   {
    "duration": 129,
    "start_time": "2022-10-29T10:57:56.504Z"
   },
   {
    "duration": 176,
    "start_time": "2022-10-29T10:59:11.296Z"
   },
   {
    "duration": 192,
    "start_time": "2022-10-29T10:59:59.807Z"
   },
   {
    "duration": 199,
    "start_time": "2022-10-29T11:00:59.264Z"
   },
   {
    "duration": 189,
    "start_time": "2022-10-29T11:01:08.629Z"
   },
   {
    "duration": 179,
    "start_time": "2022-10-29T11:01:19.365Z"
   },
   {
    "duration": 169,
    "start_time": "2022-10-29T11:01:28.742Z"
   },
   {
    "duration": 1188,
    "start_time": "2022-10-29T11:03:05.537Z"
   },
   {
    "duration": 1155,
    "start_time": "2022-10-29T11:03:33.274Z"
   },
   {
    "duration": 1435,
    "start_time": "2022-10-29T11:05:10.650Z"
   },
   {
    "duration": 89,
    "start_time": "2022-10-29T11:05:37.101Z"
   },
   {
    "duration": 1209,
    "start_time": "2022-10-29T11:06:33.298Z"
   },
   {
    "duration": 1162,
    "start_time": "2022-10-29T11:07:15.637Z"
   },
   {
    "duration": 1274,
    "start_time": "2022-10-29T11:07:21.966Z"
   },
   {
    "duration": 2545,
    "start_time": "2022-10-29T11:08:07.102Z"
   },
   {
    "duration": 3448,
    "start_time": "2022-10-29T11:08:30.567Z"
   },
   {
    "duration": 2235,
    "start_time": "2022-10-29T11:09:07.967Z"
   },
   {
    "duration": 1153,
    "start_time": "2022-10-29T11:09:26.878Z"
   },
   {
    "duration": 26,
    "start_time": "2022-10-29T11:13:41.908Z"
   },
   {
    "duration": 11,
    "start_time": "2022-10-29T11:14:24.008Z"
   },
   {
    "duration": 5,
    "start_time": "2022-10-29T11:14:51.944Z"
   },
   {
    "duration": 1528,
    "start_time": "2022-10-29T11:14:58.880Z"
   },
   {
    "duration": 70,
    "start_time": "2022-10-29T11:15:00.410Z"
   },
   {
    "duration": 15,
    "start_time": "2022-10-29T11:15:00.482Z"
   },
   {
    "duration": 26,
    "start_time": "2022-10-29T11:15:00.500Z"
   },
   {
    "duration": 205,
    "start_time": "2022-10-29T11:15:00.528Z"
   },
   {
    "duration": 1201,
    "start_time": "2022-10-29T11:15:00.735Z"
   },
   {
    "duration": 172,
    "start_time": "2022-10-29T11:15:01.939Z"
   },
   {
    "duration": 12,
    "start_time": "2022-10-29T11:16:23.287Z"
   },
   {
    "duration": 12,
    "start_time": "2022-10-29T11:16:25.791Z"
   },
   {
    "duration": 16,
    "start_time": "2022-10-29T11:16:40.719Z"
   },
   {
    "duration": 4,
    "start_time": "2022-10-29T11:17:18.311Z"
   },
   {
    "duration": 155,
    "start_time": "2022-10-29T11:17:23.891Z"
   },
   {
    "duration": 14,
    "start_time": "2022-10-29T11:17:24.759Z"
   },
   {
    "duration": 16,
    "start_time": "2022-10-29T11:17:25.034Z"
   },
   {
    "duration": 196,
    "start_time": "2022-10-29T11:17:25.504Z"
   },
   {
    "duration": 1181,
    "start_time": "2022-10-29T11:17:25.737Z"
   },
   {
    "duration": 43,
    "start_time": "2022-10-29T11:17:28.295Z"
   },
   {
    "duration": 3,
    "start_time": "2022-10-29T11:25:37.651Z"
   },
   {
    "duration": 4,
    "start_time": "2022-10-29T11:25:40.102Z"
   },
   {
    "duration": 63,
    "start_time": "2022-10-29T11:25:40.558Z"
   },
   {
    "duration": 13,
    "start_time": "2022-10-29T11:25:40.855Z"
   },
   {
    "duration": 14,
    "start_time": "2022-10-29T11:25:41.206Z"
   },
   {
    "duration": 194,
    "start_time": "2022-10-29T11:25:42.246Z"
   },
   {
    "duration": 1135,
    "start_time": "2022-10-29T11:25:42.990Z"
   },
   {
    "duration": 41,
    "start_time": "2022-10-29T11:25:45.282Z"
   },
   {
    "duration": 12,
    "start_time": "2022-10-29T11:25:46.494Z"
   },
   {
    "duration": 12,
    "start_time": "2022-10-29T11:26:26.962Z"
   },
   {
    "duration": 11,
    "start_time": "2022-10-29T11:27:09.795Z"
   },
   {
    "duration": 46,
    "start_time": "2022-10-29T11:28:03.322Z"
   },
   {
    "duration": 24,
    "start_time": "2022-10-29T11:28:05.951Z"
   },
   {
    "duration": 40,
    "start_time": "2022-10-29T11:28:52.402Z"
   },
   {
    "duration": 40,
    "start_time": "2022-10-29T12:12:39.819Z"
   },
   {
    "duration": 12,
    "start_time": "2022-10-29T12:14:49.095Z"
   },
   {
    "duration": 13,
    "start_time": "2022-10-29T12:15:58.080Z"
   },
   {
    "duration": 1271,
    "start_time": "2022-10-29T12:16:07.378Z"
   },
   {
    "duration": 0,
    "start_time": "2022-10-29T12:16:08.651Z"
   },
   {
    "duration": 0,
    "start_time": "2022-10-29T12:16:08.652Z"
   },
   {
    "duration": 0,
    "start_time": "2022-10-29T12:16:08.653Z"
   },
   {
    "duration": 0,
    "start_time": "2022-10-29T12:16:08.654Z"
   },
   {
    "duration": 0,
    "start_time": "2022-10-29T12:16:08.655Z"
   },
   {
    "duration": 0,
    "start_time": "2022-10-29T12:16:08.657Z"
   },
   {
    "duration": 0,
    "start_time": "2022-10-29T12:16:08.658Z"
   },
   {
    "duration": 10,
    "start_time": "2022-10-29T12:16:16.387Z"
   },
   {
    "duration": 10,
    "start_time": "2022-10-29T12:16:16.861Z"
   },
   {
    "duration": 16,
    "start_time": "2022-10-29T12:16:21.620Z"
   },
   {
    "duration": 10,
    "start_time": "2022-10-29T12:16:22.272Z"
   },
   {
    "duration": 363,
    "start_time": "2022-10-29T12:16:33.612Z"
   },
   {
    "duration": 78,
    "start_time": "2022-10-29T12:16:34.104Z"
   },
   {
    "duration": 14,
    "start_time": "2022-10-29T12:16:34.564Z"
   },
   {
    "duration": 21,
    "start_time": "2022-10-29T12:16:35.020Z"
   },
   {
    "duration": 186,
    "start_time": "2022-10-29T12:16:36.024Z"
   },
   {
    "duration": 1089,
    "start_time": "2022-10-29T12:16:36.568Z"
   },
   {
    "duration": 36,
    "start_time": "2022-10-29T12:16:37.860Z"
   },
   {
    "duration": 635,
    "start_time": "2022-10-29T12:16:37.963Z"
   },
   {
    "duration": 568,
    "start_time": "2022-10-29T12:18:22.445Z"
   },
   {
    "duration": 586,
    "start_time": "2022-10-29T12:18:32.105Z"
   },
   {
    "duration": 614,
    "start_time": "2022-10-29T12:19:54.053Z"
   },
   {
    "duration": 596,
    "start_time": "2022-10-29T12:20:07.709Z"
   },
   {
    "duration": 13,
    "start_time": "2022-10-29T12:23:11.692Z"
   },
   {
    "duration": 4,
    "start_time": "2022-10-29T12:23:40.093Z"
   },
   {
    "duration": 77,
    "start_time": "2022-10-29T12:23:42.269Z"
   },
   {
    "duration": 50,
    "start_time": "2022-10-29T12:23:42.773Z"
   },
   {
    "duration": 1581,
    "start_time": "2022-10-29T12:23:48.085Z"
   },
   {
    "duration": 73,
    "start_time": "2022-10-29T12:23:49.668Z"
   },
   {
    "duration": 14,
    "start_time": "2022-10-29T12:23:49.742Z"
   },
   {
    "duration": 13,
    "start_time": "2022-10-29T12:23:49.758Z"
   },
   {
    "duration": 222,
    "start_time": "2022-10-29T12:23:49.773Z"
   },
   {
    "duration": 1161,
    "start_time": "2022-10-29T12:23:49.996Z"
   },
   {
    "duration": 146,
    "start_time": "2022-10-29T12:23:51.159Z"
   },
   {
    "duration": 0,
    "start_time": "2022-10-29T12:23:51.307Z"
   },
   {
    "duration": 0,
    "start_time": "2022-10-29T12:23:51.309Z"
   },
   {
    "duration": 4,
    "start_time": "2022-10-29T12:28:00.939Z"
   },
   {
    "duration": 165,
    "start_time": "2022-10-29T12:28:01.396Z"
   },
   {
    "duration": 15,
    "start_time": "2022-10-29T12:28:01.853Z"
   },
   {
    "duration": 12,
    "start_time": "2022-10-29T12:28:02.493Z"
   },
   {
    "duration": 199,
    "start_time": "2022-10-29T12:28:03.053Z"
   },
   {
    "duration": 1175,
    "start_time": "2022-10-29T12:28:03.905Z"
   },
   {
    "duration": 22,
    "start_time": "2022-10-29T12:28:05.097Z"
   },
   {
    "duration": 596,
    "start_time": "2022-10-29T12:28:06.165Z"
   },
   {
    "duration": 11353,
    "start_time": "2022-10-29T12:28:06.763Z"
   },
   {
    "duration": 132362,
    "start_time": "2022-10-29T12:29:07.739Z"
   },
   {
    "duration": 126219,
    "start_time": "2022-10-29T12:31:44.081Z"
   },
   {
    "duration": 46160,
    "start_time": "2022-10-29T12:34:23.586Z"
   },
   {
    "duration": 91730,
    "start_time": "2022-10-29T12:35:49.918Z"
   },
   {
    "duration": 13,
    "start_time": "2022-10-29T12:37:21.651Z"
   },
   {
    "duration": 11,
    "start_time": "2022-10-29T12:40:10.102Z"
   },
   {
    "duration": 4,
    "start_time": "2022-10-29T12:40:20.014Z"
   },
   {
    "duration": 1497,
    "start_time": "2022-10-29T12:40:25.206Z"
   },
   {
    "duration": 73,
    "start_time": "2022-10-29T12:40:26.705Z"
   },
   {
    "duration": 14,
    "start_time": "2022-10-29T12:40:26.780Z"
   },
   {
    "duration": 12,
    "start_time": "2022-10-29T12:40:26.797Z"
   },
   {
    "duration": 205,
    "start_time": "2022-10-29T12:40:26.824Z"
   },
   {
    "duration": 1096,
    "start_time": "2022-10-29T12:40:27.031Z"
   },
   {
    "duration": 134,
    "start_time": "2022-10-29T12:40:28.129Z"
   },
   {
    "duration": 0,
    "start_time": "2022-10-29T12:40:28.265Z"
   },
   {
    "duration": 0,
    "start_time": "2022-10-29T12:40:28.266Z"
   },
   {
    "duration": 0,
    "start_time": "2022-10-29T12:40:28.267Z"
   },
   {
    "duration": 5,
    "start_time": "2022-10-29T12:40:47.039Z"
   },
   {
    "duration": 31,
    "start_time": "2022-10-29T12:40:52.733Z"
   },
   {
    "duration": 27,
    "start_time": "2022-10-29T12:41:06.677Z"
   },
   {
    "duration": 29,
    "start_time": "2022-10-29T12:41:30.205Z"
   },
   {
    "duration": 123,
    "start_time": "2022-10-29T12:41:48.986Z"
   },
   {
    "duration": 41,
    "start_time": "2022-10-29T12:42:02.874Z"
   },
   {
    "duration": 576,
    "start_time": "2022-10-29T12:42:04.086Z"
   },
   {
    "duration": 85398,
    "start_time": "2022-10-29T12:42:04.826Z"
   },
   {
    "duration": 0,
    "start_time": "2022-10-29T12:43:30.243Z"
   },
   {
    "duration": 13,
    "start_time": "2022-10-29T12:44:45.711Z"
   },
   {
    "duration": 11,
    "start_time": "2022-10-29T12:45:42.386Z"
   },
   {
    "duration": 4,
    "start_time": "2022-10-29T12:45:52.378Z"
   },
   {
    "duration": 15,
    "start_time": "2022-10-29T12:45:57.638Z"
   },
   {
    "duration": 13,
    "start_time": "2022-10-29T12:46:14.622Z"
   },
   {
    "duration": 4,
    "start_time": "2022-10-29T12:46:42.978Z"
   },
   {
    "duration": 33,
    "start_time": "2022-10-29T12:46:47.603Z"
   },
   {
    "duration": 4,
    "start_time": "2022-10-29T12:47:04.318Z"
   },
   {
    "duration": 363,
    "start_time": "2022-10-29T12:47:07.062Z"
   },
   {
    "duration": 110,
    "start_time": "2022-10-29T12:47:41.624Z"
   },
   {
    "duration": 1599,
    "start_time": "2022-10-29T12:48:04.403Z"
   },
   {
    "duration": 76,
    "start_time": "2022-10-29T12:48:06.004Z"
   },
   {
    "duration": 15,
    "start_time": "2022-10-29T12:48:06.082Z"
   },
   {
    "duration": 12,
    "start_time": "2022-10-29T12:48:06.099Z"
   },
   {
    "duration": 192,
    "start_time": "2022-10-29T12:48:06.124Z"
   },
   {
    "duration": 1115,
    "start_time": "2022-10-29T12:48:06.317Z"
   },
   {
    "duration": 134,
    "start_time": "2022-10-29T12:48:07.436Z"
   },
   {
    "duration": 591,
    "start_time": "2022-10-29T12:48:07.572Z"
   },
   {
    "duration": 20795,
    "start_time": "2022-10-29T12:48:08.166Z"
   },
   {
    "duration": 162,
    "start_time": "2022-10-29T12:48:28.963Z"
   },
   {
    "duration": 6,
    "start_time": "2022-10-29T12:48:56.391Z"
   },
   {
    "duration": 193,
    "start_time": "2022-10-29T12:49:01.840Z"
   },
   {
    "duration": 39177,
    "start_time": "2022-10-29T12:49:34.715Z"
   },
   {
    "duration": 35794,
    "start_time": "2022-10-29T12:50:31.923Z"
   },
   {
    "duration": 40,
    "start_time": "2022-10-29T12:51:45.163Z"
   },
   {
    "duration": 588,
    "start_time": "2022-10-29T12:51:46.232Z"
   },
   {
    "duration": 35949,
    "start_time": "2022-10-29T12:51:48.868Z"
   },
   {
    "duration": 207,
    "start_time": "2022-10-29T12:52:24.823Z"
   },
   {
    "duration": 613,
    "start_time": "2022-10-29T12:52:42.444Z"
   },
   {
    "duration": 5,
    "start_time": "2022-10-29T12:54:49.943Z"
   },
   {
    "duration": 130,
    "start_time": "2022-10-29T12:54:52.576Z"
   },
   {
    "duration": 4,
    "start_time": "2022-10-29T12:56:14.096Z"
   },
   {
    "duration": 20,
    "start_time": "2022-10-29T12:56:19.212Z"
   },
   {
    "duration": 5,
    "start_time": "2022-10-29T12:57:53.108Z"
   },
   {
    "duration": 5,
    "start_time": "2022-10-29T12:58:15.024Z"
   },
   {
    "duration": 10,
    "start_time": "2022-10-29T12:58:15.816Z"
   },
   {
    "duration": 4,
    "start_time": "2022-10-29T12:59:33.236Z"
   },
   {
    "duration": 12,
    "start_time": "2022-10-29T12:59:33.860Z"
   },
   {
    "duration": 10,
    "start_time": "2022-10-29T13:00:03.536Z"
   },
   {
    "duration": 781,
    "start_time": "2022-10-29T13:01:27.080Z"
   },
   {
    "duration": 426,
    "start_time": "2022-10-29T13:01:58.768Z"
   },
   {
    "duration": 52392,
    "start_time": "2022-10-29T13:17:42.324Z"
   },
   {
    "duration": 29378,
    "start_time": "2022-10-29T13:38:37.417Z"
   },
   {
    "duration": 454,
    "start_time": "2022-10-29T13:39:18.172Z"
   },
   {
    "duration": 1122,
    "start_time": "2022-10-29T13:39:37.911Z"
   },
   {
    "duration": 113,
    "start_time": "2022-10-29T13:39:44.228Z"
   },
   {
    "duration": 17,
    "start_time": "2022-10-29T13:46:45.800Z"
   },
   {
    "duration": 12,
    "start_time": "2022-10-29T13:46:51.185Z"
   },
   {
    "duration": 14,
    "start_time": "2022-10-29T13:47:08.560Z"
   },
   {
    "duration": 5,
    "start_time": "2022-10-29T13:47:19.112Z"
   },
   {
    "duration": 519,
    "start_time": "2022-10-29T13:48:33.627Z"
   },
   {
    "duration": 847,
    "start_time": "2022-10-29T13:48:35.681Z"
   },
   {
    "duration": 53277,
    "start_time": "2022-10-29T13:50:39.720Z"
   },
   {
    "duration": 28504,
    "start_time": "2022-10-29T13:51:32.999Z"
   },
   {
    "duration": 423,
    "start_time": "2022-10-29T13:52:01.506Z"
   },
   {
    "duration": 1697,
    "start_time": "2022-10-29T13:52:01.940Z"
   },
   {
    "duration": 5,
    "start_time": "2022-10-29T13:53:38.943Z"
   },
   {
    "duration": 13,
    "start_time": "2022-10-29T13:53:39.489Z"
   },
   {
    "duration": 1168,
    "start_time": "2022-10-29T13:53:44.493Z"
   },
   {
    "duration": 74704,
    "start_time": "2022-10-29T13:53:50.982Z"
   },
   {
    "duration": 6,
    "start_time": "2022-10-29T13:57:02.146Z"
   },
   {
    "duration": 13,
    "start_time": "2022-10-29T13:57:02.547Z"
   },
   {
    "duration": 5,
    "start_time": "2022-10-29T13:57:02.562Z"
   },
   {
    "duration": 11,
    "start_time": "2022-10-29T13:57:03.590Z"
   },
   {
    "duration": 4,
    "start_time": "2022-10-29T13:57:06.058Z"
   },
   {
    "duration": 15,
    "start_time": "2022-10-29T13:57:06.602Z"
   },
   {
    "duration": 829,
    "start_time": "2022-10-29T13:57:08.318Z"
   },
   {
    "duration": 436,
    "start_time": "2022-10-29T13:57:09.149Z"
   },
   {
    "duration": 56655,
    "start_time": "2022-10-29T13:57:09.587Z"
   },
   {
    "duration": 28971,
    "start_time": "2022-10-29T13:58:06.245Z"
   },
   {
    "duration": 214,
    "start_time": "2022-10-29T13:58:35.218Z"
   },
   {
    "duration": 707,
    "start_time": "2022-10-29T13:58:35.440Z"
   },
   {
    "duration": 102,
    "start_time": "2022-10-29T13:58:36.233Z"
   },
   {
    "duration": 0,
    "start_time": "2022-10-29T13:58:36.340Z"
   },
   {
    "duration": 0,
    "start_time": "2022-10-29T13:58:36.341Z"
   },
   {
    "duration": 13,
    "start_time": "2022-10-29T14:00:34.442Z"
   },
   {
    "duration": 880,
    "start_time": "2022-10-29T14:00:44.398Z"
   },
   {
    "duration": 15,
    "start_time": "2022-10-29T14:00:50.151Z"
   },
   {
    "duration": 864,
    "start_time": "2022-10-29T14:01:35.142Z"
   },
   {
    "duration": 13,
    "start_time": "2022-10-29T14:01:41.182Z"
   },
   {
    "duration": 13,
    "start_time": "2022-10-29T14:01:53.340Z"
   },
   {
    "duration": 3,
    "start_time": "2022-10-29T14:02:28.475Z"
   },
   {
    "duration": 13,
    "start_time": "2022-10-29T14:02:34.002Z"
   },
   {
    "duration": 18,
    "start_time": "2022-10-29T14:02:52.363Z"
   },
   {
    "duration": 18,
    "start_time": "2022-10-29T14:03:08.098Z"
   },
   {
    "duration": 4,
    "start_time": "2022-10-29T14:03:45.875Z"
   },
   {
    "duration": 10,
    "start_time": "2022-10-29T14:03:51.582Z"
   },
   {
    "duration": 55681,
    "start_time": "2022-10-29T14:05:12.563Z"
   },
   {
    "duration": 26,
    "start_time": "2022-10-29T14:06:08.246Z"
   },
   {
    "duration": 10,
    "start_time": "2022-10-29T14:09:10.980Z"
   },
   {
    "duration": 316,
    "start_time": "2022-10-29T14:09:29.231Z"
   },
   {
    "duration": 15,
    "start_time": "2022-10-29T14:09:33.836Z"
   },
   {
    "duration": 27,
    "start_time": "2022-10-29T14:10:37.624Z"
   },
   {
    "duration": 40,
    "start_time": "2022-10-29T14:10:41.487Z"
   },
   {
    "duration": 255,
    "start_time": "2022-10-29T14:11:32.659Z"
   },
   {
    "duration": 24,
    "start_time": "2022-10-29T14:11:55.912Z"
   },
   {
    "duration": 235,
    "start_time": "2022-10-29T14:11:57.660Z"
   },
   {
    "duration": 262,
    "start_time": "2022-10-29T14:13:01.736Z"
   },
   {
    "duration": 39,
    "start_time": "2022-10-29T14:13:15.995Z"
   },
   {
    "duration": 14,
    "start_time": "2022-10-29T14:13:23.688Z"
   },
   {
    "duration": 262,
    "start_time": "2022-10-29T14:13:46.852Z"
   },
   {
    "duration": 228,
    "start_time": "2022-10-29T14:13:57.500Z"
   },
   {
    "duration": 252,
    "start_time": "2022-10-29T14:14:09.868Z"
   },
   {
    "duration": 12,
    "start_time": "2022-10-29T14:14:17.456Z"
   },
   {
    "duration": 31,
    "start_time": "2022-10-29T14:14:18.616Z"
   },
   {
    "duration": 189,
    "start_time": "2022-10-29T14:14:41.196Z"
   },
   {
    "duration": 189,
    "start_time": "2022-10-29T14:14:44.423Z"
   },
   {
    "duration": 292,
    "start_time": "2022-10-29T14:14:49.008Z"
   },
   {
    "duration": 176,
    "start_time": "2022-10-29T14:14:53.840Z"
   },
   {
    "duration": 282,
    "start_time": "2022-10-29T14:14:57.576Z"
   },
   {
    "duration": 196,
    "start_time": "2022-10-29T14:15:01.641Z"
   },
   {
    "duration": 314,
    "start_time": "2022-10-29T14:16:12.077Z"
   },
   {
    "duration": 250,
    "start_time": "2022-10-29T14:16:53.557Z"
   },
   {
    "duration": 406,
    "start_time": "2022-10-29T14:17:11.389Z"
   },
   {
    "duration": 1574,
    "start_time": "2022-10-29T14:23:37.405Z"
   },
   {
    "duration": 77,
    "start_time": "2022-10-29T14:23:38.981Z"
   },
   {
    "duration": 19,
    "start_time": "2022-10-29T14:23:39.061Z"
   },
   {
    "duration": 20,
    "start_time": "2022-10-29T14:23:39.084Z"
   },
   {
    "duration": 241,
    "start_time": "2022-10-29T14:23:39.106Z"
   },
   {
    "duration": 1271,
    "start_time": "2022-10-29T14:23:39.349Z"
   },
   {
    "duration": 133,
    "start_time": "2022-10-29T14:23:40.622Z"
   },
   {
    "duration": 629,
    "start_time": "2022-10-29T14:23:40.757Z"
   },
   {
    "duration": 39738,
    "start_time": "2022-10-29T14:23:41.388Z"
   },
   {
    "duration": 387,
    "start_time": "2022-10-29T14:24:21.137Z"
   },
   {
    "duration": 107,
    "start_time": "2022-10-29T14:24:21.531Z"
   },
   {
    "duration": 4,
    "start_time": "2022-10-29T14:24:21.642Z"
   },
   {
    "duration": 13,
    "start_time": "2022-10-29T14:24:21.647Z"
   },
   {
    "duration": 5,
    "start_time": "2022-10-29T14:24:21.662Z"
   },
   {
    "duration": 18,
    "start_time": "2022-10-29T14:24:21.669Z"
   },
   {
    "duration": 992,
    "start_time": "2022-10-29T14:24:21.689Z"
   },
   {
    "duration": 468,
    "start_time": "2022-10-29T14:24:22.683Z"
   },
   {
    "duration": 60192,
    "start_time": "2022-10-29T14:24:23.153Z"
   },
   {
    "duration": 29943,
    "start_time": "2022-10-29T14:25:23.346Z"
   },
   {
    "duration": 440,
    "start_time": "2022-10-29T14:25:53.291Z"
   },
   {
    "duration": 702,
    "start_time": "2022-10-29T14:25:53.733Z"
   },
   {
    "duration": 106,
    "start_time": "2022-10-29T14:25:54.438Z"
   },
   {
    "duration": 35,
    "start_time": "2022-10-29T14:25:54.625Z"
   },
   {
    "duration": 68,
    "start_time": "2022-10-29T14:25:54.661Z"
   },
   {
    "duration": 380,
    "start_time": "2022-10-29T14:25:54.732Z"
   },
   {
    "duration": 130,
    "start_time": "2022-10-29T14:37:19.644Z"
   },
   {
    "duration": 633,
    "start_time": "2022-10-29T14:37:22.247Z"
   },
   {
    "duration": 39759,
    "start_time": "2022-10-29T14:37:22.883Z"
   },
   {
    "duration": 107,
    "start_time": "2022-10-29T14:38:02.644Z"
   },
   {
    "duration": 72,
    "start_time": "2022-10-29T14:38:02.753Z"
   },
   {
    "duration": 13,
    "start_time": "2022-10-29T14:38:17.942Z"
   },
   {
    "duration": 9,
    "start_time": "2022-10-29T14:38:23.995Z"
   },
   {
    "duration": 12,
    "start_time": "2022-10-29T14:39:58.642Z"
   },
   {
    "duration": 889,
    "start_time": "2022-10-29T14:47:24.108Z"
   },
   {
    "duration": 420,
    "start_time": "2022-10-29T14:47:26.884Z"
   },
   {
    "duration": 57599,
    "start_time": "2022-10-29T14:47:28.104Z"
   },
   {
    "duration": 29134,
    "start_time": "2022-10-29T14:48:25.705Z"
   },
   {
    "duration": 492,
    "start_time": "2022-10-29T14:48:54.840Z"
   },
   {
    "duration": 1512,
    "start_time": "2022-10-29T14:48:55.341Z"
   },
   {
    "duration": 85,
    "start_time": "2022-10-29T14:48:56.856Z"
   },
   {
    "duration": 9,
    "start_time": "2022-10-29T15:27:14.673Z"
   },
   {
    "duration": 11,
    "start_time": "2022-10-29T15:27:21.998Z"
   },
   {
    "duration": 1532,
    "start_time": "2022-10-29T15:29:27.274Z"
   },
   {
    "duration": 76,
    "start_time": "2022-10-29T15:29:28.808Z"
   },
   {
    "duration": 14,
    "start_time": "2022-10-29T15:29:28.886Z"
   },
   {
    "duration": 13,
    "start_time": "2022-10-29T15:29:28.902Z"
   },
   {
    "duration": 339,
    "start_time": "2022-10-29T15:29:28.916Z"
   },
   {
    "duration": 0,
    "start_time": "2022-10-29T15:29:29.257Z"
   },
   {
    "duration": 0,
    "start_time": "2022-10-29T15:29:29.259Z"
   },
   {
    "duration": 0,
    "start_time": "2022-10-29T15:29:29.261Z"
   },
   {
    "duration": 0,
    "start_time": "2022-10-29T15:29:29.262Z"
   },
   {
    "duration": 0,
    "start_time": "2022-10-29T15:29:29.264Z"
   },
   {
    "duration": 0,
    "start_time": "2022-10-29T15:29:29.266Z"
   },
   {
    "duration": 0,
    "start_time": "2022-10-29T15:29:29.268Z"
   },
   {
    "duration": 0,
    "start_time": "2022-10-29T15:29:29.269Z"
   },
   {
    "duration": 0,
    "start_time": "2022-10-29T15:29:29.270Z"
   },
   {
    "duration": 0,
    "start_time": "2022-10-29T15:29:29.272Z"
   },
   {
    "duration": 0,
    "start_time": "2022-10-29T15:29:29.273Z"
   },
   {
    "duration": 0,
    "start_time": "2022-10-29T15:29:29.274Z"
   },
   {
    "duration": 0,
    "start_time": "2022-10-29T15:29:29.275Z"
   },
   {
    "duration": 0,
    "start_time": "2022-10-29T15:29:29.276Z"
   },
   {
    "duration": 0,
    "start_time": "2022-10-29T15:29:29.277Z"
   },
   {
    "duration": 0,
    "start_time": "2022-10-29T15:29:29.278Z"
   },
   {
    "duration": 0,
    "start_time": "2022-10-29T15:29:29.279Z"
   },
   {
    "duration": 0,
    "start_time": "2022-10-29T15:29:29.280Z"
   },
   {
    "duration": 0,
    "start_time": "2022-10-29T15:29:29.282Z"
   },
   {
    "duration": 0,
    "start_time": "2022-10-29T15:29:29.325Z"
   },
   {
    "duration": 0,
    "start_time": "2022-10-29T15:29:29.327Z"
   },
   {
    "duration": 0,
    "start_time": "2022-10-29T15:29:29.328Z"
   },
   {
    "duration": 0,
    "start_time": "2022-10-29T15:29:29.329Z"
   },
   {
    "duration": 1583,
    "start_time": "2022-10-29T15:30:38.336Z"
   },
   {
    "duration": 72,
    "start_time": "2022-10-29T15:30:39.923Z"
   },
   {
    "duration": 14,
    "start_time": "2022-10-29T15:30:39.997Z"
   },
   {
    "duration": 19,
    "start_time": "2022-10-29T15:30:40.013Z"
   },
   {
    "duration": 230,
    "start_time": "2022-10-29T15:30:40.035Z"
   },
   {
    "duration": 1158,
    "start_time": "2022-10-29T15:30:40.267Z"
   },
   {
    "duration": 51,
    "start_time": "2022-10-29T15:30:41.431Z"
   },
   {
    "duration": 172,
    "start_time": "2022-10-29T15:30:41.484Z"
   },
   {
    "duration": 0,
    "start_time": "2022-10-29T15:30:41.659Z"
   },
   {
    "duration": 0,
    "start_time": "2022-10-29T15:30:41.661Z"
   },
   {
    "duration": 0,
    "start_time": "2022-10-29T15:30:41.662Z"
   },
   {
    "duration": 0,
    "start_time": "2022-10-29T15:30:41.664Z"
   },
   {
    "duration": 0,
    "start_time": "2022-10-29T15:30:41.665Z"
   },
   {
    "duration": 0,
    "start_time": "2022-10-29T15:30:41.667Z"
   },
   {
    "duration": 0,
    "start_time": "2022-10-29T15:30:41.669Z"
   },
   {
    "duration": 0,
    "start_time": "2022-10-29T15:30:41.671Z"
   },
   {
    "duration": 0,
    "start_time": "2022-10-29T15:30:41.672Z"
   },
   {
    "duration": 0,
    "start_time": "2022-10-29T15:30:41.675Z"
   },
   {
    "duration": 0,
    "start_time": "2022-10-29T15:30:41.676Z"
   },
   {
    "duration": 0,
    "start_time": "2022-10-29T15:30:41.678Z"
   },
   {
    "duration": 0,
    "start_time": "2022-10-29T15:30:41.680Z"
   },
   {
    "duration": 0,
    "start_time": "2022-10-29T15:30:41.681Z"
   },
   {
    "duration": 0,
    "start_time": "2022-10-29T15:30:41.726Z"
   },
   {
    "duration": 0,
    "start_time": "2022-10-29T15:30:41.728Z"
   },
   {
    "duration": 0,
    "start_time": "2022-10-29T15:30:41.729Z"
   },
   {
    "duration": 0,
    "start_time": "2022-10-29T15:30:41.730Z"
   },
   {
    "duration": 0,
    "start_time": "2022-10-29T15:30:41.731Z"
   },
   {
    "duration": 0,
    "start_time": "2022-10-29T15:30:41.733Z"
   },
   {
    "duration": 601,
    "start_time": "2022-10-29T15:31:27.506Z"
   },
   {
    "duration": 23,
    "start_time": "2022-10-29T15:31:28.466Z"
   },
   {
    "duration": 38455,
    "start_time": "2022-10-29T15:31:44.673Z"
   },
   {
    "duration": 288,
    "start_time": "2022-10-29T15:32:23.139Z"
   },
   {
    "duration": 95,
    "start_time": "2022-10-29T15:32:23.442Z"
   },
   {
    "duration": 5,
    "start_time": "2022-10-29T15:32:23.540Z"
   },
   {
    "duration": 5,
    "start_time": "2022-10-29T15:32:23.547Z"
   },
   {
    "duration": 19,
    "start_time": "2022-10-29T15:32:23.553Z"
   },
   {
    "duration": 5,
    "start_time": "2022-10-29T15:32:23.574Z"
   },
   {
    "duration": 21,
    "start_time": "2022-10-29T15:32:23.581Z"
   },
   {
    "duration": 941,
    "start_time": "2022-10-29T15:32:23.604Z"
   },
   {
    "duration": 464,
    "start_time": "2022-10-29T15:32:24.548Z"
   },
   {
    "duration": 0,
    "start_time": "2022-10-29T15:32:25.013Z"
   },
   {
    "duration": 0,
    "start_time": "2022-10-29T15:32:25.015Z"
   },
   {
    "duration": 0,
    "start_time": "2022-10-29T15:32:25.016Z"
   },
   {
    "duration": 0,
    "start_time": "2022-10-29T15:32:25.026Z"
   },
   {
    "duration": 0,
    "start_time": "2022-10-29T15:32:25.027Z"
   },
   {
    "duration": 0,
    "start_time": "2022-10-29T15:32:25.027Z"
   },
   {
    "duration": 0,
    "start_time": "2022-10-29T15:32:25.029Z"
   },
   {
    "duration": 0,
    "start_time": "2022-10-29T15:32:25.029Z"
   },
   {
    "duration": 0,
    "start_time": "2022-10-29T15:32:25.035Z"
   },
   {
    "duration": 0,
    "start_time": "2022-10-29T15:32:25.036Z"
   },
   {
    "duration": 446,
    "start_time": "2022-10-29T15:32:55.027Z"
   },
   {
    "duration": 0,
    "start_time": "2022-10-29T15:33:54.626Z"
   },
   {
    "duration": 0,
    "start_time": "2022-10-29T15:33:54.628Z"
   },
   {
    "duration": 0,
    "start_time": "2022-10-29T15:33:54.629Z"
   },
   {
    "duration": 0,
    "start_time": "2022-10-29T15:33:54.630Z"
   },
   {
    "duration": 55360,
    "start_time": "2022-10-29T15:34:14.415Z"
   },
   {
    "duration": 28103,
    "start_time": "2022-10-29T15:35:09.777Z"
   },
   {
    "duration": 299,
    "start_time": "2022-10-29T15:35:56.636Z"
   },
   {
    "duration": 1180,
    "start_time": "2022-10-29T15:35:57.651Z"
   },
   {
    "duration": 8,
    "start_time": "2022-10-29T15:36:03.394Z"
   },
   {
    "duration": 10,
    "start_time": "2022-10-29T15:36:07.370Z"
   },
   {
    "duration": 25,
    "start_time": "2022-10-29T15:36:08.578Z"
   },
   {
    "duration": 16,
    "start_time": "2022-10-29T15:36:10.278Z"
   },
   {
    "duration": 10,
    "start_time": "2022-10-29T15:36:10.990Z"
   },
   {
    "duration": 362,
    "start_time": "2022-10-29T15:36:11.826Z"
   },
   {
    "duration": 10,
    "start_time": "2022-10-29T15:36:34.806Z"
   },
   {
    "duration": 257,
    "start_time": "2022-10-29T15:37:19.946Z"
   },
   {
    "duration": 1166,
    "start_time": "2022-10-29T15:38:06.810Z"
   },
   {
    "duration": 1204,
    "start_time": "2022-10-29T15:38:50.742Z"
   },
   {
    "duration": 1221,
    "start_time": "2022-10-29T15:39:10.039Z"
   },
   {
    "duration": 26,
    "start_time": "2022-10-29T15:39:17.935Z"
   },
   {
    "duration": 41,
    "start_time": "2022-10-29T17:32:37.050Z"
   },
   {
    "duration": 604,
    "start_time": "2022-10-29T17:32:39.010Z"
   },
   {
    "duration": 36999,
    "start_time": "2022-10-29T17:32:39.626Z"
   },
   {
    "duration": 497,
    "start_time": "2022-10-29T17:33:16.628Z"
   },
   {
    "duration": 10,
    "start_time": "2022-10-29T17:33:17.127Z"
   },
   {
    "duration": 88,
    "start_time": "2022-10-29T17:33:17.139Z"
   },
   {
    "duration": 5,
    "start_time": "2022-10-29T17:33:17.229Z"
   },
   {
    "duration": 16,
    "start_time": "2022-10-29T17:33:17.236Z"
   },
   {
    "duration": 6,
    "start_time": "2022-10-29T17:33:17.254Z"
   },
   {
    "duration": 12,
    "start_time": "2022-10-29T17:33:17.261Z"
   },
   {
    "duration": 867,
    "start_time": "2022-10-29T17:33:17.275Z"
   },
   {
    "duration": 427,
    "start_time": "2022-10-29T17:33:18.145Z"
   },
   {
    "duration": 53696,
    "start_time": "2022-10-29T17:33:18.573Z"
   },
   {
    "duration": 26669,
    "start_time": "2022-10-29T17:34:12.271Z"
   },
   {
    "duration": 990,
    "start_time": "2022-10-29T17:34:38.941Z"
   },
   {
    "duration": 501,
    "start_time": "2022-10-29T17:34:39.933Z"
   },
   {
    "duration": 92,
    "start_time": "2022-10-29T17:34:40.436Z"
   },
   {
    "duration": 97,
    "start_time": "2022-10-29T17:34:40.530Z"
   },
   {
    "duration": 24,
    "start_time": "2022-10-29T17:34:40.628Z"
   },
   {
    "duration": 12,
    "start_time": "2022-10-29T17:34:40.654Z"
   },
   {
    "duration": 11,
    "start_time": "2022-10-29T17:34:40.724Z"
   },
   {
    "duration": 338,
    "start_time": "2022-10-29T17:34:40.736Z"
   },
   {
    "duration": 1722,
    "start_time": "2022-10-29T17:35:07.572Z"
   },
   {
    "duration": 71,
    "start_time": "2022-10-29T17:35:09.296Z"
   },
   {
    "duration": 15,
    "start_time": "2022-10-29T17:35:09.369Z"
   },
   {
    "duration": 16,
    "start_time": "2022-10-29T17:35:09.386Z"
   },
   {
    "duration": 241,
    "start_time": "2022-10-29T17:35:09.406Z"
   },
   {
    "duration": 28,
    "start_time": "2022-10-29T17:35:09.650Z"
   },
   {
    "duration": 1210,
    "start_time": "2022-10-29T17:35:09.680Z"
   },
   {
    "duration": 52,
    "start_time": "2022-10-29T17:35:10.892Z"
   },
   {
    "duration": 616,
    "start_time": "2022-10-29T17:35:10.946Z"
   },
   {
    "duration": 37114,
    "start_time": "2022-10-29T17:35:11.565Z"
   },
   {
    "duration": 144,
    "start_time": "2022-10-29T17:35:48.681Z"
   },
   {
    "duration": 94,
    "start_time": "2022-10-29T17:35:48.830Z"
   },
   {
    "duration": 5,
    "start_time": "2022-10-29T17:35:48.927Z"
   },
   {
    "duration": 6,
    "start_time": "2022-10-29T17:35:48.936Z"
   },
   {
    "duration": 15,
    "start_time": "2022-10-29T17:35:48.944Z"
   },
   {
    "duration": 7,
    "start_time": "2022-10-29T17:35:48.961Z"
   },
   {
    "duration": 14,
    "start_time": "2022-10-29T17:35:48.970Z"
   },
   {
    "duration": 1006,
    "start_time": "2022-10-29T17:35:48.986Z"
   },
   {
    "duration": 460,
    "start_time": "2022-10-29T17:35:49.994Z"
   },
   {
    "duration": 55061,
    "start_time": "2022-10-29T17:35:50.457Z"
   },
   {
    "duration": 28506,
    "start_time": "2022-10-29T17:36:45.519Z"
   },
   {
    "duration": 605,
    "start_time": "2022-10-29T17:37:14.028Z"
   },
   {
    "duration": 790,
    "start_time": "2022-10-29T17:37:14.635Z"
   },
   {
    "duration": 99,
    "start_time": "2022-10-29T17:37:15.427Z"
   },
   {
    "duration": 14,
    "start_time": "2022-10-29T17:37:15.529Z"
   },
   {
    "duration": 30,
    "start_time": "2022-10-29T17:37:15.545Z"
   },
   {
    "duration": 49,
    "start_time": "2022-10-29T17:37:15.577Z"
   },
   {
    "duration": 17,
    "start_time": "2022-10-29T17:37:15.631Z"
   },
   {
    "duration": 428,
    "start_time": "2022-10-29T17:37:15.651Z"
   },
   {
    "duration": 117,
    "start_time": "2022-10-29T17:45:53.002Z"
   },
   {
    "duration": 24,
    "start_time": "2022-10-29T17:46:19.030Z"
   },
   {
    "duration": 204,
    "start_time": "2022-10-29T17:47:49.322Z"
   },
   {
    "duration": 233,
    "start_time": "2022-10-29T17:48:31.266Z"
   },
   {
    "duration": 16,
    "start_time": "2022-10-29T17:54:18.828Z"
   },
   {
    "duration": 174,
    "start_time": "2022-10-29T17:57:34.211Z"
   },
   {
    "duration": 166,
    "start_time": "2022-10-29T17:57:58.671Z"
   },
   {
    "duration": 5494,
    "start_time": "2022-10-29T17:59:31.636Z"
   },
   {
    "duration": 73,
    "start_time": "2022-10-29T18:00:15.460Z"
   },
   {
    "duration": 73,
    "start_time": "2022-10-29T18:00:22.484Z"
   },
   {
    "duration": 80,
    "start_time": "2022-10-29T18:00:30.696Z"
   },
   {
    "duration": 5859,
    "start_time": "2022-10-29T18:00:41.467Z"
   },
   {
    "duration": 73,
    "start_time": "2022-10-29T18:00:58.824Z"
   },
   {
    "duration": 70,
    "start_time": "2022-10-29T18:01:02.927Z"
   },
   {
    "duration": 70,
    "start_time": "2022-10-29T18:01:43.643Z"
   },
   {
    "duration": 73,
    "start_time": "2022-10-29T18:01:53.004Z"
   },
   {
    "duration": 71,
    "start_time": "2022-10-29T18:01:59.648Z"
   },
   {
    "duration": 8292,
    "start_time": "2022-10-29T18:02:08.732Z"
   },
   {
    "duration": 6095,
    "start_time": "2022-10-29T18:03:00.232Z"
   },
   {
    "duration": 3963,
    "start_time": "2022-10-29T18:03:38.464Z"
   },
   {
    "duration": 1589,
    "start_time": "2022-10-29T18:04:10.519Z"
   },
   {
    "duration": 67,
    "start_time": "2022-10-29T18:04:12.110Z"
   },
   {
    "duration": 14,
    "start_time": "2022-10-29T18:04:12.178Z"
   },
   {
    "duration": 11,
    "start_time": "2022-10-29T18:04:12.194Z"
   },
   {
    "duration": 197,
    "start_time": "2022-10-29T18:04:12.207Z"
   },
   {
    "duration": 33,
    "start_time": "2022-10-29T18:04:12.406Z"
   },
   {
    "duration": 1111,
    "start_time": "2022-10-29T18:04:12.441Z"
   },
   {
    "duration": 41,
    "start_time": "2022-10-29T18:04:13.554Z"
   },
   {
    "duration": 601,
    "start_time": "2022-10-29T18:04:13.597Z"
   },
   {
    "duration": 36138,
    "start_time": "2022-10-29T18:04:14.201Z"
   },
   {
    "duration": 94,
    "start_time": "2022-10-29T18:04:50.341Z"
   },
   {
    "duration": 92,
    "start_time": "2022-10-29T18:04:50.437Z"
   },
   {
    "duration": 6,
    "start_time": "2022-10-29T18:04:50.531Z"
   },
   {
    "duration": 5,
    "start_time": "2022-10-29T18:04:50.625Z"
   },
   {
    "duration": 15,
    "start_time": "2022-10-29T18:04:50.632Z"
   },
   {
    "duration": 5,
    "start_time": "2022-10-29T18:04:50.649Z"
   },
   {
    "duration": 13,
    "start_time": "2022-10-29T18:04:50.655Z"
   },
   {
    "duration": 893,
    "start_time": "2022-10-29T18:04:50.669Z"
   },
   {
    "duration": 476,
    "start_time": "2022-10-29T18:04:51.564Z"
   },
   {
    "duration": 54013,
    "start_time": "2022-10-29T18:04:52.042Z"
   },
   {
    "duration": 26773,
    "start_time": "2022-10-29T18:05:46.057Z"
   },
   {
    "duration": 901,
    "start_time": "2022-10-29T18:06:12.832Z"
   },
   {
    "duration": 1099,
    "start_time": "2022-10-29T18:06:13.734Z"
   },
   {
    "duration": 9,
    "start_time": "2022-10-29T18:06:14.924Z"
   },
   {
    "duration": 12,
    "start_time": "2022-10-29T18:06:14.934Z"
   },
   {
    "duration": 28,
    "start_time": "2022-10-29T18:06:14.948Z"
   },
   {
    "duration": 147,
    "start_time": "2022-10-29T18:06:14.978Z"
   },
   {
    "duration": 12,
    "start_time": "2022-10-29T18:06:15.130Z"
   },
   {
    "duration": 300,
    "start_time": "2022-10-29T18:06:15.144Z"
   },
   {
    "duration": 3679,
    "start_time": "2022-10-29T18:06:15.446Z"
   },
   {
    "duration": 3794,
    "start_time": "2022-10-29T18:20:45.234Z"
   },
   {
    "duration": 4259,
    "start_time": "2022-10-29T18:21:01.871Z"
   },
   {
    "duration": 3189,
    "start_time": "2022-10-29T18:25:49.244Z"
   },
   {
    "duration": 3854,
    "start_time": "2022-10-29T18:26:58.971Z"
   },
   {
    "duration": 4508,
    "start_time": "2022-10-29T18:29:26.608Z"
   },
   {
    "duration": 4394,
    "start_time": "2022-10-29T18:29:47.537Z"
   },
   {
    "duration": 5045,
    "start_time": "2022-10-29T18:32:29.384Z"
   },
   {
    "duration": 4863,
    "start_time": "2022-10-29T18:33:01.361Z"
   },
   {
    "duration": 5100,
    "start_time": "2022-10-29T18:37:02.626Z"
   },
   {
    "duration": 5294,
    "start_time": "2022-10-29T18:37:12.833Z"
   },
   {
    "duration": 74,
    "start_time": "2022-10-29T18:38:50.682Z"
   },
   {
    "duration": 83,
    "start_time": "2022-10-29T18:39:14.241Z"
   },
   {
    "duration": 9508,
    "start_time": "2022-10-29T18:39:22.421Z"
   },
   {
    "duration": 5315,
    "start_time": "2022-10-29T18:40:00.209Z"
   },
   {
    "duration": 5544,
    "start_time": "2022-10-29T18:40:30.482Z"
   },
   {
    "duration": 5674,
    "start_time": "2022-10-29T18:40:38.050Z"
   },
   {
    "duration": 1617,
    "start_time": "2022-10-29T18:41:15.087Z"
   },
   {
    "duration": 76,
    "start_time": "2022-10-29T18:41:16.707Z"
   },
   {
    "duration": 20,
    "start_time": "2022-10-29T18:41:16.786Z"
   },
   {
    "duration": 23,
    "start_time": "2022-10-29T18:41:16.809Z"
   },
   {
    "duration": 227,
    "start_time": "2022-10-29T18:41:16.834Z"
   },
   {
    "duration": 23,
    "start_time": "2022-10-29T18:41:17.063Z"
   },
   {
    "duration": 1138,
    "start_time": "2022-10-29T18:41:17.088Z"
   },
   {
    "duration": 47,
    "start_time": "2022-10-29T18:41:18.228Z"
   },
   {
    "duration": 622,
    "start_time": "2022-10-29T18:41:18.277Z"
   },
   {
    "duration": 36704,
    "start_time": "2022-10-29T18:41:18.903Z"
   },
   {
    "duration": 416,
    "start_time": "2022-10-29T18:41:55.609Z"
   },
   {
    "duration": 96,
    "start_time": "2022-10-29T18:41:56.030Z"
   },
   {
    "duration": 5,
    "start_time": "2022-10-29T18:41:56.128Z"
   },
   {
    "duration": 5,
    "start_time": "2022-10-29T18:41:56.134Z"
   },
   {
    "duration": 13,
    "start_time": "2022-10-29T18:41:56.141Z"
   },
   {
    "duration": 5,
    "start_time": "2022-10-29T18:41:56.156Z"
   },
   {
    "duration": 13,
    "start_time": "2022-10-29T18:41:56.162Z"
   },
   {
    "duration": 859,
    "start_time": "2022-10-29T18:41:56.177Z"
   },
   {
    "duration": 414,
    "start_time": "2022-10-29T18:41:57.038Z"
   },
   {
    "duration": 53493,
    "start_time": "2022-10-29T18:41:57.454Z"
   },
   {
    "duration": 26841,
    "start_time": "2022-10-29T18:42:50.949Z"
   },
   {
    "duration": 540,
    "start_time": "2022-10-29T18:43:17.792Z"
   },
   {
    "duration": 494,
    "start_time": "2022-10-29T18:43:18.334Z"
   },
   {
    "duration": 96,
    "start_time": "2022-10-29T18:43:18.831Z"
   },
   {
    "duration": 11,
    "start_time": "2022-10-29T18:43:18.929Z"
   },
   {
    "duration": 22,
    "start_time": "2022-10-29T18:43:18.942Z"
   },
   {
    "duration": 63,
    "start_time": "2022-10-29T18:43:18.966Z"
   },
   {
    "duration": 97,
    "start_time": "2022-10-29T18:43:19.033Z"
   },
   {
    "duration": 261,
    "start_time": "2022-10-29T18:43:19.132Z"
   },
   {
    "duration": 5028,
    "start_time": "2022-10-29T18:43:19.396Z"
   },
   {
    "duration": 69,
    "start_time": "2022-10-29T18:43:50.247Z"
   },
   {
    "duration": 79,
    "start_time": "2022-10-29T18:44:04.943Z"
   },
   {
    "duration": 280,
    "start_time": "2022-10-29T18:44:32.247Z"
   },
   {
    "duration": 9,
    "start_time": "2022-10-29T18:44:54.319Z"
   },
   {
    "duration": 13,
    "start_time": "2022-10-29T18:48:14.348Z"
   },
   {
    "duration": 16,
    "start_time": "2022-10-29T18:48:21.920Z"
   },
   {
    "duration": 4,
    "start_time": "2022-10-29T18:48:30.084Z"
   },
   {
    "duration": 19,
    "start_time": "2022-10-29T18:48:31.793Z"
   },
   {
    "duration": 4,
    "start_time": "2022-10-29T18:52:02.721Z"
   },
   {
    "duration": 12,
    "start_time": "2022-10-29T18:52:05.612Z"
   },
   {
    "duration": 13,
    "start_time": "2022-10-29T18:52:13.357Z"
   },
   {
    "duration": 11,
    "start_time": "2022-10-29T18:52:19.805Z"
   },
   {
    "duration": 11,
    "start_time": "2022-10-29T18:52:27.037Z"
   },
   {
    "duration": 1388,
    "start_time": "2022-10-29T18:52:37.773Z"
   },
   {
    "duration": 70,
    "start_time": "2022-10-29T18:52:39.163Z"
   },
   {
    "duration": 13,
    "start_time": "2022-10-29T18:52:39.234Z"
   },
   {
    "duration": 23,
    "start_time": "2022-10-29T18:52:39.248Z"
   },
   {
    "duration": 191,
    "start_time": "2022-10-29T18:52:39.274Z"
   },
   {
    "duration": 19,
    "start_time": "2022-10-29T18:52:39.467Z"
   },
   {
    "duration": 1111,
    "start_time": "2022-10-29T18:52:39.487Z"
   },
   {
    "duration": 48,
    "start_time": "2022-10-29T18:52:40.600Z"
   },
   {
    "duration": 585,
    "start_time": "2022-10-29T18:52:40.650Z"
   },
   {
    "duration": 36340,
    "start_time": "2022-10-29T18:52:41.237Z"
   },
   {
    "duration": 352,
    "start_time": "2022-10-29T18:53:17.579Z"
   },
   {
    "duration": 192,
    "start_time": "2022-10-29T18:53:17.933Z"
   },
   {
    "duration": 5,
    "start_time": "2022-10-29T18:53:18.127Z"
   },
   {
    "duration": 17,
    "start_time": "2022-10-29T18:53:18.134Z"
   },
   {
    "duration": 24,
    "start_time": "2022-10-29T18:53:18.153Z"
   },
   {
    "duration": 21,
    "start_time": "2022-10-29T18:53:18.179Z"
   },
   {
    "duration": 30,
    "start_time": "2022-10-29T18:53:18.202Z"
   },
   {
    "duration": 830,
    "start_time": "2022-10-29T18:53:18.234Z"
   },
   {
    "duration": 380,
    "start_time": "2022-10-29T18:53:19.066Z"
   },
   {
    "duration": 52797,
    "start_time": "2022-10-29T18:53:19.447Z"
   },
   {
    "duration": 23916,
    "start_time": "2022-10-29T18:54:12.246Z"
   },
   {
    "duration": 972,
    "start_time": "2022-10-29T18:54:36.163Z"
   },
   {
    "duration": 886,
    "start_time": "2022-10-29T18:54:37.138Z"
   },
   {
    "duration": 98,
    "start_time": "2022-10-29T18:54:38.027Z"
   },
   {
    "duration": 10,
    "start_time": "2022-10-29T18:54:38.126Z"
   },
   {
    "duration": 23,
    "start_time": "2022-10-29T18:54:38.138Z"
   },
   {
    "duration": 160,
    "start_time": "2022-10-29T18:54:38.163Z"
   },
   {
    "duration": 10,
    "start_time": "2022-10-29T18:54:38.326Z"
   },
   {
    "duration": 256,
    "start_time": "2022-10-29T18:54:38.337Z"
   },
   {
    "duration": 5235,
    "start_time": "2022-10-29T18:54:38.595Z"
   },
   {
    "duration": 1446,
    "start_time": "2022-10-29T19:03:12.374Z"
   },
   {
    "duration": 69,
    "start_time": "2022-10-29T19:03:13.822Z"
   },
   {
    "duration": 13,
    "start_time": "2022-10-29T19:03:13.893Z"
   },
   {
    "duration": 12,
    "start_time": "2022-10-29T19:03:13.908Z"
   },
   {
    "duration": 190,
    "start_time": "2022-10-29T19:03:13.922Z"
   },
   {
    "duration": 20,
    "start_time": "2022-10-29T19:03:14.123Z"
   },
   {
    "duration": 1100,
    "start_time": "2022-10-29T19:03:14.145Z"
   },
   {
    "duration": 43,
    "start_time": "2022-10-29T19:03:15.248Z"
   },
   {
    "duration": 631,
    "start_time": "2022-10-29T19:03:15.294Z"
   },
   {
    "duration": 35571,
    "start_time": "2022-10-29T19:03:15.926Z"
   },
   {
    "duration": 537,
    "start_time": "2022-10-29T19:03:51.499Z"
   },
   {
    "duration": 11,
    "start_time": "2022-10-29T19:03:52.126Z"
   },
   {
    "duration": 33,
    "start_time": "2022-10-29T19:03:52.140Z"
   },
   {
    "duration": 5,
    "start_time": "2022-10-29T19:03:52.223Z"
   },
   {
    "duration": 25,
    "start_time": "2022-10-29T19:03:52.229Z"
   },
   {
    "duration": 11,
    "start_time": "2022-10-29T19:03:52.255Z"
   },
   {
    "duration": 38,
    "start_time": "2022-10-29T19:03:52.268Z"
   },
   {
    "duration": 827,
    "start_time": "2022-10-29T19:03:52.308Z"
   },
   {
    "duration": 369,
    "start_time": "2022-10-29T19:03:53.137Z"
   },
   {
    "duration": 54235,
    "start_time": "2022-10-29T19:03:53.508Z"
   },
   {
    "duration": 24553,
    "start_time": "2022-10-29T19:04:47.745Z"
   },
   {
    "duration": 434,
    "start_time": "2022-10-29T19:05:12.300Z"
   },
   {
    "duration": 389,
    "start_time": "2022-10-29T19:05:12.737Z"
   },
   {
    "duration": 100,
    "start_time": "2022-10-29T19:05:13.132Z"
   },
   {
    "duration": 14,
    "start_time": "2022-10-29T19:05:13.234Z"
   },
   {
    "duration": 27,
    "start_time": "2022-10-29T19:05:13.251Z"
   },
   {
    "duration": 52,
    "start_time": "2022-10-29T19:05:13.280Z"
   },
   {
    "duration": 95,
    "start_time": "2022-10-29T19:05:13.335Z"
   },
   {
    "duration": 283,
    "start_time": "2022-10-29T19:05:13.432Z"
   },
   {
    "duration": 4716,
    "start_time": "2022-10-29T19:05:13.717Z"
   },
   {
    "duration": 366,
    "start_time": "2022-10-29T19:06:02.991Z"
   },
   {
    "duration": 237,
    "start_time": "2022-10-29T19:06:27.690Z"
   },
   {
    "duration": 239,
    "start_time": "2022-10-29T19:07:44.578Z"
   },
   {
    "duration": 19,
    "start_time": "2022-10-29T19:08:19.912Z"
   },
   {
    "duration": 268,
    "start_time": "2022-10-29T19:08:33.230Z"
   },
   {
    "duration": 257,
    "start_time": "2022-10-29T19:08:40.118Z"
   },
   {
    "duration": 77,
    "start_time": "2022-10-29T19:17:54.559Z"
   },
   {
    "duration": 15,
    "start_time": "2022-10-29T19:18:08.708Z"
   },
   {
    "duration": 1484,
    "start_time": "2022-10-29T19:18:40.457Z"
   },
   {
    "duration": 78,
    "start_time": "2022-10-29T19:18:41.944Z"
   },
   {
    "duration": 15,
    "start_time": "2022-10-29T19:18:42.023Z"
   },
   {
    "duration": 12,
    "start_time": "2022-10-29T19:18:42.042Z"
   },
   {
    "duration": 199,
    "start_time": "2022-10-29T19:18:42.056Z"
   },
   {
    "duration": 19,
    "start_time": "2022-10-29T19:18:42.257Z"
   },
   {
    "duration": 1087,
    "start_time": "2022-10-29T19:18:42.277Z"
   },
   {
    "duration": 44,
    "start_time": "2022-10-29T19:18:43.366Z"
   },
   {
    "duration": 591,
    "start_time": "2022-10-29T19:18:43.412Z"
   },
   {
    "duration": 35455,
    "start_time": "2022-10-29T19:18:44.006Z"
   },
   {
    "duration": 661,
    "start_time": "2022-10-29T19:19:19.464Z"
   },
   {
    "duration": 12,
    "start_time": "2022-10-29T19:19:20.127Z"
   },
   {
    "duration": 12,
    "start_time": "2022-10-29T19:19:20.141Z"
   },
   {
    "duration": 7,
    "start_time": "2022-10-29T19:19:20.225Z"
   },
   {
    "duration": 12,
    "start_time": "2022-10-29T19:19:20.235Z"
   },
   {
    "duration": 5,
    "start_time": "2022-10-29T19:19:20.250Z"
   },
   {
    "duration": 17,
    "start_time": "2022-10-29T19:19:20.258Z"
   },
   {
    "duration": 918,
    "start_time": "2022-10-29T19:19:20.278Z"
   },
   {
    "duration": 399,
    "start_time": "2022-10-29T19:19:21.198Z"
   },
   {
    "duration": 52024,
    "start_time": "2022-10-29T19:19:21.599Z"
   },
   {
    "duration": 23416,
    "start_time": "2022-10-29T19:20:13.625Z"
   },
   {
    "duration": 393,
    "start_time": "2022-10-29T19:20:37.042Z"
   },
   {
    "duration": 692,
    "start_time": "2022-10-29T19:20:37.437Z"
   },
   {
    "duration": 99,
    "start_time": "2022-10-29T19:20:38.131Z"
   },
   {
    "duration": 12,
    "start_time": "2022-10-29T19:20:38.232Z"
   },
   {
    "duration": 24,
    "start_time": "2022-10-29T19:20:38.245Z"
   },
   {
    "duration": 59,
    "start_time": "2022-10-29T19:20:38.271Z"
   },
   {
    "duration": 95,
    "start_time": "2022-10-29T19:20:38.335Z"
   },
   {
    "duration": 257,
    "start_time": "2022-10-29T19:20:38.432Z"
   },
   {
    "duration": 136,
    "start_time": "2022-10-29T19:20:38.690Z"
   },
   {
    "duration": 4797,
    "start_time": "2022-10-29T19:20:38.829Z"
   },
   {
    "duration": 127,
    "start_time": "2022-10-29T19:21:08.306Z"
   },
   {
    "duration": 880,
    "start_time": "2022-10-29T19:21:59.950Z"
   },
   {
    "duration": 1022,
    "start_time": "2022-10-29T19:24:28.223Z"
   },
   {
    "duration": 5,
    "start_time": "2022-10-29T19:25:14.166Z"
   },
   {
    "duration": 1504,
    "start_time": "2022-10-29T19:26:12.934Z"
   },
   {
    "duration": 391,
    "start_time": "2022-10-29T19:26:43.334Z"
   },
   {
    "duration": 325,
    "start_time": "2022-10-29T19:28:40.407Z"
   },
   {
    "duration": 771,
    "start_time": "2022-10-29T19:28:52.854Z"
   },
   {
    "duration": 24467,
    "start_time": "2022-10-29T19:29:03.777Z"
   },
   {
    "duration": 71,
    "start_time": "2022-10-29T19:31:51.231Z"
   },
   {
    "duration": 269,
    "start_time": "2022-10-29T19:31:54.663Z"
   },
   {
    "duration": 550,
    "start_time": "2022-10-29T19:31:56.786Z"
   },
   {
    "duration": 11,
    "start_time": "2022-10-29T19:32:01.769Z"
   },
   {
    "duration": 148,
    "start_time": "2022-10-29T19:32:52.284Z"
   },
   {
    "duration": 740,
    "start_time": "2022-10-29T19:33:09.183Z"
   },
   {
    "duration": 452,
    "start_time": "2022-10-29T19:33:32.388Z"
   },
   {
    "duration": 23792,
    "start_time": "2022-10-29T19:34:23.968Z"
   },
   {
    "duration": 817,
    "start_time": "2022-10-29T19:41:30.385Z"
   },
   {
    "duration": 793,
    "start_time": "2022-10-29T19:41:38.817Z"
   },
   {
    "duration": 366,
    "start_time": "2022-10-29T19:42:39.765Z"
   },
   {
    "duration": 12,
    "start_time": "2022-10-29T19:46:18.753Z"
   },
   {
    "duration": 1431,
    "start_time": "2022-10-29T19:46:43.536Z"
   },
   {
    "duration": 68,
    "start_time": "2022-10-29T19:46:44.969Z"
   },
   {
    "duration": 14,
    "start_time": "2022-10-29T19:46:45.040Z"
   },
   {
    "duration": 13,
    "start_time": "2022-10-29T19:46:45.055Z"
   },
   {
    "duration": 195,
    "start_time": "2022-10-29T19:46:45.071Z"
   },
   {
    "duration": 18,
    "start_time": "2022-10-29T19:46:45.268Z"
   },
   {
    "duration": 1109,
    "start_time": "2022-10-29T19:46:45.288Z"
   },
   {
    "duration": 53,
    "start_time": "2022-10-29T19:46:46.399Z"
   },
   {
    "duration": 595,
    "start_time": "2022-10-29T19:46:46.454Z"
   },
   {
    "duration": 35462,
    "start_time": "2022-10-29T19:46:47.051Z"
   },
   {
    "duration": 216,
    "start_time": "2022-10-29T19:47:22.515Z"
   },
   {
    "duration": 99,
    "start_time": "2022-10-29T19:47:22.733Z"
   },
   {
    "duration": 15,
    "start_time": "2022-10-29T19:47:22.925Z"
   },
   {
    "duration": 12,
    "start_time": "2022-10-29T19:47:22.943Z"
   },
   {
    "duration": 24,
    "start_time": "2022-10-29T19:47:22.957Z"
   },
   {
    "duration": 9,
    "start_time": "2022-10-29T19:47:22.984Z"
   },
   {
    "duration": 32,
    "start_time": "2022-10-29T19:47:22.994Z"
   },
   {
    "duration": 799,
    "start_time": "2022-10-29T19:47:23.028Z"
   },
   {
    "duration": 375,
    "start_time": "2022-10-29T19:47:23.828Z"
   },
   {
    "duration": 52084,
    "start_time": "2022-10-29T19:47:24.205Z"
   },
   {
    "duration": 23697,
    "start_time": "2022-10-29T19:48:16.291Z"
   },
   {
    "duration": 348,
    "start_time": "2022-10-29T19:48:39.990Z"
   },
   {
    "duration": 703,
    "start_time": "2022-10-29T19:48:40.424Z"
   },
   {
    "duration": 95,
    "start_time": "2022-10-29T19:48:41.130Z"
   },
   {
    "duration": 12,
    "start_time": "2022-10-29T19:48:41.227Z"
   },
   {
    "duration": 24,
    "start_time": "2022-10-29T19:48:41.240Z"
   },
   {
    "duration": 62,
    "start_time": "2022-10-29T19:48:41.267Z"
   },
   {
    "duration": 97,
    "start_time": "2022-10-29T19:48:41.331Z"
   },
   {
    "duration": 294,
    "start_time": "2022-10-29T19:48:41.431Z"
   },
   {
    "duration": 5102,
    "start_time": "2022-10-29T19:48:41.728Z"
   },
   {
    "duration": 74,
    "start_time": "2022-10-29T19:52:20.220Z"
   },
   {
    "duration": 4956,
    "start_time": "2022-10-29T19:52:34.489Z"
   },
   {
    "duration": 4928,
    "start_time": "2022-10-29T19:53:01.902Z"
   },
   {
    "duration": 4717,
    "start_time": "2022-10-29T19:53:27.209Z"
   },
   {
    "duration": 5312,
    "start_time": "2022-10-29T19:53:36.721Z"
   },
   {
    "duration": 625,
    "start_time": "2022-10-29T20:23:29.045Z"
   },
   {
    "duration": 76,
    "start_time": "2022-10-29T20:23:29.671Z"
   },
   {
    "duration": 543,
    "start_time": "2022-10-29T20:23:29.889Z"
   },
   {
    "duration": 35355,
    "start_time": "2022-10-29T20:23:41.661Z"
   },
   {
    "duration": 9,
    "start_time": "2022-10-29T20:25:30.778Z"
   },
   {
    "duration": 9,
    "start_time": "2022-10-29T20:26:27.287Z"
   },
   {
    "duration": 222,
    "start_time": "2022-10-29T20:26:38.706Z"
   },
   {
    "duration": 12,
    "start_time": "2022-10-29T20:26:40.306Z"
   },
   {
    "duration": 12,
    "start_time": "2022-10-29T20:26:47.493Z"
   },
   {
    "duration": 16,
    "start_time": "2022-10-29T20:28:30.531Z"
   },
   {
    "duration": 8,
    "start_time": "2022-10-29T20:28:42.951Z"
   },
   {
    "duration": 21,
    "start_time": "2022-10-29T20:28:47.351Z"
   },
   {
    "duration": 19,
    "start_time": "2022-10-29T20:30:17.780Z"
   },
   {
    "duration": 1459,
    "start_time": "2022-10-29T20:30:25.725Z"
   },
   {
    "duration": 71,
    "start_time": "2022-10-29T20:30:27.186Z"
   },
   {
    "duration": 14,
    "start_time": "2022-10-29T20:30:27.259Z"
   },
   {
    "duration": 12,
    "start_time": "2022-10-29T20:30:27.275Z"
   },
   {
    "duration": 209,
    "start_time": "2022-10-29T20:30:27.289Z"
   },
   {
    "duration": 28,
    "start_time": "2022-10-29T20:30:27.500Z"
   },
   {
    "duration": 1089,
    "start_time": "2022-10-29T20:30:27.529Z"
   },
   {
    "duration": 43,
    "start_time": "2022-10-29T20:30:28.620Z"
   },
   {
    "duration": 603,
    "start_time": "2022-10-29T20:30:28.665Z"
   },
   {
    "duration": 36870,
    "start_time": "2022-10-29T20:30:29.271Z"
   },
   {
    "duration": 285,
    "start_time": "2022-10-29T20:31:06.143Z"
   },
   {
    "duration": 194,
    "start_time": "2022-10-29T20:31:06.430Z"
   },
   {
    "duration": 4,
    "start_time": "2022-10-29T20:31:06.626Z"
   },
   {
    "duration": 4,
    "start_time": "2022-10-29T20:31:06.632Z"
   },
   {
    "duration": 14,
    "start_time": "2022-10-29T20:31:06.638Z"
   },
   {
    "duration": 4,
    "start_time": "2022-10-29T20:31:06.654Z"
   },
   {
    "duration": 12,
    "start_time": "2022-10-29T20:31:06.660Z"
   },
   {
    "duration": 858,
    "start_time": "2022-10-29T20:31:06.674Z"
   },
   {
    "duration": 348,
    "start_time": "2022-10-29T20:31:07.534Z"
   },
   {
    "duration": 1427,
    "start_time": "2022-10-29T20:31:56.152Z"
   },
   {
    "duration": 68,
    "start_time": "2022-10-29T20:31:57.581Z"
   },
   {
    "duration": 13,
    "start_time": "2022-10-29T20:31:57.650Z"
   },
   {
    "duration": 12,
    "start_time": "2022-10-29T20:31:57.665Z"
   },
   {
    "duration": 207,
    "start_time": "2022-10-29T20:31:57.678Z"
   },
   {
    "duration": 18,
    "start_time": "2022-10-29T20:31:57.886Z"
   },
   {
    "duration": 1070,
    "start_time": "2022-10-29T20:31:57.905Z"
   },
   {
    "duration": 49,
    "start_time": "2022-10-29T20:31:58.977Z"
   },
   {
    "duration": 586,
    "start_time": "2022-10-29T20:31:59.028Z"
   },
   {
    "duration": 35248,
    "start_time": "2022-10-29T20:31:59.616Z"
   },
   {
    "duration": 265,
    "start_time": "2022-10-29T20:32:34.865Z"
   },
   {
    "duration": 192,
    "start_time": "2022-10-29T20:32:35.133Z"
   },
   {
    "duration": 5,
    "start_time": "2022-10-29T20:32:35.327Z"
   },
   {
    "duration": 5,
    "start_time": "2022-10-29T20:32:35.333Z"
   },
   {
    "duration": 11,
    "start_time": "2022-10-29T20:32:35.339Z"
   },
   {
    "duration": 4,
    "start_time": "2022-10-29T20:32:35.351Z"
   },
   {
    "duration": 20,
    "start_time": "2022-10-29T20:32:35.356Z"
   },
   {
    "duration": 797,
    "start_time": "2022-10-29T20:32:35.378Z"
   },
   {
    "duration": 360,
    "start_time": "2022-10-29T20:32:36.177Z"
   },
   {
    "duration": 51992,
    "start_time": "2022-10-29T20:32:36.539Z"
   },
   {
    "duration": 24112,
    "start_time": "2022-10-29T20:33:28.533Z"
   },
   {
    "duration": 386,
    "start_time": "2022-10-29T20:33:52.647Z"
   },
   {
    "duration": 893,
    "start_time": "2022-10-29T20:33:53.035Z"
   },
   {
    "duration": 99,
    "start_time": "2022-10-29T20:33:53.930Z"
   },
   {
    "duration": 10,
    "start_time": "2022-10-29T20:33:54.031Z"
   },
   {
    "duration": 24,
    "start_time": "2022-10-29T20:33:54.043Z"
   },
   {
    "duration": 155,
    "start_time": "2022-10-29T20:33:54.068Z"
   },
   {
    "duration": 9,
    "start_time": "2022-10-29T20:33:54.228Z"
   },
   {
    "duration": 285,
    "start_time": "2022-10-29T20:33:54.239Z"
   },
   {
    "duration": 4902,
    "start_time": "2022-10-29T20:33:54.526Z"
   },
   {
    "duration": 20,
    "start_time": "2022-10-29T20:33:59.429Z"
   },
   {
    "duration": 45,
    "start_time": "2022-10-30T04:07:24.101Z"
   },
   {
    "duration": 0,
    "start_time": "2022-10-30T04:08:06.297Z"
   },
   {
    "duration": 0,
    "start_time": "2022-10-30T04:08:06.297Z"
   },
   {
    "duration": 0,
    "start_time": "2022-10-30T04:08:06.298Z"
   },
   {
    "duration": 0,
    "start_time": "2022-10-30T04:08:06.339Z"
   },
   {
    "duration": 0,
    "start_time": "2022-10-30T04:08:06.340Z"
   },
   {
    "duration": 0,
    "start_time": "2022-10-30T04:08:06.341Z"
   },
   {
    "duration": 0,
    "start_time": "2022-10-30T04:08:06.342Z"
   },
   {
    "duration": 0,
    "start_time": "2022-10-30T04:08:06.343Z"
   },
   {
    "duration": 0,
    "start_time": "2022-10-30T04:08:06.344Z"
   },
   {
    "duration": 0,
    "start_time": "2022-10-30T04:08:06.345Z"
   },
   {
    "duration": 0,
    "start_time": "2022-10-30T04:08:06.346Z"
   },
   {
    "duration": 0,
    "start_time": "2022-10-30T04:08:06.347Z"
   },
   {
    "duration": 0,
    "start_time": "2022-10-30T04:08:06.348Z"
   },
   {
    "duration": 0,
    "start_time": "2022-10-30T04:08:06.349Z"
   },
   {
    "duration": 0,
    "start_time": "2022-10-30T04:08:06.350Z"
   },
   {
    "duration": 0,
    "start_time": "2022-10-30T04:08:06.351Z"
   },
   {
    "duration": 0,
    "start_time": "2022-10-30T04:08:06.352Z"
   },
   {
    "duration": 0,
    "start_time": "2022-10-30T04:08:06.353Z"
   },
   {
    "duration": 0,
    "start_time": "2022-10-30T04:08:06.354Z"
   },
   {
    "duration": 0,
    "start_time": "2022-10-30T04:08:06.355Z"
   },
   {
    "duration": 0,
    "start_time": "2022-10-30T04:08:06.356Z"
   },
   {
    "duration": 0,
    "start_time": "2022-10-30T04:08:06.357Z"
   },
   {
    "duration": 0,
    "start_time": "2022-10-30T04:08:06.358Z"
   },
   {
    "duration": 0,
    "start_time": "2022-10-30T04:08:06.359Z"
   },
   {
    "duration": 0,
    "start_time": "2022-10-30T04:08:06.360Z"
   },
   {
    "duration": 0,
    "start_time": "2022-10-30T04:08:06.360Z"
   },
   {
    "duration": 0,
    "start_time": "2022-10-30T04:08:06.361Z"
   },
   {
    "duration": 0,
    "start_time": "2022-10-30T04:08:06.362Z"
   },
   {
    "duration": 0,
    "start_time": "2022-10-30T04:08:06.363Z"
   },
   {
    "duration": 0,
    "start_time": "2022-10-30T04:08:06.364Z"
   },
   {
    "duration": 0,
    "start_time": "2022-10-30T04:08:06.365Z"
   },
   {
    "duration": 0,
    "start_time": "2022-10-30T04:08:06.366Z"
   },
   {
    "duration": 0,
    "start_time": "2022-10-30T04:08:06.368Z"
   },
   {
    "duration": 0,
    "start_time": "2022-10-30T04:08:06.368Z"
   },
   {
    "duration": 1386,
    "start_time": "2022-10-30T04:11:08.521Z"
   },
   {
    "duration": 64,
    "start_time": "2022-10-30T04:11:09.909Z"
   },
   {
    "duration": 4,
    "start_time": "2022-10-30T04:11:09.975Z"
   },
   {
    "duration": 11,
    "start_time": "2022-10-30T04:11:09.982Z"
   },
   {
    "duration": 11,
    "start_time": "2022-10-30T04:11:09.994Z"
   },
   {
    "duration": 188,
    "start_time": "2022-10-30T04:11:10.006Z"
   },
   {
    "duration": 16,
    "start_time": "2022-10-30T04:11:10.196Z"
   },
   {
    "duration": 1050,
    "start_time": "2022-10-30T04:11:10.213Z"
   },
   {
    "duration": 9,
    "start_time": "2022-10-30T04:11:11.265Z"
   },
   {
    "duration": 9,
    "start_time": "2022-10-30T04:11:11.276Z"
   },
   {
    "duration": 114,
    "start_time": "2022-10-30T04:11:11.287Z"
   },
   {
    "duration": 533,
    "start_time": "2022-10-30T04:11:11.403Z"
   },
   {
    "duration": 26827,
    "start_time": "2022-10-30T04:11:11.939Z"
   },
   {
    "duration": 276,
    "start_time": "2022-10-30T04:11:38.768Z"
   },
   {
    "duration": 192,
    "start_time": "2022-10-30T04:11:39.047Z"
   },
   {
    "duration": 5,
    "start_time": "2022-10-30T04:11:39.240Z"
   },
   {
    "duration": 6,
    "start_time": "2022-10-30T04:11:39.247Z"
   },
   {
    "duration": 123,
    "start_time": "2022-10-30T04:11:39.254Z"
   },
   {
    "duration": 0,
    "start_time": "2022-10-30T04:11:39.380Z"
   },
   {
    "duration": 0,
    "start_time": "2022-10-30T04:11:39.380Z"
   },
   {
    "duration": 0,
    "start_time": "2022-10-30T04:11:39.382Z"
   },
   {
    "duration": 0,
    "start_time": "2022-10-30T04:11:39.383Z"
   },
   {
    "duration": 0,
    "start_time": "2022-10-30T04:11:39.385Z"
   },
   {
    "duration": 0,
    "start_time": "2022-10-30T04:11:39.386Z"
   },
   {
    "duration": 0,
    "start_time": "2022-10-30T04:11:39.387Z"
   },
   {
    "duration": 0,
    "start_time": "2022-10-30T04:11:39.388Z"
   },
   {
    "duration": 0,
    "start_time": "2022-10-30T04:11:39.388Z"
   },
   {
    "duration": 0,
    "start_time": "2022-10-30T04:11:39.389Z"
   },
   {
    "duration": 0,
    "start_time": "2022-10-30T04:11:39.390Z"
   },
   {
    "duration": 0,
    "start_time": "2022-10-30T04:11:39.391Z"
   },
   {
    "duration": 0,
    "start_time": "2022-10-30T04:11:39.392Z"
   },
   {
    "duration": 0,
    "start_time": "2022-10-30T04:11:39.392Z"
   },
   {
    "duration": 1,
    "start_time": "2022-10-30T04:11:39.393Z"
   },
   {
    "duration": 0,
    "start_time": "2022-10-30T04:11:39.395Z"
   },
   {
    "duration": 0,
    "start_time": "2022-10-30T04:11:39.396Z"
   },
   {
    "duration": 4,
    "start_time": "2022-10-30T04:13:33.498Z"
   },
   {
    "duration": 17,
    "start_time": "2022-10-30T04:13:40.274Z"
   },
   {
    "duration": 4,
    "start_time": "2022-10-30T04:14:06.859Z"
   },
   {
    "duration": 7,
    "start_time": "2022-10-30T04:16:34.464Z"
   },
   {
    "duration": 27,
    "start_time": "2022-10-30T04:16:36.632Z"
   },
   {
    "duration": 25,
    "start_time": "2022-10-30T04:16:38.420Z"
   },
   {
    "duration": 547,
    "start_time": "2022-10-30T04:16:40.084Z"
   },
   {
    "duration": 31267,
    "start_time": "2022-10-30T04:16:41.576Z"
   },
   {
    "duration": 295,
    "start_time": "2022-10-30T04:17:12.845Z"
   },
   {
    "duration": 97,
    "start_time": "2022-10-30T04:17:13.143Z"
   },
   {
    "duration": 5,
    "start_time": "2022-10-30T04:17:13.242Z"
   },
   {
    "duration": 5,
    "start_time": "2022-10-30T04:17:13.248Z"
   },
   {
    "duration": 22,
    "start_time": "2022-10-30T04:17:13.254Z"
   },
   {
    "duration": 9,
    "start_time": "2022-10-30T04:20:39.306Z"
   },
   {
    "duration": 18,
    "start_time": "2022-10-30T04:20:53.718Z"
   },
   {
    "duration": 16,
    "start_time": "2022-10-30T04:21:06.238Z"
   },
   {
    "duration": 18,
    "start_time": "2022-10-30T04:21:22.533Z"
   },
   {
    "duration": 10,
    "start_time": "2022-10-30T04:21:44.097Z"
   },
   {
    "duration": 9,
    "start_time": "2022-10-30T04:22:09.954Z"
   },
   {
    "duration": 11,
    "start_time": "2022-10-30T04:22:30.830Z"
   },
   {
    "duration": 10,
    "start_time": "2022-10-30T04:23:01.366Z"
   },
   {
    "duration": 10,
    "start_time": "2022-10-30T04:23:14.790Z"
   },
   {
    "duration": 10,
    "start_time": "2022-10-30T04:23:28.951Z"
   },
   {
    "duration": 13,
    "start_time": "2022-10-30T04:23:57.214Z"
   },
   {
    "duration": 11,
    "start_time": "2022-10-30T04:24:28.495Z"
   },
   {
    "duration": 10,
    "start_time": "2022-10-30T04:24:33.263Z"
   },
   {
    "duration": 12,
    "start_time": "2022-10-30T04:24:53.877Z"
   },
   {
    "duration": 11,
    "start_time": "2022-10-30T04:25:00.803Z"
   },
   {
    "duration": 10,
    "start_time": "2022-10-30T04:25:07.523Z"
   },
   {
    "duration": 10,
    "start_time": "2022-10-30T04:25:21.477Z"
   },
   {
    "duration": 30,
    "start_time": "2022-10-30T04:25:49.776Z"
   },
   {
    "duration": 460,
    "start_time": "2022-10-30T04:26:11.751Z"
   },
   {
    "duration": 26863,
    "start_time": "2022-10-30T04:26:13.563Z"
   },
   {
    "duration": 420,
    "start_time": "2022-10-30T04:26:40.427Z"
   },
   {
    "duration": 102,
    "start_time": "2022-10-30T04:26:40.849Z"
   },
   {
    "duration": 4,
    "start_time": "2022-10-30T04:26:43.643Z"
   },
   {
    "duration": 4,
    "start_time": "2022-10-30T04:26:55.351Z"
   },
   {
    "duration": 4,
    "start_time": "2022-10-30T04:27:26.959Z"
   },
   {
    "duration": 18,
    "start_time": "2022-10-30T04:27:27.867Z"
   },
   {
    "duration": 5,
    "start_time": "2022-10-30T04:28:49.348Z"
   },
   {
    "duration": 23,
    "start_time": "2022-10-30T04:28:53.027Z"
   },
   {
    "duration": 4,
    "start_time": "2022-10-30T04:29:17.996Z"
   },
   {
    "duration": 19,
    "start_time": "2022-10-30T04:29:21.107Z"
   },
   {
    "duration": 5,
    "start_time": "2022-10-30T04:32:51.493Z"
   },
   {
    "duration": 11,
    "start_time": "2022-10-30T04:33:14.332Z"
   },
   {
    "duration": 14,
    "start_time": "2022-10-30T04:33:49.101Z"
   },
   {
    "duration": 13,
    "start_time": "2022-10-30T04:34:02.022Z"
   },
   {
    "duration": 15,
    "start_time": "2022-10-30T04:34:55.493Z"
   },
   {
    "duration": 11,
    "start_time": "2022-10-30T04:35:11.189Z"
   },
   {
    "duration": 11,
    "start_time": "2022-10-30T04:35:18.369Z"
   },
   {
    "duration": 14,
    "start_time": "2022-10-30T04:35:25.641Z"
   },
   {
    "duration": 12,
    "start_time": "2022-10-30T04:35:32.773Z"
   },
   {
    "duration": 13,
    "start_time": "2022-10-30T04:35:52.370Z"
   },
   {
    "duration": 9,
    "start_time": "2022-10-30T04:36:24.602Z"
   },
   {
    "duration": 25,
    "start_time": "2022-10-30T04:36:25.934Z"
   },
   {
    "duration": 557,
    "start_time": "2022-10-30T04:36:26.953Z"
   },
   {
    "duration": 28358,
    "start_time": "2022-10-30T04:36:27.512Z"
   },
   {
    "duration": 476,
    "start_time": "2022-10-30T04:36:55.872Z"
   },
   {
    "duration": 95,
    "start_time": "2022-10-30T04:36:56.350Z"
   },
   {
    "duration": 6,
    "start_time": "2022-10-30T04:36:56.448Z"
   },
   {
    "duration": 4,
    "start_time": "2022-10-30T04:36:56.456Z"
   },
   {
    "duration": 19,
    "start_time": "2022-10-30T04:36:56.462Z"
   },
   {
    "duration": 166,
    "start_time": "2022-10-30T04:39:22.126Z"
   },
   {
    "duration": 17,
    "start_time": "2022-10-30T04:39:24.262Z"
   },
   {
    "duration": 1047,
    "start_time": "2022-10-30T04:39:25.609Z"
   },
   {
    "duration": 12,
    "start_time": "2022-10-30T04:39:28.642Z"
   },
   {
    "duration": 12,
    "start_time": "2022-10-30T04:39:30.425Z"
   },
   {
    "duration": 11,
    "start_time": "2022-10-30T04:40:41.882Z"
   },
   {
    "duration": 4,
    "start_time": "2022-10-30T04:40:51.163Z"
   },
   {
    "duration": 9,
    "start_time": "2022-10-30T04:40:52.070Z"
   },
   {
    "duration": 1351,
    "start_time": "2022-10-30T04:41:01.931Z"
   },
   {
    "duration": 65,
    "start_time": "2022-10-30T04:41:03.284Z"
   },
   {
    "duration": 4,
    "start_time": "2022-10-30T04:41:03.351Z"
   },
   {
    "duration": 13,
    "start_time": "2022-10-30T04:41:03.358Z"
   },
   {
    "duration": 12,
    "start_time": "2022-10-30T04:41:03.373Z"
   },
   {
    "duration": 213,
    "start_time": "2022-10-30T04:41:03.387Z"
   },
   {
    "duration": 20,
    "start_time": "2022-10-30T04:41:03.602Z"
   },
   {
    "duration": 1049,
    "start_time": "2022-10-30T04:41:03.638Z"
   },
   {
    "duration": 12,
    "start_time": "2022-10-30T04:41:04.689Z"
   },
   {
    "duration": 10,
    "start_time": "2022-10-30T04:41:04.704Z"
   },
   {
    "duration": 129,
    "start_time": "2022-10-30T04:41:04.716Z"
   },
   {
    "duration": 471,
    "start_time": "2022-10-30T04:41:04.847Z"
   },
   {
    "duration": 27328,
    "start_time": "2022-10-30T04:41:05.320Z"
   },
   {
    "duration": 199,
    "start_time": "2022-10-30T04:41:32.651Z"
   },
   {
    "duration": 105,
    "start_time": "2022-10-30T04:41:32.942Z"
   },
   {
    "duration": 4,
    "start_time": "2022-10-30T04:41:33.050Z"
   },
   {
    "duration": 5,
    "start_time": "2022-10-30T04:41:33.056Z"
   },
   {
    "duration": 11,
    "start_time": "2022-10-30T04:41:33.063Z"
   },
   {
    "duration": 3,
    "start_time": "2022-10-30T04:41:33.076Z"
   },
   {
    "duration": 12,
    "start_time": "2022-10-30T04:41:33.081Z"
   },
   {
    "duration": 632,
    "start_time": "2022-10-30T04:41:33.094Z"
   },
   {
    "duration": 334,
    "start_time": "2022-10-30T04:41:33.727Z"
   },
   {
    "duration": 38221,
    "start_time": "2022-10-30T04:41:34.063Z"
   },
   {
    "duration": 21312,
    "start_time": "2022-10-30T04:42:12.285Z"
   },
   {
    "duration": 344,
    "start_time": "2022-10-30T04:42:33.598Z"
   },
   {
    "duration": 806,
    "start_time": "2022-10-30T04:42:33.944Z"
   },
   {
    "duration": 101,
    "start_time": "2022-10-30T04:42:34.839Z"
   },
   {
    "duration": 8,
    "start_time": "2022-10-30T04:42:34.943Z"
   },
   {
    "duration": 20,
    "start_time": "2022-10-30T04:42:34.952Z"
   },
   {
    "duration": 8,
    "start_time": "2022-10-30T04:42:34.974Z"
   },
   {
    "duration": 109,
    "start_time": "2022-10-30T04:42:35.039Z"
   },
   {
    "duration": 221,
    "start_time": "2022-10-30T04:42:35.151Z"
   },
   {
    "duration": 130,
    "start_time": "2022-10-30T04:42:35.373Z"
   },
   {
    "duration": 0,
    "start_time": "2022-10-30T04:42:35.505Z"
   },
   {
    "duration": 0,
    "start_time": "2022-10-30T04:42:35.506Z"
   },
   {
    "duration": 26,
    "start_time": "2022-10-30T04:45:13.131Z"
   },
   {
    "duration": 25,
    "start_time": "2022-10-30T04:45:36.323Z"
   },
   {
    "duration": 23,
    "start_time": "2022-10-30T04:46:46.514Z"
   },
   {
    "duration": 28,
    "start_time": "2022-10-30T04:48:26.593Z"
   },
   {
    "duration": 22,
    "start_time": "2022-10-30T04:49:33.037Z"
   },
   {
    "duration": 1316,
    "start_time": "2022-10-30T04:49:43.464Z"
   },
   {
    "duration": 64,
    "start_time": "2022-10-30T04:49:44.782Z"
   },
   {
    "duration": 4,
    "start_time": "2022-10-30T04:49:44.848Z"
   },
   {
    "duration": 12,
    "start_time": "2022-10-30T04:49:44.854Z"
   },
   {
    "duration": 13,
    "start_time": "2022-10-30T04:49:44.868Z"
   },
   {
    "duration": 184,
    "start_time": "2022-10-30T04:49:44.882Z"
   },
   {
    "duration": 16,
    "start_time": "2022-10-30T04:49:45.068Z"
   },
   {
    "duration": 997,
    "start_time": "2022-10-30T04:49:45.086Z"
   },
   {
    "duration": 10,
    "start_time": "2022-10-30T04:49:46.085Z"
   },
   {
    "duration": 25,
    "start_time": "2022-10-30T04:49:46.097Z"
   },
   {
    "duration": 35,
    "start_time": "2022-10-30T04:49:46.123Z"
   },
   {
    "duration": 460,
    "start_time": "2022-10-30T04:49:46.160Z"
   },
   {
    "duration": 27771,
    "start_time": "2022-10-30T04:49:46.622Z"
   },
   {
    "duration": 549,
    "start_time": "2022-10-30T04:50:14.394Z"
   },
   {
    "duration": 98,
    "start_time": "2022-10-30T04:50:14.945Z"
   },
   {
    "duration": 7,
    "start_time": "2022-10-30T04:50:15.045Z"
   },
   {
    "duration": 6,
    "start_time": "2022-10-30T04:50:15.053Z"
   },
   {
    "duration": 11,
    "start_time": "2022-10-30T04:50:15.060Z"
   },
   {
    "duration": 5,
    "start_time": "2022-10-30T04:50:15.073Z"
   },
   {
    "duration": 13,
    "start_time": "2022-10-30T04:50:15.079Z"
   },
   {
    "duration": 610,
    "start_time": "2022-10-30T04:50:15.094Z"
   },
   {
    "duration": 344,
    "start_time": "2022-10-30T04:50:15.706Z"
   },
   {
    "duration": 39502,
    "start_time": "2022-10-30T04:50:16.052Z"
   },
   {
    "duration": 21550,
    "start_time": "2022-10-30T04:50:55.555Z"
   },
   {
    "duration": 642,
    "start_time": "2022-10-30T04:51:17.106Z"
   },
   {
    "duration": 796,
    "start_time": "2022-10-30T04:51:17.750Z"
   },
   {
    "duration": 99,
    "start_time": "2022-10-30T04:51:18.549Z"
   },
   {
    "duration": 98,
    "start_time": "2022-10-30T04:51:18.652Z"
   },
   {
    "duration": 25,
    "start_time": "2022-10-30T04:51:18.752Z"
   },
   {
    "duration": 62,
    "start_time": "2022-10-30T04:51:18.778Z"
   },
   {
    "duration": 100,
    "start_time": "2022-10-30T04:51:18.843Z"
   },
   {
    "duration": 259,
    "start_time": "2022-10-30T04:51:18.944Z"
   },
   {
    "duration": 34,
    "start_time": "2022-10-30T04:51:19.205Z"
   },
   {
    "duration": 3801,
    "start_time": "2022-10-30T04:51:19.241Z"
   },
   {
    "duration": 109,
    "start_time": "2022-10-30T04:51:23.044Z"
   },
   {
    "duration": 111,
    "start_time": "2022-10-30T04:53:48.663Z"
   },
   {
    "duration": 18,
    "start_time": "2022-10-30T04:53:58.428Z"
   },
   {
    "duration": 39623,
    "start_time": "2022-10-30T04:54:20.191Z"
   },
   {
    "duration": 28,
    "start_time": "2022-10-30T04:55:26.279Z"
   },
   {
    "duration": 37,
    "start_time": "2022-10-30T04:56:47.163Z"
   },
   {
    "duration": 4,
    "start_time": "2022-10-30T04:58:09.847Z"
   },
   {
    "duration": 10,
    "start_time": "2022-10-30T04:58:13.467Z"
   },
   {
    "duration": 4,
    "start_time": "2022-10-30T04:58:15.174Z"
   },
   {
    "duration": 10,
    "start_time": "2022-10-30T04:58:15.755Z"
   },
   {
    "duration": 601,
    "start_time": "2022-10-30T04:58:22.196Z"
   },
   {
    "duration": 227,
    "start_time": "2022-10-30T04:58:25.151Z"
   },
   {
    "duration": 39109,
    "start_time": "2022-10-30T04:58:38.280Z"
   },
   {
    "duration": 17452,
    "start_time": "2022-10-30T04:59:17.391Z"
   },
   {
    "duration": 298,
    "start_time": "2022-10-30T04:59:34.845Z"
   },
   {
    "duration": 296,
    "start_time": "2022-10-30T04:59:35.146Z"
   },
   {
    "duration": 101,
    "start_time": "2022-10-30T04:59:35.444Z"
   },
   {
    "duration": 26,
    "start_time": "2022-10-30T04:59:35.547Z"
   },
   {
    "duration": 11,
    "start_time": "2022-10-30T05:00:01.679Z"
   },
   {
    "duration": 15,
    "start_time": "2022-10-30T05:00:57.612Z"
   },
   {
    "duration": 8,
    "start_time": "2022-10-30T05:02:08.155Z"
   },
   {
    "duration": 30,
    "start_time": "2022-10-30T05:02:09.459Z"
   },
   {
    "duration": 354,
    "start_time": "2022-10-30T05:02:10.819Z"
   },
   {
    "duration": 1327,
    "start_time": "2022-10-30T05:02:23.277Z"
   },
   {
    "duration": 71,
    "start_time": "2022-10-30T05:02:24.605Z"
   },
   {
    "duration": 5,
    "start_time": "2022-10-30T05:02:24.678Z"
   },
   {
    "duration": 16,
    "start_time": "2022-10-30T05:02:24.685Z"
   },
   {
    "duration": 12,
    "start_time": "2022-10-30T05:02:24.702Z"
   },
   {
    "duration": 183,
    "start_time": "2022-10-30T05:02:24.715Z"
   },
   {
    "duration": 17,
    "start_time": "2022-10-30T05:02:24.899Z"
   },
   {
    "duration": 1039,
    "start_time": "2022-10-30T05:02:24.917Z"
   },
   {
    "duration": 9,
    "start_time": "2022-10-30T05:02:25.958Z"
   },
   {
    "duration": 12,
    "start_time": "2022-10-30T05:02:25.969Z"
   },
   {
    "duration": 108,
    "start_time": "2022-10-30T05:02:25.982Z"
   },
   {
    "duration": 374,
    "start_time": "2022-10-30T05:02:26.091Z"
   },
   {
    "duration": 23154,
    "start_time": "2022-10-30T05:02:26.467Z"
   },
   {
    "duration": 522,
    "start_time": "2022-10-30T05:02:49.623Z"
   },
   {
    "duration": 95,
    "start_time": "2022-10-30T05:02:50.148Z"
   },
   {
    "duration": 6,
    "start_time": "2022-10-30T05:02:50.244Z"
   },
   {
    "duration": 4,
    "start_time": "2022-10-30T05:02:50.252Z"
   },
   {
    "duration": 14,
    "start_time": "2022-10-30T05:02:50.258Z"
   },
   {
    "duration": 4,
    "start_time": "2022-10-30T05:02:50.274Z"
   },
   {
    "duration": 15,
    "start_time": "2022-10-30T05:02:50.279Z"
   },
   {
    "duration": 515,
    "start_time": "2022-10-30T05:02:50.295Z"
   },
   {
    "duration": 198,
    "start_time": "2022-10-30T05:02:50.812Z"
   },
   {
    "duration": 32410,
    "start_time": "2022-10-30T05:02:51.012Z"
   },
   {
    "duration": 15447,
    "start_time": "2022-10-30T05:03:23.424Z"
   },
   {
    "duration": 374,
    "start_time": "2022-10-30T05:03:38.873Z"
   },
   {
    "duration": 403,
    "start_time": "2022-10-30T05:03:39.249Z"
   },
   {
    "duration": 102,
    "start_time": "2022-10-30T05:03:39.739Z"
   },
   {
    "duration": 97,
    "start_time": "2022-10-30T05:03:39.845Z"
   },
   {
    "duration": 205,
    "start_time": "2022-10-30T05:03:39.945Z"
   },
   {
    "duration": 45,
    "start_time": "2022-10-30T05:03:40.152Z"
   },
   {
    "duration": 45,
    "start_time": "2022-10-30T05:03:40.199Z"
   },
   {
    "duration": 101,
    "start_time": "2022-10-30T05:03:40.249Z"
   },
   {
    "duration": 270,
    "start_time": "2022-10-30T05:03:40.352Z"
   },
   {
    "duration": 3216,
    "start_time": "2022-10-30T05:03:40.624Z"
   },
   {
    "duration": 111,
    "start_time": "2022-10-30T05:03:43.842Z"
   },
   {
    "duration": 123,
    "start_time": "2022-10-30T05:04:22.028Z"
   },
   {
    "duration": 13,
    "start_time": "2022-10-30T05:04:45.120Z"
   },
   {
    "duration": 46,
    "start_time": "2022-10-30T05:05:23.461Z"
   },
   {
    "duration": 8,
    "start_time": "2022-10-30T05:51:11.234Z"
   },
   {
    "duration": 10,
    "start_time": "2022-10-30T05:51:51.785Z"
   },
   {
    "duration": 13,
    "start_time": "2022-10-30T05:52:13.702Z"
   },
   {
    "duration": 12,
    "start_time": "2022-10-30T05:52:27.486Z"
   },
   {
    "duration": 10,
    "start_time": "2022-10-30T05:52:35.358Z"
   },
   {
    "duration": 9,
    "start_time": "2022-10-30T05:52:46.002Z"
   },
   {
    "duration": 13,
    "start_time": "2022-10-30T05:52:54.530Z"
   },
   {
    "duration": 10,
    "start_time": "2022-10-30T05:53:11.218Z"
   },
   {
    "duration": 9,
    "start_time": "2022-10-30T05:53:15.090Z"
   },
   {
    "duration": 13,
    "start_time": "2022-10-30T05:53:18.510Z"
   },
   {
    "duration": 11,
    "start_time": "2022-10-30T05:53:29.441Z"
   },
   {
    "duration": 10,
    "start_time": "2022-10-30T05:53:33.530Z"
   },
   {
    "duration": 10,
    "start_time": "2022-10-30T05:53:38.590Z"
   },
   {
    "duration": 10,
    "start_time": "2022-10-30T05:53:48.450Z"
   },
   {
    "duration": 11,
    "start_time": "2022-10-30T05:53:52.998Z"
   },
   {
    "duration": 10,
    "start_time": "2022-10-30T05:53:57.642Z"
   },
   {
    "duration": 11,
    "start_time": "2022-10-30T05:54:03.610Z"
   },
   {
    "duration": 27,
    "start_time": "2022-10-30T05:54:04.586Z"
   },
   {
    "duration": 403,
    "start_time": "2022-10-30T05:54:05.987Z"
   },
   {
    "duration": 25821,
    "start_time": "2022-10-30T05:54:08.082Z"
   },
   {
    "duration": 137,
    "start_time": "2022-10-30T05:54:33.905Z"
   },
   {
    "duration": 193,
    "start_time": "2022-10-30T05:54:34.046Z"
   },
   {
    "duration": 5,
    "start_time": "2022-10-30T05:54:34.241Z"
   },
   {
    "duration": 5,
    "start_time": "2022-10-30T05:54:34.248Z"
   },
   {
    "duration": 15,
    "start_time": "2022-10-30T05:54:34.254Z"
   },
   {
    "duration": 4,
    "start_time": "2022-10-30T05:54:34.270Z"
   },
   {
    "duration": 10,
    "start_time": "2022-10-30T05:54:34.276Z"
   },
   {
    "duration": 584,
    "start_time": "2022-10-30T05:54:34.288Z"
   },
   {
    "duration": 225,
    "start_time": "2022-10-30T05:54:34.874Z"
   },
   {
    "duration": 37790,
    "start_time": "2022-10-30T05:54:35.101Z"
   },
   {
    "duration": 16826,
    "start_time": "2022-10-30T05:55:12.892Z"
   },
   {
    "duration": 320,
    "start_time": "2022-10-30T05:55:29.720Z"
   },
   {
    "duration": 201,
    "start_time": "2022-10-30T05:55:30.047Z"
   },
   {
    "duration": 103,
    "start_time": "2022-10-30T05:55:30.340Z"
   },
   {
    "duration": 39,
    "start_time": "2022-10-30T05:55:30.444Z"
   },
   {
    "duration": 39381,
    "start_time": "2022-10-30T05:58:12.875Z"
   },
   {
    "duration": 39870,
    "start_time": "2022-10-30T05:59:01.543Z"
   },
   {
    "duration": 11,
    "start_time": "2022-10-30T06:03:00.864Z"
   },
   {
    "duration": 11,
    "start_time": "2022-10-30T06:03:11.956Z"
   },
   {
    "duration": 10,
    "start_time": "2022-10-30T06:03:23.480Z"
   },
   {
    "duration": 10,
    "start_time": "2022-10-30T06:03:27.828Z"
   },
   {
    "duration": 11,
    "start_time": "2022-10-30T06:03:31.848Z"
   },
   {
    "duration": 1391,
    "start_time": "2022-10-30T06:04:02.237Z"
   },
   {
    "duration": 64,
    "start_time": "2022-10-30T06:04:03.630Z"
   },
   {
    "duration": 4,
    "start_time": "2022-10-30T06:04:03.696Z"
   },
   {
    "duration": 12,
    "start_time": "2022-10-30T06:04:03.702Z"
   },
   {
    "duration": 12,
    "start_time": "2022-10-30T06:04:03.716Z"
   },
   {
    "duration": 171,
    "start_time": "2022-10-30T06:04:03.730Z"
   },
   {
    "duration": 19,
    "start_time": "2022-10-30T06:04:03.903Z"
   },
   {
    "duration": 1028,
    "start_time": "2022-10-30T06:04:03.923Z"
   },
   {
    "duration": 10,
    "start_time": "2022-10-30T06:04:04.952Z"
   },
   {
    "duration": 10,
    "start_time": "2022-10-30T06:04:04.964Z"
   },
   {
    "duration": 117,
    "start_time": "2022-10-30T06:04:04.976Z"
   },
   {
    "duration": 264,
    "start_time": "2022-10-30T06:04:05.094Z"
   },
   {
    "duration": 17988,
    "start_time": "2022-10-30T06:04:05.360Z"
   },
   {
    "duration": 698,
    "start_time": "2022-10-30T06:04:23.350Z"
   },
   {
    "duration": 93,
    "start_time": "2022-10-30T06:04:24.056Z"
   },
   {
    "duration": 10,
    "start_time": "2022-10-30T06:04:24.151Z"
   },
   {
    "duration": 8,
    "start_time": "2022-10-30T06:04:24.162Z"
   },
   {
    "duration": 11,
    "start_time": "2022-10-30T06:04:24.172Z"
   },
   {
    "duration": 4,
    "start_time": "2022-10-30T06:04:24.185Z"
   },
   {
    "duration": 13,
    "start_time": "2022-10-30T06:04:24.190Z"
   },
   {
    "duration": 395,
    "start_time": "2022-10-30T06:04:24.205Z"
   },
   {
    "duration": 171,
    "start_time": "2022-10-30T06:04:24.602Z"
   },
   {
    "duration": 24441,
    "start_time": "2022-10-30T06:04:24.775Z"
   },
   {
    "duration": 13333,
    "start_time": "2022-10-30T06:04:49.217Z"
   },
   {
    "duration": 294,
    "start_time": "2022-10-30T06:05:02.552Z"
   },
   {
    "duration": 300,
    "start_time": "2022-10-30T06:05:02.848Z"
   },
   {
    "duration": 101,
    "start_time": "2022-10-30T06:05:03.149Z"
   },
   {
    "duration": 53,
    "start_time": "2022-10-30T06:05:03.254Z"
   },
   {
    "duration": 10,
    "start_time": "2022-10-30T06:05:03.309Z"
   },
   {
    "duration": 132,
    "start_time": "2022-10-30T06:05:03.321Z"
   },
   {
    "duration": 0,
    "start_time": "2022-10-30T06:05:03.455Z"
   },
   {
    "duration": 0,
    "start_time": "2022-10-30T06:05:03.456Z"
   },
   {
    "duration": 0,
    "start_time": "2022-10-30T06:05:03.458Z"
   },
   {
    "duration": 0,
    "start_time": "2022-10-30T06:05:03.459Z"
   },
   {
    "duration": 0,
    "start_time": "2022-10-30T06:05:03.461Z"
   },
   {
    "duration": 24386,
    "start_time": "2022-10-30T06:11:10.465Z"
   },
   {
    "duration": 49,
    "start_time": "2022-10-30T06:12:59.638Z"
   },
   {
    "duration": 26263,
    "start_time": "2022-10-30T06:13:22.357Z"
   },
   {
    "duration": 34,
    "start_time": "2022-10-30T06:13:48.621Z"
   },
   {
    "duration": 19,
    "start_time": "2022-10-30T06:14:30.393Z"
   },
   {
    "duration": 9,
    "start_time": "2022-10-30T06:14:31.486Z"
   },
   {
    "duration": 242,
    "start_time": "2022-10-30T06:14:32.054Z"
   },
   {
    "duration": 11,
    "start_time": "2022-10-30T06:15:19.654Z"
   },
   {
    "duration": 11,
    "start_time": "2022-10-30T06:15:32.214Z"
   },
   {
    "duration": 10,
    "start_time": "2022-10-30T06:15:35.738Z"
   },
   {
    "duration": 10,
    "start_time": "2022-10-30T06:15:39.914Z"
   },
   {
    "duration": 10,
    "start_time": "2022-10-30T06:15:49.102Z"
   },
   {
    "duration": 1350,
    "start_time": "2022-10-30T06:16:58.754Z"
   },
   {
    "duration": 63,
    "start_time": "2022-10-30T06:17:00.106Z"
   },
   {
    "duration": 4,
    "start_time": "2022-10-30T06:17:00.171Z"
   },
   {
    "duration": 15,
    "start_time": "2022-10-30T06:17:00.177Z"
   },
   {
    "duration": 15,
    "start_time": "2022-10-30T06:17:00.193Z"
   },
   {
    "duration": 178,
    "start_time": "2022-10-30T06:17:00.209Z"
   },
   {
    "duration": 19,
    "start_time": "2022-10-30T06:17:00.389Z"
   },
   {
    "duration": 1055,
    "start_time": "2022-10-30T06:17:00.410Z"
   },
   {
    "duration": 11,
    "start_time": "2022-10-30T06:17:01.467Z"
   },
   {
    "duration": 12,
    "start_time": "2022-10-30T06:17:01.481Z"
   },
   {
    "duration": 124,
    "start_time": "2022-10-30T06:17:01.494Z"
   },
   {
    "duration": 480,
    "start_time": "2022-10-30T06:17:01.620Z"
   },
   {
    "duration": 27402,
    "start_time": "2022-10-30T06:17:02.102Z"
   },
   {
    "duration": 236,
    "start_time": "2022-10-30T06:17:29.506Z"
   },
   {
    "duration": 97,
    "start_time": "2022-10-30T06:17:29.744Z"
   },
   {
    "duration": 5,
    "start_time": "2022-10-30T06:17:29.844Z"
   },
   {
    "duration": 5,
    "start_time": "2022-10-30T06:17:29.851Z"
   },
   {
    "duration": 12,
    "start_time": "2022-10-30T06:17:29.858Z"
   },
   {
    "duration": 4,
    "start_time": "2022-10-30T06:17:29.872Z"
   },
   {
    "duration": 70,
    "start_time": "2022-10-30T06:17:29.877Z"
   },
   {
    "duration": 645,
    "start_time": "2022-10-30T06:17:29.948Z"
   },
   {
    "duration": 268,
    "start_time": "2022-10-30T06:17:30.595Z"
   },
   {
    "duration": 42304,
    "start_time": "2022-10-30T06:17:30.865Z"
   },
   {
    "duration": 17634,
    "start_time": "2022-10-30T06:18:13.171Z"
   },
   {
    "duration": 240,
    "start_time": "2022-10-30T06:18:30.807Z"
   },
   {
    "duration": 398,
    "start_time": "2022-10-30T06:18:31.049Z"
   },
   {
    "duration": 200,
    "start_time": "2022-10-30T06:18:31.449Z"
   },
   {
    "duration": 25,
    "start_time": "2022-10-30T06:18:31.653Z"
   },
   {
    "duration": 8,
    "start_time": "2022-10-30T06:18:31.679Z"
   },
   {
    "duration": 19,
    "start_time": "2022-10-30T06:18:31.688Z"
   },
   {
    "duration": 35,
    "start_time": "2022-10-30T06:18:31.709Z"
   },
   {
    "duration": 102,
    "start_time": "2022-10-30T06:18:31.748Z"
   },
   {
    "duration": 303,
    "start_time": "2022-10-30T06:18:31.852Z"
   },
   {
    "duration": 34,
    "start_time": "2022-10-30T06:18:32.157Z"
   },
   {
    "duration": 5246,
    "start_time": "2022-10-30T06:18:32.193Z"
   },
   {
    "duration": 27,
    "start_time": "2022-10-30T06:18:37.441Z"
   },
   {
    "duration": 3868,
    "start_time": "2022-10-30T06:20:49.087Z"
   },
   {
    "duration": 4150,
    "start_time": "2022-10-30T06:21:25.992Z"
   },
   {
    "duration": 3992,
    "start_time": "2022-10-30T06:22:01.455Z"
   },
   {
    "duration": 13,
    "start_time": "2022-10-30T06:27:06.528Z"
   },
   {
    "duration": 1388,
    "start_time": "2022-10-30T06:27:26.813Z"
   },
   {
    "duration": 66,
    "start_time": "2022-10-30T06:27:28.203Z"
   },
   {
    "duration": 6,
    "start_time": "2022-10-30T06:27:28.271Z"
   },
   {
    "duration": 13,
    "start_time": "2022-10-30T06:27:28.279Z"
   },
   {
    "duration": 11,
    "start_time": "2022-10-30T06:27:28.294Z"
   },
   {
    "duration": 211,
    "start_time": "2022-10-30T06:27:28.307Z"
   },
   {
    "duration": 32,
    "start_time": "2022-10-30T06:27:28.520Z"
   },
   {
    "duration": 986,
    "start_time": "2022-10-30T06:27:28.554Z"
   },
   {
    "duration": 8,
    "start_time": "2022-10-30T06:27:29.542Z"
   },
   {
    "duration": 10,
    "start_time": "2022-10-30T06:27:29.553Z"
   },
   {
    "duration": 114,
    "start_time": "2022-10-30T06:27:29.564Z"
   },
   {
    "duration": 446,
    "start_time": "2022-10-30T06:27:29.680Z"
   },
   {
    "duration": 26888,
    "start_time": "2022-10-30T06:27:30.127Z"
   },
   {
    "duration": 326,
    "start_time": "2022-10-30T06:27:57.016Z"
   },
   {
    "duration": 101,
    "start_time": "2022-10-30T06:27:57.344Z"
   },
   {
    "duration": 14,
    "start_time": "2022-10-30T06:27:57.447Z"
   },
   {
    "duration": 4,
    "start_time": "2022-10-30T06:27:57.463Z"
   },
   {
    "duration": 13,
    "start_time": "2022-10-30T06:27:57.468Z"
   },
   {
    "duration": 4,
    "start_time": "2022-10-30T06:27:57.482Z"
   },
   {
    "duration": 58,
    "start_time": "2022-10-30T06:27:57.488Z"
   },
   {
    "duration": 602,
    "start_time": "2022-10-30T06:27:57.547Z"
   },
   {
    "duration": 260,
    "start_time": "2022-10-30T06:27:58.151Z"
   },
   {
    "duration": 40999,
    "start_time": "2022-10-30T06:27:58.413Z"
   },
   {
    "duration": 16901,
    "start_time": "2022-10-30T06:28:39.414Z"
   },
   {
    "duration": 329,
    "start_time": "2022-10-30T06:28:56.317Z"
   },
   {
    "duration": 211,
    "start_time": "2022-10-30T06:28:56.738Z"
   },
   {
    "duration": 102,
    "start_time": "2022-10-30T06:28:57.040Z"
   },
   {
    "duration": 29,
    "start_time": "2022-10-30T06:28:57.147Z"
   },
   {
    "duration": 10,
    "start_time": "2022-10-30T06:28:57.179Z"
   },
   {
    "duration": 22,
    "start_time": "2022-10-30T06:28:57.191Z"
   },
   {
    "duration": 179,
    "start_time": "2022-10-30T06:28:57.215Z"
   },
   {
    "duration": 0,
    "start_time": "2022-10-30T06:28:57.396Z"
   },
   {
    "duration": 0,
    "start_time": "2022-10-30T06:28:57.398Z"
   },
   {
    "duration": 0,
    "start_time": "2022-10-30T06:28:57.399Z"
   },
   {
    "duration": 0,
    "start_time": "2022-10-30T06:28:57.401Z"
   },
   {
    "duration": 0,
    "start_time": "2022-10-30T06:28:57.402Z"
   },
   {
    "duration": 10,
    "start_time": "2022-10-30T06:31:32.853Z"
   },
   {
    "duration": 9,
    "start_time": "2022-10-30T06:31:47.276Z"
   },
   {
    "duration": 18,
    "start_time": "2022-10-30T06:31:48.661Z"
   },
   {
    "duration": 10,
    "start_time": "2022-10-30T06:31:49.717Z"
   },
   {
    "duration": 7,
    "start_time": "2022-10-30T06:31:50.906Z"
   },
   {
    "duration": 235,
    "start_time": "2022-10-30T06:31:52.149Z"
   },
   {
    "duration": 28,
    "start_time": "2022-10-30T06:31:55.741Z"
   },
   {
    "duration": 3990,
    "start_time": "2022-10-30T06:31:59.150Z"
   },
   {
    "duration": 1388,
    "start_time": "2022-10-30T06:32:14.964Z"
   },
   {
    "duration": 64,
    "start_time": "2022-10-30T06:32:16.353Z"
   },
   {
    "duration": 4,
    "start_time": "2022-10-30T06:32:16.419Z"
   },
   {
    "duration": 12,
    "start_time": "2022-10-30T06:32:16.425Z"
   },
   {
    "duration": 11,
    "start_time": "2022-10-30T06:32:16.438Z"
   },
   {
    "duration": 189,
    "start_time": "2022-10-30T06:32:16.451Z"
   },
   {
    "duration": 18,
    "start_time": "2022-10-30T06:32:16.641Z"
   },
   {
    "duration": 1087,
    "start_time": "2022-10-30T06:32:16.661Z"
   },
   {
    "duration": 9,
    "start_time": "2022-10-30T06:32:17.750Z"
   },
   {
    "duration": 11,
    "start_time": "2022-10-30T06:32:17.762Z"
   },
   {
    "duration": 113,
    "start_time": "2022-10-30T06:32:17.774Z"
   },
   {
    "duration": 454,
    "start_time": "2022-10-30T06:32:17.888Z"
   },
   {
    "duration": 27113,
    "start_time": "2022-10-30T06:32:18.343Z"
   },
   {
    "duration": 182,
    "start_time": "2022-10-30T06:32:45.459Z"
   },
   {
    "duration": 98,
    "start_time": "2022-10-30T06:32:45.643Z"
   },
   {
    "duration": 6,
    "start_time": "2022-10-30T06:32:45.743Z"
   },
   {
    "duration": 8,
    "start_time": "2022-10-30T06:32:45.751Z"
   },
   {
    "duration": 14,
    "start_time": "2022-10-30T06:32:45.761Z"
   },
   {
    "duration": 4,
    "start_time": "2022-10-30T06:32:45.778Z"
   },
   {
    "duration": 12,
    "start_time": "2022-10-30T06:32:45.783Z"
   },
   {
    "duration": 626,
    "start_time": "2022-10-30T06:32:45.797Z"
   },
   {
    "duration": 242,
    "start_time": "2022-10-30T06:32:46.425Z"
   },
   {
    "duration": 41849,
    "start_time": "2022-10-30T06:32:46.668Z"
   },
   {
    "duration": 16990,
    "start_time": "2022-10-30T06:33:28.519Z"
   },
   {
    "duration": 332,
    "start_time": "2022-10-30T06:33:45.510Z"
   },
   {
    "duration": 297,
    "start_time": "2022-10-30T06:33:45.844Z"
   },
   {
    "duration": 96,
    "start_time": "2022-10-30T06:33:46.144Z"
   },
   {
    "duration": 25,
    "start_time": "2022-10-30T06:33:46.244Z"
   },
   {
    "duration": 7,
    "start_time": "2022-10-30T06:33:46.271Z"
   },
   {
    "duration": 20,
    "start_time": "2022-10-30T06:33:46.280Z"
   },
   {
    "duration": 47,
    "start_time": "2022-10-30T06:33:46.301Z"
   },
   {
    "duration": 95,
    "start_time": "2022-10-30T06:33:46.351Z"
   },
   {
    "duration": 332,
    "start_time": "2022-10-30T06:33:46.448Z"
   },
   {
    "duration": 30,
    "start_time": "2022-10-30T06:33:46.782Z"
   },
   {
    "duration": 4326,
    "start_time": "2022-10-30T06:33:46.814Z"
   },
   {
    "duration": 103,
    "start_time": "2022-10-30T06:33:51.147Z"
   },
   {
    "duration": 359,
    "start_time": "2022-10-30T06:35:48.245Z"
   },
   {
    "duration": 300,
    "start_time": "2022-10-30T06:35:57.005Z"
   },
   {
    "duration": 251,
    "start_time": "2022-10-30T06:38:54.854Z"
   },
   {
    "duration": 245,
    "start_time": "2022-10-30T06:39:14.179Z"
   },
   {
    "duration": 30,
    "start_time": "2022-10-30T11:07:21.336Z"
   },
   {
    "duration": 270,
    "start_time": "2022-10-30T11:07:28.973Z"
   },
   {
    "duration": 1362,
    "start_time": "2022-10-30T11:07:37.392Z"
   },
   {
    "duration": 65,
    "start_time": "2022-10-30T11:07:38.756Z"
   },
   {
    "duration": 4,
    "start_time": "2022-10-30T11:07:38.822Z"
   },
   {
    "duration": 16,
    "start_time": "2022-10-30T11:07:38.829Z"
   },
   {
    "duration": 14,
    "start_time": "2022-10-30T11:07:38.847Z"
   },
   {
    "duration": 193,
    "start_time": "2022-10-30T11:07:38.863Z"
   },
   {
    "duration": 18,
    "start_time": "2022-10-30T11:07:39.057Z"
   },
   {
    "duration": 1038,
    "start_time": "2022-10-30T11:07:39.076Z"
   },
   {
    "duration": 9,
    "start_time": "2022-10-30T11:07:40.116Z"
   },
   {
    "duration": 12,
    "start_time": "2022-10-30T11:07:40.138Z"
   },
   {
    "duration": 124,
    "start_time": "2022-10-30T11:07:40.152Z"
   },
   {
    "duration": 503,
    "start_time": "2022-10-30T11:07:40.277Z"
   },
   {
    "duration": 27609,
    "start_time": "2022-10-30T11:07:40.782Z"
   },
   {
    "duration": 146,
    "start_time": "2022-10-30T11:08:08.393Z"
   },
   {
    "duration": 107,
    "start_time": "2022-10-30T11:08:08.541Z"
   },
   {
    "duration": 6,
    "start_time": "2022-10-30T11:08:08.650Z"
   },
   {
    "duration": 9,
    "start_time": "2022-10-30T11:08:08.657Z"
   },
   {
    "duration": 14,
    "start_time": "2022-10-30T11:08:08.667Z"
   },
   {
    "duration": 4,
    "start_time": "2022-10-30T11:08:08.682Z"
   },
   {
    "duration": 15,
    "start_time": "2022-10-30T11:08:08.687Z"
   },
   {
    "duration": 632,
    "start_time": "2022-10-30T11:08:08.703Z"
   },
   {
    "duration": 257,
    "start_time": "2022-10-30T11:08:09.338Z"
   },
   {
    "duration": 42389,
    "start_time": "2022-10-30T11:08:09.596Z"
   },
   {
    "duration": 17421,
    "start_time": "2022-10-30T11:08:51.987Z"
   },
   {
    "duration": 333,
    "start_time": "2022-10-30T11:09:09.409Z"
   },
   {
    "duration": 301,
    "start_time": "2022-10-30T11:09:09.745Z"
   },
   {
    "duration": 103,
    "start_time": "2022-10-30T11:09:10.049Z"
   },
   {
    "duration": 53,
    "start_time": "2022-10-30T11:09:10.241Z"
   },
   {
    "duration": 8,
    "start_time": "2022-10-30T11:09:10.296Z"
   },
   {
    "duration": 20,
    "start_time": "2022-10-30T11:09:10.305Z"
   },
   {
    "duration": 12,
    "start_time": "2022-10-30T11:09:10.327Z"
   },
   {
    "duration": 99,
    "start_time": "2022-10-30T11:09:10.342Z"
   },
   {
    "duration": 372,
    "start_time": "2022-10-30T11:09:10.444Z"
   },
   {
    "duration": 264,
    "start_time": "2022-10-30T11:09:10.817Z"
   },
   {
    "duration": 3863,
    "start_time": "2022-10-30T11:09:11.083Z"
   },
   {
    "duration": 109,
    "start_time": "2022-10-30T11:09:14.949Z"
   },
   {
    "duration": 1617,
    "start_time": "2022-10-30T11:11:05.774Z"
   },
   {
    "duration": 77,
    "start_time": "2022-10-30T11:11:07.394Z"
   },
   {
    "duration": 5,
    "start_time": "2022-10-30T11:11:07.473Z"
   },
   {
    "duration": 12,
    "start_time": "2022-10-30T11:11:07.480Z"
   },
   {
    "duration": 12,
    "start_time": "2022-10-30T11:11:07.493Z"
   },
   {
    "duration": 192,
    "start_time": "2022-10-30T11:11:07.506Z"
   },
   {
    "duration": 17,
    "start_time": "2022-10-30T11:11:07.699Z"
   },
   {
    "duration": 1031,
    "start_time": "2022-10-30T11:11:07.718Z"
   },
   {
    "duration": 10,
    "start_time": "2022-10-30T11:11:08.750Z"
   },
   {
    "duration": 12,
    "start_time": "2022-10-30T11:11:08.763Z"
   },
   {
    "duration": 137,
    "start_time": "2022-10-30T11:11:08.777Z"
   },
   {
    "duration": 492,
    "start_time": "2022-10-30T11:11:08.916Z"
   },
   {
    "duration": 27184,
    "start_time": "2022-10-30T11:11:09.410Z"
   },
   {
    "duration": 242,
    "start_time": "2022-10-30T11:11:36.596Z"
   },
   {
    "duration": 99,
    "start_time": "2022-10-30T11:11:36.841Z"
   },
   {
    "duration": 5,
    "start_time": "2022-10-30T11:11:36.941Z"
   },
   {
    "duration": 8,
    "start_time": "2022-10-30T11:11:36.947Z"
   },
   {
    "duration": 14,
    "start_time": "2022-10-30T11:11:36.956Z"
   },
   {
    "duration": 4,
    "start_time": "2022-10-30T11:11:36.971Z"
   },
   {
    "duration": 11,
    "start_time": "2022-10-30T11:11:36.976Z"
   },
   {
    "duration": 690,
    "start_time": "2022-10-30T11:11:36.989Z"
   },
   {
    "duration": 236,
    "start_time": "2022-10-30T11:11:37.681Z"
   },
   {
    "duration": 41303,
    "start_time": "2022-10-30T11:11:37.919Z"
   },
   {
    "duration": 17016,
    "start_time": "2022-10-30T11:12:19.224Z"
   },
   {
    "duration": 307,
    "start_time": "2022-10-30T11:12:36.241Z"
   },
   {
    "duration": 297,
    "start_time": "2022-10-30T11:12:36.551Z"
   },
   {
    "duration": 102,
    "start_time": "2022-10-30T11:12:36.940Z"
   },
   {
    "duration": 34,
    "start_time": "2022-10-30T11:12:37.045Z"
   },
   {
    "duration": 9,
    "start_time": "2022-10-30T11:12:37.081Z"
   },
   {
    "duration": 18,
    "start_time": "2022-10-30T11:12:37.091Z"
   },
   {
    "duration": 101,
    "start_time": "2022-10-30T11:12:37.141Z"
   },
   {
    "duration": 100,
    "start_time": "2022-10-30T11:12:37.244Z"
   },
   {
    "duration": 274,
    "start_time": "2022-10-30T11:12:37.346Z"
   },
   {
    "duration": 268,
    "start_time": "2022-10-30T11:12:37.622Z"
   },
   {
    "duration": 4048,
    "start_time": "2022-10-30T11:12:37.892Z"
   },
   {
    "duration": 102,
    "start_time": "2022-10-30T11:12:41.942Z"
   }
  ],
  "kernelspec": {
   "display_name": "Python 3 (ipykernel)",
   "language": "python",
   "name": "python3"
  },
  "language_info": {
   "codemirror_mode": {
    "name": "ipython",
    "version": 3
   },
   "file_extension": ".py",
   "mimetype": "text/x-python",
   "name": "python",
   "nbconvert_exporter": "python",
   "pygments_lexer": "ipython3",
   "version": "3.9.12"
  },
  "toc": {
   "base_numbering": 1,
   "nav_menu": {},
   "number_sections": true,
   "sideBar": true,
   "skip_h1_title": true,
   "title_cell": "Содержание",
   "title_sidebar": "Contents",
   "toc_cell": true,
   "toc_position": {
    "height": "calc(100% - 180px)",
    "left": "10px",
    "top": "150px",
    "width": "356.594px"
   },
   "toc_section_display": true,
   "toc_window_display": true
  }
 },
 "nbformat": 4,
 "nbformat_minor": 2
}
